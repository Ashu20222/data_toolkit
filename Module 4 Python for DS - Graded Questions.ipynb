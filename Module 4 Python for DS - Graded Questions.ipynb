{
 "cells": [
  {
   "cell_type": "markdown",
   "id": "6bccad48",
   "metadata": {},
   "source": [
    "# NumPy Graded Questions"
   ]
  },
  {
   "cell_type": "code",
   "execution_count": null,
   "id": "c24e89d8",
   "metadata": {},
   "outputs": [],
   "source": [
    "Index of 50th element\n",
    "Consider an (8, 8) shape NumPy array. What is the index (x,y) of the 50th element?\n",
    "\n",
    "Note: For counting the elements go row-wise. For example, in the array,\n",
    "\n",
    "[[1, 5, 9],\n",
    "\n",
    " [3, 0, 2]]\n",
    "\n",
    "the 5th element would be '0'.\n",
    "\n",
    "\n",
    "(6, 1)   ✓ Correct"
   ]
  },
  {
   "cell_type": "markdown",
   "id": "57a40237",
   "metadata": {},
   "source": []
  },
  {
   "cell_type": "code",
   "execution_count": null,
   "id": "a9f151b7",
   "metadata": {},
   "outputs": [],
   "source": [
    "Slicing Arrays\n",
    "Which of the following would extract all the first 3 rows of the last 5 columns in a given numpy 2D array ‘a’?\n",
    "\n",
    "\n",
    "a[ :3, :5 ]\n",
    "\n",
    "\n",
    "a[ :3 , 5: ] \n",
    "\n",
    "\n",
    "a[ :3 , :-5 ]\n",
    "\n",
    "\n",
    "a[ :3 , -5: ]    ✓ Correct"
   ]
  },
  {
   "cell_type": "markdown",
   "id": "446b5a92",
   "metadata": {},
   "source": []
  },
  {
   "cell_type": "code",
   "execution_count": null,
   "id": "ac4d3739",
   "metadata": {},
   "outputs": [],
   "source": [
    "So Many Functions\n",
    "What will the output of np.arange(1,16,2).reshape(4, 2) be?\n",
    "\n",
    "\n",
    "[[ 1,  3],\n",
    "  [ 5,  7],\n",
    "  [ 9, 11],\n",
    "  [13, 15]]\n",
    "\n",
    "✓ Correct"
   ]
  },
  {
   "cell_type": "markdown",
   "id": "89401a26",
   "metadata": {},
   "source": []
  },
  {
   "cell_type": "markdown",
   "id": "25edf3dc",
   "metadata": {},
   "source": [
    "Print \"+\"\n",
    "Description\n",
    "Given a single positive odd integer 'n' greater than 2, create a NumPy array of size (n x n) with all zeros and ones such that the ones make a shape like '+'. The lines of the plus must be present at the middle row and column.\n",
    "\n",
    "\n",
    "\n",
    "Hint: Start by creating a (n x n) array with all zeroes using the np.zeros() function and then fill in the ones at the appropriate indices. Use integer division (//) to access the middle rows and columns"
   ]
  },
  {
   "cell_type": "code",
   "execution_count": null,
   "id": "e9f274c5",
   "metadata": {},
   "outputs": [],
   "source": [
    "\n",
    "n = int(input())\n",
    "\n",
    "import numpy as np \n",
    "\n",
    "x=np.zeros((n,n),dtype=int)\n",
    "t=n//2\n",
    "x[t,:]=1\n",
    "x[:,t]=1\n",
    "print(x)\n",
    "\n",
    "\n",
    "\n"
   ]
  },
  {
   "cell_type": "code",
   "execution_count": null,
   "id": "19c2e1aa",
   "metadata": {},
   "outputs": [],
   "source": []
  },
  {
   "cell_type": "markdown",
   "id": "4b8f42bf",
   "metadata": {},
   "source": [
    "# Pandas Graded Questions"
   ]
  },
  {
   "cell_type": "code",
   "execution_count": null,
   "id": "d1bcc1b5",
   "metadata": {},
   "outputs": [],
   "source": [
    "Combining data frames\n",
    "Read the .csv files MegaMart_sales and MegaMart_new sales into two separate dataframes, combine them and store it into a new dataframe. Find the total sales value of the category 'Office Supplies'  after combining the dataframes.\n",
    " \n",
    "\n",
    "\n",
    "7970   ✓ Correct"
   ]
  },
  {
   "cell_type": "markdown",
   "id": "48da67f5",
   "metadata": {},
   "source": []
  },
  {
   "cell_type": "code",
   "execution_count": null,
   "id": "8a7b7aee",
   "metadata": {},
   "outputs": [],
   "source": [
    "Dropping duplicates\n",
    "There are some duplicate rows in the combined data frame. Drop these rows and calculate the total sales value of the category Office Supplies.\n",
    "\n",
    "Hint: Use the drop_duplicates() function in Pandas.\n",
    "\n",
    "\n",
    "7156\n",
    "\n",
    "\n",
    "6496\n",
    "\n",
    "\n",
    "6964   ✓ Correct"
   ]
  },
  {
   "cell_type": "markdown",
   "id": "c925a490",
   "metadata": {},
   "source": []
  },
  {
   "cell_type": "code",
   "execution_count": null,
   "id": "11e0edf7",
   "metadata": {},
   "outputs": [],
   "source": [
    "Best Category-Sub category\n",
    " Find the most profitable category and subcategory combination based on the net profit.\n",
    "\n",
    "Note: Use duplicates dropped data frame\n",
    "\n",
    "\n",
    "Furniture-Bookcases\n",
    "\n",
    "\n",
    "Office supplies-Appliances\n",
    "\n",
    "\n",
    "Office supplies-Storage\n",
    "\n",
    "\n",
    "Technology-Phones    ✓ Correct"
   ]
  },
  {
   "cell_type": "markdown",
   "id": "c5a79933",
   "metadata": {},
   "source": []
  },
  {
   "cell_type": "code",
   "execution_count": null,
   "id": "e321fa2d",
   "metadata": {},
   "outputs": [],
   "source": [
    "Invalid order IDs\n",
    "How many invalid Order IDs are there in the data frame. Order ID is of the form AZ-2011-Y where Y represents a whole number. An Order ID is said to be valid only if Y consists of 7 digits. Find the number of invalid order IDs in the data frame.\n",
    "\n",
    "Note: Use duplicates dropped data frame\n",
    "\n",
    "\n",
    "6\n",
    "\n",
    "\n",
    "7   ✓ Correct\n"
   ]
  },
  {
   "cell_type": "markdown",
   "id": "76bb8942",
   "metadata": {},
   "source": []
  },
  {
   "cell_type": "code",
   "execution_count": null,
   "id": "1aaca7d0",
   "metadata": {},
   "outputs": [],
   "source": [
    "Occurence of furniture in top 25 sales\n",
    "Find the top 25 orders based on sales value and find the number of orders which belong to furniture category.\n",
    "\n",
    "Note: Use duplicates dropped data frame\n",
    "\n",
    "\n",
    "2\n",
    "\n",
    "\n",
    "3\n",
    "\n",
    "\n",
    "4\n",
    "\n",
    "\n",
    "5    ✓ Correct"
   ]
  },
  {
   "cell_type": "markdown",
   "id": "ad5da375",
   "metadata": {},
   "source": []
  },
  {
   "cell_type": "code",
   "execution_count": null,
   "id": "8df7d0a3",
   "metadata": {},
   "outputs": [],
   "source": [
    "Multiple conditions\n",
    "Among the orders with sales>250 and profit>50, find the product name of the fourth highest order based on sales value.\n",
    "\n",
    "Note: Use duplicates dropped data frame\n",
    "\n",
    "\n",
    "Motorola Headset, with Caller ID    ✓ Correct"
   ]
  },
  {
   "cell_type": "markdown",
   "id": "5cb590bb",
   "metadata": {},
   "source": []
  },
  {
   "cell_type": "code",
   "execution_count": null,
   "id": "82a33d40",
   "metadata": {},
   "outputs": [],
   "source": [
    "Column manipulation\n",
    "Remove the orders with negative profit by dropping the corresponding rows with negative Profit or no Profit. Now, among the entries with non-negative profit, find the product that makes the lowest profit per Quantity in the Technology category.\n",
    "\n",
    "Note: Use duplicates dropped data frame\n",
    "\n",
    "\n",
    "Nokia Audio Dock, with Caller ID\n",
    "\n",
    "\n",
    "Logitech Keyboard, Programmable    ✓ Correct"
   ]
  },
  {
   "cell_type": "markdown",
   "id": "2d0d9d2e",
   "metadata": {},
   "source": []
  },
  {
   "cell_type": "code",
   "execution_count": 2,
   "id": "87227de5",
   "metadata": {},
   "outputs": [],
   "source": [
    "import jovian"
   ]
  },
  {
   "cell_type": "code",
   "execution_count": 1,
   "id": "2dc15a2c",
   "metadata": {},
   "outputs": [
    {
     "data": {
      "application/javascript": [
       "window.require && require([\"base/js/namespace\"],function(Jupyter){Jupyter.notebook.save_checkpoint()})"
      ],
      "text/plain": [
       "<IPython.core.display.Javascript object>"
      ]
     },
     "metadata": {},
     "output_type": "display_data"
    },
    {
     "name": "stdout",
     "output_type": "stream",
     "text": [
      "[jovian] Committed successfully! https://jovian.ai/ashutoshgole18/module-4-python-for-ds-graded-questions\u001b[0m\n"
     ]
    },
    {
     "data": {
      "text/plain": [
       "'https://jovian.ai/ashutoshgole18/module-4-python-for-ds-graded-questions'"
      ]
     },
     "execution_count": 1,
     "metadata": {},
     "output_type": "execute_result"
    }
   ],
   "source": [
    "jovian.commit()"
   ]
  },
  {
   "cell_type": "code",
   "execution_count": null,
   "id": "9ff50402",
   "metadata": {},
   "outputs": [],
   "source": []
  }
 ],
 "metadata": {
  "kernelspec": {
   "display_name": "Python 3 (ipykernel)",
   "language": "python",
   "name": "python3"
  },
  "language_info": {
   "codemirror_mode": {
    "name": "ipython",
    "version": 3
   },
   "file_extension": ".py",
   "mimetype": "text/x-python",
   "name": "python",
   "nbconvert_exporter": "python",
   "pygments_lexer": "ipython3",
   "version": "3.9.7"
  }
 },
 "nbformat": 4,
 "nbformat_minor": 5
}
