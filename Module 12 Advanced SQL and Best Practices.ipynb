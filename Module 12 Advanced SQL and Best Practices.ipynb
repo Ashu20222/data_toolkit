{
 "cells": [
  {
   "cell_type": "markdown",
   "id": "5f0fe9d3",
   "metadata": {},
   "source": [
    "# Window Functions"
   ]
  },
  {
   "cell_type": "markdown",
   "id": "9eec6ac8",
   "metadata": {},
   "source": [
    "## Rank Functions - I"
   ]
  },
  {
   "cell_type": "markdown",
   "id": "ddacbcbb",
   "metadata": {},
   "source": [
    "Most Available Products\n",
    "Description\n",
    "Given a table named products with the following columns.\n",
    "\n",
    "\n",
    "\n",
    "\n",
    "\n",
    "\n",
    "\n",
    "Write a query to retrieve the ranks of the products in decreasing order of their quantities in stock.\n",
    "\n",
    "ans:\n",
    "    \n",
    "use upgrad;\n",
    "\n",
    "select quantityInStock,\n",
    "rank() over (order by quantityInStock desc) as quantityRank\n",
    "from products;"
   ]
  },
  {
   "cell_type": "code",
   "execution_count": null,
   "id": "5735ccf0",
   "metadata": {},
   "outputs": [],
   "source": []
  },
  {
   "cell_type": "markdown",
   "id": "a5f9fb51",
   "metadata": {},
   "source": [
    "## Rank Functions - II"
   ]
  },
  {
   "cell_type": "markdown",
   "id": "d32cc877",
   "metadata": {},
   "source": [
    "Rank Functions\n",
    "Which of the following is not a rank function in MySQL Workbench?\n",
    "\n",
    "\n",
    "RANK()\n",
    "\n",
    "\n",
    "DENSE_RANK()\n",
    "\n",
    "\n",
    "PRECEDING_RANK()   ✓ Correct"
   ]
  },
  {
   "cell_type": "code",
   "execution_count": null,
   "id": "12115fdb",
   "metadata": {},
   "outputs": [],
   "source": []
  },
  {
   "cell_type": "markdown",
   "id": "4a34c860",
   "metadata": {},
   "source": [
    "Movie Ranks\n",
    "Given below is a table containing the top 10 movies according to their IMDb ratings.\n",
    "\n",
    "Find the values (A, B).\n",
    "\n",
    "\n",
    "(5, 6)\n",
    "\n",
    "\n",
    "(5, 9)   ✓ Correct"
   ]
  },
  {
   "cell_type": "code",
   "execution_count": null,
   "id": "60a697fc",
   "metadata": {},
   "outputs": [],
   "source": []
  },
  {
   "cell_type": "markdown",
   "id": "06861ca8",
   "metadata": {},
   "source": [
    "## Partitioning"
   ]
  },
  {
   "cell_type": "markdown",
   "id": "304ff9f8",
   "metadata": {},
   "source": [
    "Window Functions\n",
    "Which of the following statements is true for window functions? More than one option may be correct.\n",
    "\n",
    "\n",
    "They compute a value for each and every row in the window.    ✓ Correct\n",
    "\n",
    "They reduce the result set based on the aggregation.\n",
    "\n",
    "They require the 'over' clause.   ✓ Correct\n",
    "\n",
    "Window partitions can be defined to form groups of rows.    ✓ Correct"
   ]
  },
  {
   "cell_type": "code",
   "execution_count": null,
   "id": "7e3bc7d1",
   "metadata": {},
   "outputs": [],
   "source": []
  },
  {
   "cell_type": "markdown",
   "id": "88120beb",
   "metadata": {},
   "source": [
    "Individual and Total Order Amounts\n",
    "Description\n",
    "Given a table named orderdetails with the following columns\n",
    "\n",
    "ans:\n",
    "    \n",
    "use upgrad;\n",
    "\n",
    "select orderNumber, quantityOrdered * priceEach as individualOrderAmount,\n",
    "sum(quantityOrdered * priceEach) over (partition by orderNumber) as totalOrderAmount\n",
    "from orderdetails\n",
    "order by orderNumber, individualOrderAmount desc;"
   ]
  },
  {
   "cell_type": "code",
   "execution_count": null,
   "id": "9f1d2609",
   "metadata": {},
   "outputs": [],
   "source": []
  },
  {
   "cell_type": "markdown",
   "id": "b35d5726",
   "metadata": {},
   "source": [
    "## Named Windows"
   ]
  },
  {
   "cell_type": "markdown",
   "id": "6fd82399",
   "metadata": {},
   "source": [
    "Using Named Windows\n",
    "Rewrite the following query using a named window:\n",
    "\n",
    "ans:\n",
    "        \n",
    "SELECT *,\n",
    "RANK() OVER w 'Rank',\n",
    "DENSE_RANK() OVER w 'Dense Rank',\n",
    "PERCENT_RANK() OVER w 'Percent Rank'\n",
    "FROM shipping_dimen\n",
    "WINDOW w AS (\n",
    "  PARTITION BY ship_mode\n",
    "  ORDER BY COUNT(*)\n",
    ");"
   ]
  },
  {
   "cell_type": "code",
   "execution_count": null,
   "id": "39d12e9d",
   "metadata": {},
   "outputs": [],
   "source": []
  },
  {
   "cell_type": "markdown",
   "id": "a1c2a025",
   "metadata": {},
   "source": [
    "## Frames - I"
   ]
  },
  {
   "cell_type": "markdown",
   "id": "0dde7283",
   "metadata": {},
   "source": [
    "Kohli - The Batting Behemoth\n",
    "The table given below contains the runs scored by Virat Kohli over the time period 2015-2019. It also contains the moving averages of the runs (rounded to the nearest integer) calculated using the 'unbounded preceding' keywords in SQL. Identify the year that contains the incorrect value for the moving average.\n",
    "\n",
    "2016\n",
    "\n",
    "\n",
    "2017\n",
    "\n",
    "\n",
    "2018    ✓ Correct"
   ]
  },
  {
   "cell_type": "code",
   "execution_count": null,
   "id": "1b16f7f0",
   "metadata": {},
   "outputs": [],
   "source": []
  },
  {
   "cell_type": "markdown",
   "id": "178da845",
   "metadata": {},
   "source": [
    "Kohli in ODIs\n",
    "Description\n",
    "The table given below contains the number of runs scored by Virat Kohli over the time period 2008-2019. Add another column which displays the 5-year moving average of the number of runs scored.\n",
    "\n",
    "ans:\n",
    "    \n",
    "use upgrad;\n",
    "\n",
    "select *, avg(runs) over (order by year rows 4 preceding) '5 Year Moving Average'\n",
    "from kohli_batting;"
   ]
  },
  {
   "cell_type": "code",
   "execution_count": null,
   "id": "56254159",
   "metadata": {},
   "outputs": [],
   "source": []
  },
  {
   "cell_type": "markdown",
   "id": "95aeea5c",
   "metadata": {},
   "source": [
    "## Frames - II"
   ]
  },
  {
   "cell_type": "markdown",
   "id": "4d6bf80e",
   "metadata": {},
   "source": [
    "Defining Frames - 1\n",
    "Consider the example given in the video.\n",
    "\n",
    "\n",
    "\n",
    "What is the range of rows that will be selected if you write the following frame clause? (Assume that the current row is Row 6)\n",
    "\n",
    "ORDER BY X ROWS 4 FOLLOWING\n",
    "\n",
    "ans:\n",
    "    \n",
    "Row 6 to Row 9\n",
    "\n",
    "\n",
    "Row 7 to Row 10    ✓ Correct"
   ]
  },
  {
   "cell_type": "code",
   "execution_count": null,
   "id": "70db0aed",
   "metadata": {},
   "outputs": [],
   "source": []
  },
  {
   "cell_type": "markdown",
   "id": "b87beb00",
   "metadata": {},
   "source": [
    "Defining Frames - 2\n",
    "Consider the example given in the video.\n",
    "\n",
    "\n",
    "\n",
    "What is the range of rows that will be selected if you write the following frame clause? (Assume that the current row is Row 6)\n",
    "\n",
    "ORDER BY X ROWS\n",
    "BETWEEN 2 PRECEDING AND 3 FOLLOWING\n",
    "\n",
    "ans:\n",
    "    \n",
    "Row 3 to Row 8\n",
    "\n",
    "\n",
    "Row 4 to Row 8\n",
    "\n",
    "\n",
    "Row 4 to Row 9   ✓ Correct"
   ]
  },
  {
   "cell_type": "code",
   "execution_count": null,
   "id": "3d28b83f",
   "metadata": {},
   "outputs": [],
   "source": []
  },
  {
   "cell_type": "markdown",
   "id": "4a373a0a",
   "metadata": {},
   "source": [
    "Defining Frames - 3\n",
    "Consider the example given in the video.\n",
    "\n",
    "\n",
    "What is the range of rows that will be selected if you write the following frame clause? (Assume that the current row is Row 6)\n",
    "\n",
    "ORDER BY X DESC ROWS\n",
    "BETWEEN UNBOUNDED PRECEDING AND 2 FOLLOWING\n",
    "\n",
    "\n",
    "ans:\n",
    "    \n",
    "Row 1 to Row 8\n",
    "\n",
    "\n",
    "Row 4 to Row 11    ✓ Correct"
   ]
  },
  {
   "cell_type": "code",
   "execution_count": null,
   "id": "0d3178ca",
   "metadata": {},
   "outputs": [],
   "source": []
  },
  {
   "cell_type": "markdown",
   "id": "5c88ec5e",
   "metadata": {},
   "source": [
    "# Case Statements, Stored Routines and Cursors"
   ]
  },
  {
   "cell_type": "markdown",
   "id": "085e9261",
   "metadata": {},
   "source": [
    "## Case Statements - I"
   ]
  },
  {
   "cell_type": "markdown",
   "id": "13846060",
   "metadata": {},
   "source": [
    "Case Statement\n",
    "Which of the following describes a case statement?\n",
    "\n",
    "\n",
    "It is a way to establish a loop in SQL.\n",
    "\n",
    "\n",
    "It is a way to establish an IF-THEN-ELSE in SQL.   ✓ Correct"
   ]
  },
  {
   "cell_type": "code",
   "execution_count": null,
   "id": "5c40f252",
   "metadata": {},
   "outputs": [],
   "source": []
  },
  {
   "cell_type": "markdown",
   "id": "9f2e17f4",
   "metadata": {},
   "source": [
    "Case Statement Output\n",
    "Consider a table named 'marks', which has nine columns, as shown below:\n",
    "\n",
    "name: Name of the student\n",
    "\n",
    "semester_1: Average marks in the first semester\n",
    "\n",
    "semester_2: Average marks in the second semester\n",
    "\n",
    "semester_3: Average marks in the third semester\n",
    "\n",
    "semester_4: Average marks in the fourth semester\n",
    "\n",
    "semester_5: Average marks in the fifth semester\n",
    "\n",
    "semester_6: Average marks in the sixth semester\n",
    "\n",
    "semester_7: Average marks in the seventh semester\n",
    "\n",
    "semester_8: Average marks in the eighth semester\n",
    "\n",
    " \n",
    "\n",
    "What will be the output of the SQL query mentioned below?\n",
    "\n",
    "SELECT name, \n",
    "( CASE\n",
    "  WHEN semester_1 > semester_2 THEN 'Sem 1'\n",
    "  ELSE 'Sem 2'\n",
    "END) AS 'Sem 1/2'\n",
    "FROM marks;\n",
    " \n",
    "\n",
    "\n",
    "The names of the students and the semester out of 1 and 2 in which a student scored more marks    ✓ Correct"
   ]
  },
  {
   "cell_type": "code",
   "execution_count": null,
   "id": "ee7bad5a",
   "metadata": {},
   "outputs": [],
   "source": []
  },
  {
   "cell_type": "markdown",
   "id": "39ebf40b",
   "metadata": {},
   "source": [
    "## Case Statements - II"
   ]
  },
  {
   "cell_type": "markdown",
   "id": "fdb79ca2",
   "metadata": {},
   "source": [
    "Tax Slabs - 2\n",
    "Description\n",
    "Below is the table for calculating income tax rates for the income tax slabs in India.\n",
    "\n",
    "\n",
    "\n",
    "Tax Rates\n",
    "\n",
    "﻿\n",
    "\n",
    "\n",
    "\n",
    "Here are the annual salary details (in lakhs per annum) of 10 employees working at Google Hyderabad office.\n",
    "\n",
    "Add another column to output the income tax to be paid by each employee. Make sure to round off the tax amounts to the nearest integer. Also, display the tax amount as 0 if the annual salary is less than or equal to 2.5 lakhs per annum.\n",
    "\n",
    "\n",
    "\n",
    "Note: Consider the name of the column having the salaries as 'salary'.\n",
    "\n",
    "\n",
    "ans:\n",
    "    \n",
    "use upgrad;\n",
    "\n",
    "select *,\n",
    "round(case\n",
    "when salary <= 2.5 \n",
    "then 0\n",
    "when salary > 2.5 and salary <= 5 \n",
    "then 0.05 * (salary - 2.5) * pow(10,5)\n",
    "when salary > 5 and salary <= 10 \n",
    "then (0.125 + 0.2 * (salary - 5)) * pow(10,5)\n",
    "when salary > 10 \n",
    "then (1.125 + 0.3 * (salary - 10)) * pow(10,5) end) as 'Tax Amounts'\n",
    "from salaries;"
   ]
  },
  {
   "cell_type": "code",
   "execution_count": null,
   "id": "826b18a9",
   "metadata": {},
   "outputs": [],
   "source": []
  },
  {
   "cell_type": "markdown",
   "id": "5357da3b",
   "metadata": {},
   "source": [
    "## UDFs"
   ]
  },
  {
   "cell_type": "markdown",
   "id": "6b6c781f",
   "metadata": {},
   "source": [
    "Number of Return Values\n",
    "How many values can be returned from a given stored function?\n",
    "\n",
    "\n",
    "0\n",
    "\n",
    "\n",
    "1    ✓ Correct"
   ]
  },
  {
   "cell_type": "code",
   "execution_count": null,
   "id": "ee1bfcf9",
   "metadata": {},
   "outputs": [],
   "source": []
  },
  {
   "cell_type": "markdown",
   "id": "704c7db2",
   "metadata": {},
   "source": [
    "The Deterministic Keyword\n",
    "Stored functions always return the same result for the same input parameters by default.\n",
    "\n",
    "\n",
    "True\n",
    "\n",
    "\n",
    "False    ✓ Correct"
   ]
  },
  {
   "cell_type": "code",
   "execution_count": null,
   "id": "3082ebcf",
   "metadata": {},
   "outputs": [],
   "source": []
  },
  {
   "cell_type": "markdown",
   "id": "7d7071cb",
   "metadata": {},
   "source": [
    "UDFs vs Case Statements\n",
    "You learnt how to categorise orders based on the profit or loss incurred. This problem statement was solved using two methods - case statements and UDFs. Are there any advantages of using one method over the other? If so, what are they?\n",
    "\n",
    "ans:\n",
    "    \n",
    "A case statement is preferable if you just need to categorise existing data values based on certain parameters.\n",
    "A UDF using case statements is preferable if you need to categorise existing as well as incoming data values based on certain parameters.\n"
   ]
  },
  {
   "cell_type": "code",
   "execution_count": null,
   "id": "e40bc590",
   "metadata": {},
   "outputs": [],
   "source": []
  },
  {
   "cell_type": "markdown",
   "id": "c89a6c82",
   "metadata": {},
   "source": [
    "# Query Optimisation and Best Practices"
   ]
  },
  {
   "cell_type": "markdown",
   "id": "5ee9463c",
   "metadata": {},
   "source": [
    "## Indexing - I"
   ]
  },
  {
   "cell_type": "markdown",
   "id": "72c643f6",
   "metadata": {},
   "source": [
    "Storage of Indexes\n",
    "State whether the following statement is true or false:\n",
    "\n",
    "Indexes require disk space for storage.\n",
    "\n",
    "True  ✓ Correct"
   ]
  },
  {
   "cell_type": "code",
   "execution_count": null,
   "id": "65a328f3",
   "metadata": {},
   "outputs": [],
   "source": []
  },
  {
   "cell_type": "markdown",
   "id": "864bab54",
   "metadata": {},
   "source": [
    "Employee Index\n",
    "Which of the following does the index for the 'Employee' table contain?\n",
    "\n",
    "\n",
    "Employee Id and Salary\n",
    "\n",
    "\n",
    "Employee Id and the location of disk space for the 'Employee' table\n",
    "\n",
    "\n",
    "Employee Id and the location of disk space for the particular record   ✓ Correct"
   ]
  },
  {
   "cell_type": "code",
   "execution_count": null,
   "id": "674a213e",
   "metadata": {},
   "outputs": [],
   "source": []
  },
  {
   "cell_type": "markdown",
   "id": "8c4f69ca",
   "metadata": {},
   "source": [
    "## Indexing - II"
   ]
  },
  {
   "cell_type": "markdown",
   "id": "f53fcff2",
   "metadata": {},
   "source": [
    "Indices\n",
    "Which of the following SQL commands works efficiently when you are using indices?\n",
    "\n",
    "\n",
    "SELECT\n",
    "\n",
    "\n",
    "FROM\n",
    "\n",
    "DROP\n",
    "\n",
    "\n",
    "WHERE    ✓ Correct"
   ]
  },
  {
   "cell_type": "code",
   "execution_count": null,
   "id": "aa56767a",
   "metadata": {},
   "outputs": [],
   "source": []
  },
  {
   "cell_type": "markdown",
   "id": "6c1d5a73",
   "metadata": {},
   "source": [
    "DDL\n",
    "Which of the following DDL statement can be used to explicitly create an index?\n",
    "\n",
    "\n",
    "CREATE INDEX   ✓ Correct"
   ]
  },
  {
   "cell_type": "code",
   "execution_count": null,
   "id": "044ca504",
   "metadata": {},
   "outputs": [],
   "source": []
  },
  {
   "cell_type": "markdown",
   "id": "3cce5c32",
   "metadata": {},
   "source": [
    "## Order of Query Execution - I"
   ]
  },
  {
   "cell_type": "markdown",
   "id": "3e6602e5",
   "metadata": {},
   "source": [
    "Order of Query Execution\n",
    "Arrange the following SQL statements in the correct order in which they are executed by the database engine.\n",
    "\n",
    "SELECT\n",
    "DISTINCT\n",
    "FROM (including joins)\n",
    "WHERE\n",
    "GROUP BY\n",
    "HAVING\n",
    "Window functions\n",
    "ORDER BY\n",
    "LIMIT and OFFSET\n",
    "\n",
    "1-2-3-4-5-6-7-8-9\n",
    "\n",
    "\n",
    "1-2-7-3-4-5-6-8-9\n",
    "\n",
    "\n",
    "3-4-5-6-7-1-2-8-9    ✓ Correct"
   ]
  },
  {
   "cell_type": "code",
   "execution_count": null,
   "id": "e1d7bf14",
   "metadata": {},
   "outputs": [],
   "source": []
  },
  {
   "cell_type": "markdown",
   "id": "50558820",
   "metadata": {},
   "source": [
    "## Joins vs Nested Queries"
   ]
  },
  {
   "cell_type": "markdown",
   "id": "e7aa55ae",
   "metadata": {},
   "source": [
    "Query Processor\n",
    "What is the role of a query processor in the execution of SQL queries?\n",
    "\n",
    "\n",
    "It creates indices to optimise the queries.\n",
    "\n",
    "\n",
    "It implicitly converts queries from one form to another to optimise them.    ✓ Correct"
   ]
  },
  {
   "cell_type": "code",
   "execution_count": null,
   "id": "94e623ec",
   "metadata": {},
   "outputs": [],
   "source": []
  },
  {
   "cell_type": "markdown",
   "id": "65cc1771",
   "metadata": {},
   "source": [
    "## Profitability Analysis - II"
   ]
  },
  {
   "cell_type": "markdown",
   "id": "83e7cba6",
   "metadata": {},
   "source": [
    "Unwanted Subcategory\n",
    "Which of the following subcategories reports the heaviest losses?\n",
    "\n",
    "\n",
    "Tables   ✓ Correct"
   ]
  },
  {
   "cell_type": "code",
   "execution_count": null,
   "id": "7952a5f2",
   "metadata": {},
   "outputs": [],
   "source": []
  },
  {
   "cell_type": "markdown",
   "id": "05b918bd",
   "metadata": {},
   "source": [
    "The Advent of Technology\n",
    "In the previous video, you saw that all the subcategories in the 'Technology' category are highly profitable. As the CEO, can you think of ways in which you can capitalise on this fact and increase your company's sales?\n",
    "\n",
    "ans:\n",
    "\n",
    "You can procure more stock of telephones, fax machines and other similar products to cater to the huge demand. You can also start an advertising campaign to inform your existing and potential customers that these products are popular."
   ]
  },
  {
   "cell_type": "code",
   "execution_count": null,
   "id": "1472a13f",
   "metadata": {},
   "outputs": [],
   "source": []
  },
  {
   "cell_type": "markdown",
   "id": "33c8f53d",
   "metadata": {},
   "source": [
    "## Profitability Analysis - III"
   ]
  },
  {
   "cell_type": "markdown",
   "id": "00b204b1",
   "metadata": {},
   "source": [
    "Average Profit per Order\n",
    "You calculated the average profit per order for each product category. Why do you think this is a useful metric? Write your answer in the space provided below.\n",
    "\n",
    "ans:\n",
    "    \n",
    "Determining the average profit per order helps in estimating the maximum cost that you should incur for each order. This will help ensure that profits are maximised after the required amount of money is spent on delivering each order to the relevant customer.\n",
    "\n"
   ]
  },
  {
   "cell_type": "code",
   "execution_count": null,
   "id": "58369f1e",
   "metadata": {},
   "outputs": [],
   "source": []
  },
  {
   "cell_type": "markdown",
   "id": "d919abc6",
   "metadata": {},
   "source": [
    "# Graded Questions - I"
   ]
  },
  {
   "cell_type": "markdown",
   "id": "c6fe369b",
   "metadata": {},
   "source": [
    "Most Productive Month\n",
    "Description\n",
    "Write a query to find the month number (Eg: 4 corresponds to April) in which the most number of payments were made.\n",
    "\n",
    "ans:\n",
    "    \n",
    "use upgrad;\n",
    "\n",
    "Select month(payment_date) as mn, \n",
    "count(payment_id) as \n",
    "No_of_payments from payment \n",
    "group by mn \n",
    "order by No_of_payments desc limit 1 "
   ]
  },
  {
   "cell_type": "code",
   "execution_count": null,
   "id": "736b2777",
   "metadata": {},
   "outputs": [],
   "source": [
    "###  2nd question has been wrong please forgive me for that"
   ]
  },
  {
   "cell_type": "code",
   "execution_count": null,
   "id": "9d4af49d",
   "metadata": {},
   "outputs": [],
   "source": []
  },
  {
   "cell_type": "markdown",
   "id": "26472ec7",
   "metadata": {},
   "source": [
    "# Graded Questions - II"
   ]
  },
  {
   "cell_type": "markdown",
   "id": "7972b457",
   "metadata": {},
   "source": [
    "Film Category vs. City\n",
    "Description\n",
    "Write a query to find the number of occurrences of each film_category in each city. Arrange them in the decreasing order of their category count.\n",
    "\n",
    "ans:\n",
    "    \n",
    "use upgrad;\n",
    "\n",
    " SELECT name, city, COUNT(category_id) AS category_count\n",
    " FROM category\n",
    " INNER JOIN film_category\n",
    " USING (category_id)\n",
    " INNER JOIN inventory\n",
    " USING(film_id)\n",
    " INNER JOIN store\n",
    " USING (store_id)\n",
    " INNER JOIN address\n",
    " USING (address_id)\n",
    " INNER JOIN city\n",
    " USING (city_id)\n",
    " GROUP BY name, city\n",
    " ORDER BY category_count DESC;"
   ]
  },
  {
   "cell_type": "code",
   "execution_count": null,
   "id": "5094857b",
   "metadata": {},
   "outputs": [],
   "source": []
  },
  {
   "cell_type": "markdown",
   "id": "371e4260",
   "metadata": {},
   "source": [
    "Ad Campaign\n",
    "Description\n",
    "Suppose you are running an advertising campaign in Canada for which you need the film_ids and titles of all the films released in Canada. List the films in the alphabetical order of their titles.\n",
    "\n",
    "ans:\n",
    "    \n",
    "use upgrad;\n",
    "\n",
    "select Film_id, Title\n",
    "    from film\n",
    "inner join inventory\n",
    "    using (film_id)\n",
    "inner join store\n",
    "    using (store_id)\n",
    "inner join address\n",
    "    using (address_id)\n",
    "inner join city\n",
    "    using (city_id)\n",
    "inner join country\n",
    "    using (country_id)\n",
    "where country = 'Canada'\n",
    "group by film_id, title\n",
    "order by title;"
   ]
  },
  {
   "cell_type": "code",
   "execution_count": null,
   "id": "eb61f2d9",
   "metadata": {},
   "outputs": [],
   "source": [
    "###  my third and fourth question rejected please forgive me for that"
   ]
  },
  {
   "cell_type": "code",
   "execution_count": null,
   "id": "63b72bb6",
   "metadata": {},
   "outputs": [],
   "source": []
  },
  {
   "cell_type": "code",
   "execution_count": 1,
   "id": "a5c3029c",
   "metadata": {},
   "outputs": [],
   "source": [
    "import jovian"
   ]
  },
  {
   "cell_type": "code",
   "execution_count": 2,
   "id": "489eb8cf",
   "metadata": {},
   "outputs": [
    {
     "data": {
      "application/javascript": [
       "window.require && require([\"base/js/namespace\"],function(Jupyter){Jupyter.notebook.save_checkpoint()})"
      ],
      "text/plain": [
       "<IPython.core.display.Javascript object>"
      ]
     },
     "metadata": {},
     "output_type": "display_data"
    },
    {
     "name": "stdout",
     "output_type": "stream",
     "text": [
      "[jovian] Committed successfully! https://jovian.ai/ashutoshgole18/module-12-advanced-sql-and-best-practices\u001b[0m\n"
     ]
    },
    {
     "data": {
      "text/plain": [
       "'https://jovian.ai/ashutoshgole18/module-12-advanced-sql-and-best-practices'"
      ]
     },
     "execution_count": 2,
     "metadata": {},
     "output_type": "execute_result"
    }
   ],
   "source": [
    "jovian.commit()"
   ]
  }
 ],
 "metadata": {
  "kernelspec": {
   "display_name": "Python 3 (ipykernel)",
   "language": "python",
   "name": "python3"
  },
  "language_info": {
   "codemirror_mode": {
    "name": "ipython",
    "version": 3
   },
   "file_extension": ".py",
   "mimetype": "text/x-python",
   "name": "python",
   "nbconvert_exporter": "python",
   "pygments_lexer": "ipython3",
   "version": "3.9.7"
  }
 },
 "nbformat": 4,
 "nbformat_minor": 5
}
