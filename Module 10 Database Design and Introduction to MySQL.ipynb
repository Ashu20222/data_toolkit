{
 "cells": [
  {
   "cell_type": "markdown",
   "id": "41772264",
   "metadata": {},
   "source": [
    "# Database Design"
   ]
  },
  {
   "cell_type": "markdown",
   "id": "68b25133",
   "metadata": {},
   "source": [
    "## Structure of a Data Warehouse"
   ]
  },
  {
   "cell_type": "markdown",
   "id": "abb33983",
   "metadata": {},
   "source": [
    "Facts and Dimensions\n",
    "Consider a bank that has thousands of ATMs across India. In every transaction, the following variables are recorded:\n",
    "\n",
    "Withdrawal amount\n",
    "Account balance after withdrawal\n",
    "Transaction charge amount\n",
    "Customer ID\n",
    "ATM ID\n",
    "Date of withdrawal\n",
    "Which of the variables above are fact variables (select all that apply)?\n",
    "\n",
    "\n",
    "Withdrawal amount\n",
    "\n",
    "\n",
    "Account balance after withdrawal\n",
    "\n",
    "\n",
    "Transaction charge amount\n",
    "\n",
    "✓ this all are Correct"
   ]
  },
  {
   "cell_type": "code",
   "execution_count": null,
   "id": "e572b350",
   "metadata": {},
   "outputs": [],
   "source": []
  },
  {
   "cell_type": "markdown",
   "id": "4421847b",
   "metadata": {},
   "source": [
    "Dimensional Modelling\n",
    "What are the benefits of having dimension variables apart from facts? More than one option may be correct.\n",
    "\n",
    "\n",
    "It helps with performing various types of analyses, such as sector-wise, country-wise or funding-type-based analyses    ✓ Correct\n",
    "\n",
    "It helps in summarising the fact variables by calculating their sum, average, range, etc.\n",
    "\n",
    "\n",
    "It helps with extracting specific, useful information, such as the total investment made in the Automobile sector in India between 2014 and 2015.   ✓ Correct"
   ]
  },
  {
   "cell_type": "code",
   "execution_count": null,
   "id": "a595f30a",
   "metadata": {},
   "outputs": [],
   "source": []
  },
  {
   "cell_type": "markdown",
   "id": "a545bdd1",
   "metadata": {},
   "source": [
    "### Star Schema"
   ]
  },
  {
   "cell_type": "markdown",
   "id": "6c89d08d",
   "metadata": {},
   "source": [
    "Star Schema\n",
    "In a star schema, what is the name of the table that contains the metadata that is needed for analysing numerical/quantitative data?\n",
    "\n",
    "\n",
    "Fact table\n",
    "\n",
    "\n",
    "Dimension table    ✓ Correct"
   ]
  },
  {
   "cell_type": "code",
   "execution_count": null,
   "id": "7f766717",
   "metadata": {},
   "outputs": [],
   "source": []
  },
  {
   "cell_type": "markdown",
   "id": "db3a7c81",
   "metadata": {},
   "source": [
    "## OLAP vs OLTP"
   ]
  },
  {
   "cell_type": "markdown",
   "id": "fed6d778",
   "metadata": {},
   "source": [
    "OLAP vs OLTP\n",
    "Which of the following statement(s) is/are true? More than one option may be correct.\n",
    "\n",
    "\n",
    "In OLAP systems, data is taken from a single data source.\n",
    "\n",
    "\n",
    "Compared with OLTP, OLAP systems use complex queries to perform tasks, because in OLAP, we perform analysis on various tables and it needs complex queries.   ✓ Correct\n",
    "\n",
    "OLAP systems use ETL.   ✓ Correct\n",
    "\n",
    "Schemas are an essential part of creating OLAP systems.   ✓ Correct\n"
   ]
  },
  {
   "cell_type": "code",
   "execution_count": null,
   "id": "f33bad53",
   "metadata": {},
   "outputs": [],
   "source": []
  },
  {
   "cell_type": "markdown",
   "id": "8cf4f3c6",
   "metadata": {},
   "source": [
    "OLAP vs OLTP\n",
    "List the types of databases that are used to perform each of the following operations:\n",
    "\n",
    "Making a purchase\n",
    "Withdrawing cash from an ATM\n",
    "Finding the average sales of a local store\n",
    "Finding profits by region for a specific product of a food MNC\n",
    " \n",
    "\n",
    "1 - Transactional, 2 - Transactional, 3 - Transactional and data warehouse, 4 - Data warehouse     ✓ Correct"
   ]
  },
  {
   "cell_type": "code",
   "execution_count": null,
   "id": "18e10144",
   "metadata": {},
   "outputs": [],
   "source": []
  },
  {
   "cell_type": "markdown",
   "id": "5360f6ea",
   "metadata": {},
   "source": [
    "OLAP vs OLTP\n",
    "Choose the correct statement from the following options given below:\n",
    "\n",
    "\n",
    "Transactional databases and data warehouse databases use a similar front-end interface.\n",
    "\n",
    "\n",
    "Dimension modelling is used to create a transactional database.\n",
    "\n",
    "\n",
    "Data is stored differently in a transactional database and a data warehouse database.    ✓ Correct"
   ]
  },
  {
   "cell_type": "code",
   "execution_count": null,
   "id": "5e353020",
   "metadata": {},
   "outputs": [],
   "source": []
  },
  {
   "cell_type": "markdown",
   "id": "583e9e61",
   "metadata": {},
   "source": [
    "## Entity Constraints"
   ]
  },
  {
   "cell_type": "markdown",
   "id": "293ad40e",
   "metadata": {},
   "source": [
    "Use of Entity Constraints\n",
    "Entity constraints are used to:\n",
    "\n",
    "\n",
    "Improve the quality of data entered for a specific property.\n",
    "\n",
    "\n",
    "Control who is allowed access to the data.\n",
    "\n",
    "\n",
    "Ensure that duplicate records are not entered into the table.     ✓ Correct"
   ]
  },
  {
   "cell_type": "code",
   "execution_count": null,
   "id": "a0f6be39",
   "metadata": {},
   "outputs": [],
   "source": []
  },
  {
   "cell_type": "markdown",
   "id": "1d2f32c7",
   "metadata": {},
   "source": [
    "Primary Keys\n",
    "A primary key constraint always enforces both the UNIQUE and NOT NULL constraints.\n",
    "\n",
    "\n",
    "True    ✓ Correct"
   ]
  },
  {
   "cell_type": "code",
   "execution_count": null,
   "id": "fb759bc1",
   "metadata": {},
   "outputs": [],
   "source": []
  },
  {
   "cell_type": "markdown",
   "id": "cecf52a3",
   "metadata": {},
   "source": [
    "## Referential Constraints"
   ]
  },
  {
   "cell_type": "code",
   "execution_count": null,
   "id": "424e818e",
   "metadata": {},
   "outputs": [],
   "source": [
    "An Example of a Referential Constraint\n",
    "Which of the following scenarios would require using a referential constraint?\n",
    "\n",
    "\n",
    "All phone numbers should contain the area code.\n",
    "\n",
    "\n",
    "Certain fields are mandatory to fill (such as phone number) before the record is accepted in a database.\n",
    "\n",
    "\n",
    "Information on a customer must be known before anything can be sold to that customer, so that you can refer to other fields to get the information of the customers.\n",
    "\n",
    "✓ Correct"
   ]
  },
  {
   "cell_type": "code",
   "execution_count": null,
   "id": "2d784780",
   "metadata": {},
   "outputs": [],
   "source": []
  },
  {
   "cell_type": "markdown",
   "id": "d8fb0727",
   "metadata": {},
   "source": [
    "## Semantic Constraints"
   ]
  },
  {
   "cell_type": "markdown",
   "id": "2f495d7e",
   "metadata": {},
   "source": [
    "Semantic Constraints\n",
    "Consider a column containing the blood groups of various blood donors. Which of the following options is an example of a semantic constraint in this case? More than one option may be correct.\n",
    "\n",
    "\n",
    "A blood group can contain one of the following values: A, B, AB and O.  ✓ Correct\n",
    "\n",
    "A blood group can contain only characters.    ✓ Correct"
   ]
  },
  {
   "cell_type": "code",
   "execution_count": null,
   "id": "e93a765a",
   "metadata": {},
   "outputs": [],
   "source": []
  },
  {
   "cell_type": "markdown",
   "id": "5c0dada7",
   "metadata": {},
   "source": [
    "Types of Constraints\n",
    "Which of the following constraints does not enforce uniqueness?\n",
    "\n",
    "\n",
    "Primary Key\n",
    "\n",
    "\n",
    "Foreign Key    ✓ Correct"
   ]
  },
  {
   "cell_type": "code",
   "execution_count": null,
   "id": "e92f36e8",
   "metadata": {},
   "outputs": [],
   "source": []
  },
  {
   "cell_type": "markdown",
   "id": "c09b2448",
   "metadata": {},
   "source": [
    "Types of Constraints\n",
    "Allowing only certain values in a column and ensuring that the values are in a specified format or belong to a certain range are examples of:\n",
    "\n",
    "\n",
    "Referential Constraints\n",
    "\n",
    "\n",
    "Semantic Constraints    ✓ Correct"
   ]
  },
  {
   "cell_type": "code",
   "execution_count": null,
   "id": "fa5f7239",
   "metadata": {},
   "outputs": [],
   "source": []
  },
  {
   "cell_type": "markdown",
   "id": "0b61b9fb",
   "metadata": {},
   "source": [
    "## ERDs"
   ]
  },
  {
   "cell_type": "markdown",
   "id": "f7c2363d",
   "metadata": {},
   "source": [
    "Entity-Relationship Diagram – Classic Models\n",
    "\n",
    "Refer to the ERD given above for the 'classic models' data set. Which of the following statement(s) is/are correct?\n",
    "\n",
    "An employee is associated with zero or more customers, whereas a customer is associated with zero or one employee.   ✓ Correct\n",
    "\n",
    "A customer is associated with zero or more employees, whereas an employee is associated with zero or one customer.\n",
    "\n",
    "\n",
    "A customer can have zero or more orders, whereas an order is associated with one and only one customer.     ✓ Correct"
   ]
  },
  {
   "cell_type": "code",
   "execution_count": null,
   "id": "8f3aed3a",
   "metadata": {},
   "outputs": [],
   "source": []
  },
  {
   "cell_type": "markdown",
   "id": "25a34afc",
   "metadata": {},
   "source": [
    "Primary Key\n",
    "Which of the following fields can be a possible primary key of the ‘marks’ table? Multiple options can be correct.\n",
    "\n",
    "\n",
    "grades   ✓ Correct\n",
    "\n",
    "marks_range   ✓ Correct"
   ]
  },
  {
   "cell_type": "code",
   "execution_count": null,
   "id": "c409a452",
   "metadata": {},
   "outputs": [],
   "source": []
  },
  {
   "cell_type": "markdown",
   "id": "39d31f16",
   "metadata": {},
   "source": [
    "Foreign Key\n",
    "What is/are the foreign key(s) in the ‘Student’ table? Multiple options can be correct.\n",
    "\n",
    "\n",
    "student_id\n",
    "\n",
    "\n",
    "marks_range   ✓ Correct\n",
    "\n",
    "year\n",
    "\n",
    "\n",
    "branch_id   ✓ Correct"
   ]
  },
  {
   "cell_type": "code",
   "execution_count": null,
   "id": "945bb24e",
   "metadata": {},
   "outputs": [],
   "source": []
  },
  {
   "cell_type": "markdown",
   "id": "1e3e7497",
   "metadata": {},
   "source": [
    "Primary and Foreign Keys\n",
    "Choose the correct statements for the ‘HoD’ table from the options given below. Multiple options can be correct.\n",
    "\n",
    "\n",
    "‘branch_id’ can be the primary key of the ‘HoD’ table.\n",
    "\n",
    "\n",
    "‘branch_id’ is the foreign key of the ‘HoD’ table.   ✓ Correct\n",
    "\n",
    "‘branch_id’ and ‘year_of_service_as_HoD’ can be the composite primary key of the ‘HoD’ table.    ✓ Correct"
   ]
  },
  {
   "cell_type": "code",
   "execution_count": null,
   "id": "0a5a82fc",
   "metadata": {},
   "outputs": [],
   "source": []
  },
  {
   "cell_type": "markdown",
   "id": "cd6a13bb",
   "metadata": {},
   "source": [
    "Primary and Foreign Keys\n",
    "Which of the following statements could be correct?\n",
    "\n",
    "\n",
    "In the ‘Branch’ table, ‘branch_id’ can have NULL values.\n",
    "\n",
    "\n",
    "In the ‘Student’ table, ‘marks_range’ can have NULL values.    ✓ Correct"
   ]
  },
  {
   "cell_type": "code",
   "execution_count": null,
   "id": "6c688156",
   "metadata": {},
   "outputs": [],
   "source": []
  },
  {
   "cell_type": "markdown",
   "id": "3d4c1688",
   "metadata": {},
   "source": [
    "## Star Schema: A Demonstration"
   ]
  },
  {
   "cell_type": "markdown",
   "id": "a36f7776",
   "metadata": {},
   "source": [
    "Fact Variables\n",
    "How many fact variables are present in the 'cust_dimen' table used in the market star schema explained in the video?\n",
    "\n",
    "Note: Fact variables are those variables that have some numeric values in them.\n",
    "    \n",
    "0    ✓ Correct\n"
   ]
  },
  {
   "cell_type": "code",
   "execution_count": null,
   "id": "9c18a8d5",
   "metadata": {},
   "outputs": [],
   "source": []
  },
  {
   "cell_type": "markdown",
   "id": "8c22baa5",
   "metadata": {},
   "source": [
    "Fact or Dimension?\n",
    "Which type of variable is 'Order_ID' in the 'shipping_dimen' table?\n",
    "\n",
    "shipping_dimen\n",
    "\n",
    "Ship_id VARCHAR(12)\n",
    "\n",
    "Order_ID INT(11)\n",
    "\n",
    "Ship_Mode VARCHAR(25)\n",
    "\n",
    "Ship_Date DATE\n",
    "\n",
    "\n",
    "Fact Variable\n",
    "\n",
    "\n",
    "Dimension Variable    ✓ Correct"
   ]
  },
  {
   "cell_type": "code",
   "execution_count": null,
   "id": "2a0e0825",
   "metadata": {},
   "outputs": [],
   "source": []
  },
  {
   "cell_type": "markdown",
   "id": "fa7843eb",
   "metadata": {},
   "source": [
    "# Database Creation in the MySQL Workbench"
   ]
  },
  {
   "cell_type": "markdown",
   "id": "fdff6b57",
   "metadata": {},
   "source": [
    "## Introduction to DDL and DML Statements"
   ]
  },
  {
   "cell_type": "markdown",
   "id": "a52ccee3",
   "metadata": {},
   "source": [
    "SQL Command Types\n",
    "Which of the following command type(s) is/are available in SQL?\n",
    "\n",
    "\n",
    "Data Modification Language\n",
    "\n",
    "\n",
    "Data Definition Language    ✓ Correct\n",
    "\n",
    "Data Manipulation Language   ✓ Correct"
   ]
  },
  {
   "cell_type": "code",
   "execution_count": null,
   "id": "a9dec268",
   "metadata": {},
   "outputs": [],
   "source": []
  },
  {
   "cell_type": "markdown",
   "id": "ee1490f2",
   "metadata": {},
   "source": [
    "## DDL Statements: A Demonstration"
   ]
  },
  {
   "cell_type": "markdown",
   "id": "dee27bc4",
   "metadata": {},
   "source": [
    "DDL Statements\n",
    "DDL statements perform operations on which of the following database objects?\n",
    "\n",
    "\n",
    "Rows\n",
    "\n",
    "\n",
    "Columns\n",
    "\n",
    "\n",
    "Tables   ✓ Correct"
   ]
  },
  {
   "cell_type": "code",
   "execution_count": null,
   "id": "f23ad1a9",
   "metadata": {},
   "outputs": [],
   "source": []
  },
  {
   "cell_type": "markdown",
   "id": "f2b6f875",
   "metadata": {},
   "source": [
    "## DML Statements: A Demonstration"
   ]
  },
  {
   "cell_type": "markdown",
   "id": "e675c1fd",
   "metadata": {},
   "source": [
    "DML Statements\n",
    "DML statements are used for:\n",
    "\n",
    "\n",
    "Deleting the data in a database   ✓ Correct\n",
    "\n",
    "Inserting data into a database   ✓ Correct"
   ]
  },
  {
   "cell_type": "code",
   "execution_count": null,
   "id": "663a3938",
   "metadata": {},
   "outputs": [],
   "source": []
  },
  {
   "cell_type": "markdown",
   "id": "f6eabdc6",
   "metadata": {},
   "source": [
    "## Practice Exercise – DDL and DML Statements"
   ]
  },
  {
   "cell_type": "markdown",
   "id": "8cbb2b58",
   "metadata": {},
   "source": [
    "DDL and DML Statements\n",
    "Consider the following statements:\n",
    "\n",
    "CREATE\n",
    "\n",
    "INSERT\n",
    "\n",
    "UPDATE\n",
    "\n",
    "DELETE\n",
    "\n",
    "ALTER\n",
    "\n",
    "DROP\n",
    "\n",
    "TRUNCATE\n",
    "\n",
    "RENAME\n",
    "\n",
    "Based on the types of DDL/DML statements, select the correct answers from the options given below. Multiple options may be correct.\n",
    "\n",
    "\n",
    "CREATE, UPDATE, DELETE and DROP are DDL statements.\n",
    "\n",
    "\n",
    "SELECT, UPDATE, ALTER, DROP and RENAME are DML statements.\n",
    "\n",
    "\n",
    "CREATE, ALTER, DROP, RENAME and TRUNCATE are DDL statements.    ✓ Correct\n",
    "\n",
    "SELECT, INSERT, UPDATE and DELETE are DML statements.     ✓ Correct"
   ]
  },
  {
   "cell_type": "code",
   "execution_count": null,
   "id": "3f298214",
   "metadata": {},
   "outputs": [],
   "source": []
  },
  {
   "cell_type": "markdown",
   "id": "b505fc5f",
   "metadata": {},
   "source": [
    "DDL and DML Statements\n",
    "What is the difference between the 'DROP' and 'TRUNCATE' commands?\n",
    "\n",
    "\n",
    "‘TRUNCATE’ removes a table completely from the database, and you cannot retrieve this table. All the integrity constraints are removed. On the other hand, ‘DROP’ only drops the table rows; it does not delete the schema of the table from the database.\n",
    "\n",
    "\n",
    "‘DROP’ removes a table completely from the database, and you cannot retrieve this table. All the integrity constraints are removed. On the other hand, ‘TRUNCATE’ only drops the table rows; it does not delete the schema of the table from the database.     ✓ Correct"
   ]
  },
  {
   "cell_type": "code",
   "execution_count": null,
   "id": "333eb0f2",
   "metadata": {},
   "outputs": [],
   "source": []
  },
  {
   "cell_type": "markdown",
   "id": "aaff137d",
   "metadata": {},
   "source": [
    "DDL and DML Statements\n",
    "Suppose you want to create a table named 'mobile_phone', which contains the following columns: \n",
    "\n",
    "Mobile_phone_ID, which is of integer type\n",
    "Camera, which is of string type\n",
    "RAM, which is of integer type\n",
    "Memory, which is of string type\n",
    "The primary key of this table is 'Mobile_phone_ID'.\n",
    "\n",
    "What would be the correct SQL query to create such a table? Also, identify the type of operation, i.e., whether it is a DDL statement or a DML statement.\n",
    "\n",
    "\n",
    "\n",
    "It is a DDL statement.\n",
    "\n",
    "    \n",
    "\n",
    "create table mobile_phone (\n",
    "\n",
    "     Mobile_phone_ID int(11) NOT NULL,\n",
    "\n",
    "     Camera varchar(12),\n",
    "\n",
    "     RAM int(11),\n",
    "\n",
    "     Memory varchar(12),\n",
    "\n",
    "     Primary Key (Mobile_phone_ID)\n",
    "\n",
    "     );        ✓ Correct"
   ]
  },
  {
   "cell_type": "code",
   "execution_count": null,
   "id": "6b9ee313",
   "metadata": {},
   "outputs": [],
   "source": []
  },
  {
   "cell_type": "markdown",
   "id": "7b5d5a8e",
   "metadata": {},
   "source": [
    "DDL and DML Statements\n",
    "Suppose you want to add a new column, 'price', with ‘float’ as the data type, in the table 'mobile_phone'. What is the correct query to add this new column?\n",
    "\n",
    "\n",
    "ALTER 'mobile_phone' ADD COLUMN 'price' float(24)\n",
    "\n",
    "ADD COLUMN 'price' float(24) IN TABLE 'mobile_phone'\n",
    "\n",
    "ALTER TABLE 'mobile_phone' ADD COLUMN 'price' float(24)    ✓ Correct"
   ]
  },
  {
   "cell_type": "code",
   "execution_count": null,
   "id": "7a576b86",
   "metadata": {},
   "outputs": [],
   "source": []
  },
  {
   "cell_type": "markdown",
   "id": "50fb1fd3",
   "metadata": {},
   "source": [
    "DDL and DML Statements\n",
    "Suppose you want to update the value of ‘Camera’ to 15MP, where RAM = 8. What would be the correct query to perform such an operation?\n",
    "\n",
    "\n",
    "update mobile_phone\n",
    "set Camera= '15MP'\n",
    "where RAM= 8;         ✓ Correct"
   ]
  },
  {
   "cell_type": "code",
   "execution_count": null,
   "id": "c61e890d",
   "metadata": {},
   "outputs": [],
   "source": []
  },
  {
   "cell_type": "markdown",
   "id": "54abc72b",
   "metadata": {},
   "source": [
    "## Querying in MySQL"
   ]
  },
  {
   "cell_type": "markdown",
   "id": "2f2c4f10",
   "metadata": {},
   "source": [
    "## SQL Statements and Operators"
   ]
  },
  {
   "cell_type": "markdown",
   "id": "5b41a7d2",
   "metadata": {},
   "source": [
    "Pattern Matching\n",
    "What would be the output of the following query: 'select * from employee where first_name like \"%ee%\";'?\n",
    "\n",
    "\n",
    "It will display the details of all the employees whose name contains ‘ee’.    ✓ Correct"
   ]
  },
  {
   "cell_type": "code",
   "execution_count": null,
   "id": "3ce7808f",
   "metadata": {},
   "outputs": [],
   "source": []
  },
  {
   "cell_type": "markdown",
   "id": "fa4397ae",
   "metadata": {},
   "source": [
    "Reading the Documentation\n",
    "Refer to the MySQL documentation online and answer the following question:\n",
    "\n",
    "Which of the following wildcards are supported in SQL?\n",
    "\n",
    "\n",
    "% only\n",
    "\n",
    "\n",
    "_ (underscore) only\n",
    "\n",
    "\n",
    "* only\n",
    "\n",
    "\n",
    "Both % and _ (underscore)     ✓ Correct"
   ]
  },
  {
   "cell_type": "code",
   "execution_count": null,
   "id": "68818b86",
   "metadata": {},
   "outputs": [],
   "source": []
  },
  {
   "cell_type": "markdown",
   "id": "eaa16513",
   "metadata": {},
   "source": [
    "Operators\n",
    "With SQL, how do you select all the records from a table named ‘employees’ where the ‘LastName’ is alphabetically between (and includes) ‘Joshi’ and ‘Sharma’?\n",
    "\n",
    "\n",
    "select * from employees where LastName > ‘Joshi’ and LastName < ‘Sharma’;\n",
    "\n",
    "\n",
    "select * from employees where LastName between ‘Joshi’ and ‘Sharma’;    ✓ Correct"
   ]
  },
  {
   "cell_type": "code",
   "execution_count": null,
   "id": "a643ce53",
   "metadata": {},
   "outputs": [],
   "source": []
  },
  {
   "cell_type": "markdown",
   "id": "8982cf20",
   "metadata": {},
   "source": [
    "Operators\n",
    "Which of the queries given below would return the same output? More than one option may be correct.\n",
    "\n",
    "\n",
    "select * from employees where EmpID in (2,3,4, 5);    ✓ Correct\n",
    "\n",
    "select * from employees where EmpID between 2 and 5;    ✓ Correct\n",
    "\n",
    "select * from employees where EmpID >= 2 and EmpID <= 5;    ✓ Correct"
   ]
  },
  {
   "cell_type": "code",
   "execution_count": null,
   "id": "c9692ba0",
   "metadata": {},
   "outputs": [],
   "source": []
  },
  {
   "cell_type": "markdown",
   "id": "61a137fe",
   "metadata": {},
   "source": [
    "Basic Select\n",
    "Description\n",
    "Consider the following table employees containing the following columns:\n",
    "\n",
    "ans:\n",
    "    \n",
    "use upgrad;\n",
    "\n",
    "select firstName from Employees;"
   ]
  },
  {
   "cell_type": "code",
   "execution_count": null,
   "id": "277dae87",
   "metadata": {},
   "outputs": [],
   "source": []
  },
  {
   "cell_type": "markdown",
   "id": "43152309",
   "metadata": {},
   "source": [
    "## Aggregate Functions"
   ]
  },
  {
   "cell_type": "markdown",
   "id": "207c9f13",
   "metadata": {},
   "source": [
    "Aggregate Functions\n",
    "Which of the following are not aggregate functions in MySQL? Multiple options can be correct.\n",
    "\n",
    "\n",
    "min()\n",
    "\n",
    "\n",
    "mean()   ✓ Correct\n",
    "\n",
    "max()\n",
    "\n",
    "\n",
    "mode()    ✓ Correct"
   ]
  },
  {
   "cell_type": "code",
   "execution_count": null,
   "id": "3943e127",
   "metadata": {},
   "outputs": [],
   "source": []
  },
  {
   "cell_type": "markdown",
   "id": "3186c187",
   "metadata": {},
   "source": [
    "Count Querying\n",
    "Description\n",
    "Consider the employees table having the following columns.\n",
    "\n",
    "Write a query to retrieve the total number of employees, do the aliasing of count as totalEmployees.\n",
    "\n",
    "ans:\n",
    "    \n",
    "use upgrad;\n",
    "\n",
    "select count(*) as totalEmployees from employees;"
   ]
  },
  {
   "cell_type": "code",
   "execution_count": null,
   "id": "519a258e",
   "metadata": {},
   "outputs": [],
   "source": []
  },
  {
   "cell_type": "markdown",
   "id": "5d7875ed",
   "metadata": {},
   "source": [
    "## Ordering"
   ]
  },
  {
   "cell_type": "markdown",
   "id": "5ca8d704",
   "metadata": {},
   "source": [
    "Basic Ordering\n",
    "Description\n",
    "Given an employees table with the following columns:\n",
    "    \n",
    "Write a query to retrieve the list of first names of employees in the alphabetical order.\n",
    "\n",
    "ans:\n",
    "    \n",
    "use upgrad;\n",
    "\n",
    "select firstName from employees order by firstName asc;"
   ]
  },
  {
   "cell_type": "code",
   "execution_count": null,
   "id": "e4590ac6",
   "metadata": {},
   "outputs": [],
   "source": []
  },
  {
   "cell_type": "markdown",
   "id": "677884ac",
   "metadata": {},
   "source": [
    "## The Having Clause"
   ]
  },
  {
   "cell_type": "markdown",
   "id": "508de2a7",
   "metadata": {},
   "source": [
    "Keywords in SQL\n",
    "Arrange the keywords below in order of their occurrence in a query:\n",
    "\n",
    "group by\n",
    "order by\n",
    "select\n",
    "where\n",
    "from\n",
    "limit\n",
    "having\n",
    "\n",
    "3 - 5 - 4 - 1 - 2 - 7 - 6\n",
    "\n",
    "\n",
    "3 - 5 - 1 - 4 - 2 - 6 - 7\n",
    "\n",
    "\n",
    "3 - 5 - 4 - 1 - 7 - 2 - 6    ✓ Correct"
   ]
  },
  {
   "cell_type": "code",
   "execution_count": null,
   "id": "b42f1b5d",
   "metadata": {},
   "outputs": [],
   "source": []
  },
  {
   "cell_type": "markdown",
   "id": "805a0712",
   "metadata": {},
   "source": [
    "## String and Date–Time Functions"
   ]
  },
  {
   "cell_type": "markdown",
   "id": "2d725e50",
   "metadata": {},
   "source": [
    "String Manipulation\n",
    "Assume that an employee named Diane Murphy has an employee number of 1002 in a dataset. What would the output of the following set of commands?\n",
    "\n",
    "SELECT CONCAT(REVERSE(firstName) , '  ', UPPER(lastName))\n",
    "FROM employees\n",
    "WHERE employeeNumber=1002;\n",
    " \n",
    "\n",
    "\n",
    "Diane MURPHY\n",
    "\n",
    "\n",
    "Enaid Murphy\n",
    "\n",
    "\n",
    "enaiD MURPHY    ✓ Correc"
   ]
  },
  {
   "cell_type": "code",
   "execution_count": null,
   "id": "d08896ad",
   "metadata": {},
   "outputs": [],
   "source": []
  },
  {
   "cell_type": "markdown",
   "id": "3b642fab",
   "metadata": {},
   "source": [
    "Math Functions\n",
    "abs() – Returns the absolute value of a number\n",
    "ceil() – Returns the smallest integer value greater than or equal to the input number\n",
    "floor() – Returns the largest integer value not greater than the argument\n",
    "round() – Rounds a number to a specified number of decimal places\n",
    "rand() – Returns a random floating-point value between 0 and 1\n",
    "pow(a, b) – Returns the value a^b\n",
    "\n",
    " \n",
    "\n",
    "Given the above math functions used in MySQL, what would the query given below return?\n",
    "\n",
    "\n",
    "select ceil(rand() * 6);\n",
    "\n",
    "\n",
    "A random floating-point value from 0 to 6.\n",
    "\n",
    "\n",
    "A random floating-point value from 1 to 6.\n",
    "\n",
    "\n",
    "A random integer from 0 to 6.     ✓ Correct"
   ]
  },
  {
   "cell_type": "code",
   "execution_count": null,
   "id": "81188d02",
   "metadata": {},
   "outputs": [],
   "source": []
  },
  {
   "cell_type": "markdown",
   "id": "c1c10f82",
   "metadata": {},
   "source": [
    "Basic String Functions\n",
    "Description\n",
    "Given an employees table with the following columns:\n",
    "    \n",
    "Write a query to retrieve the full names of all the employees along with their employee numbers.\n",
    "\n",
    "ans:\n",
    "    \n",
    "use upgrad;\n",
    "\n",
    "select employeeNumber, concat(firstName, ' ', lastName) as fullName from employees;"
   ]
  },
  {
   "cell_type": "code",
   "execution_count": null,
   "id": "2b22bdb1",
   "metadata": {},
   "outputs": [],
   "source": []
  },
  {
   "cell_type": "markdown",
   "id": "dff5c98e",
   "metadata": {},
   "source": [
    "## Regular Expressions\n"
   ]
  },
  {
   "cell_type": "markdown",
   "id": "04f1dcf6",
   "metadata": {},
   "source": [
    "SQL Queries\n",
    "Which of the following keyword(s) can be used in a query to obtain the details of all the cars that have the substring toy in their brand names?\n",
    "\n",
    "\n",
    "like    ✓ Correct\n",
    "\n",
    "regexp    ✓ Correct"
   ]
  },
  {
   "cell_type": "code",
   "execution_count": null,
   "id": "e570c99f",
   "metadata": {},
   "outputs": [],
   "source": []
  },
  {
   "cell_type": "markdown",
   "id": "6dd59534",
   "metadata": {},
   "source": [
    "Basic Regex\n",
    "Description\n",
    "Given a table named employees with the following columns:\n",
    "\n",
    "Write a query to retrieve the employee numbers and first names of all employees having the substring on in their first names.\n",
    "\n",
    "ans:\n",
    "    \n",
    "use upgrad;\n",
    "\n",
    "select employeeNumber, firstName\n",
    "from employees\n",
    "where firstName regexp 'on';"
   ]
  },
  {
   "cell_type": "code",
   "execution_count": null,
   "id": "f47e9453",
   "metadata": {},
   "outputs": [],
   "source": []
  },
  {
   "cell_type": "markdown",
   "id": "56f01682",
   "metadata": {},
   "source": [
    "## Nested Queries"
   ]
  },
  {
   "cell_type": "markdown",
   "id": "b3ca689f",
   "metadata": {},
   "source": [
    "Subqueries\n",
    "Description\n",
    "Given a table named customers with the following columns:\n",
    "    \n",
    "Write a query to retrieve the names of all customers who have a credit limit greater than what La Rochelle Gifts has.\n",
    "\n",
    "ans:\n",
    "    \n",
    "use upgrad;\n",
    "\n",
    "select customerName\n",
    "from customers\n",
    "where creditLimit >\n",
    "\t(select creditLimit\n",
    "    from customers\n",
    "    where customerName = 'La Rochelle Gifts'\n",
    "    )\n",
    "    order by creditLimit;"
   ]
  },
  {
   "cell_type": "code",
   "execution_count": null,
   "id": "1da71185",
   "metadata": {},
   "outputs": [],
   "source": []
  },
  {
   "cell_type": "markdown",
   "id": "595db4aa",
   "metadata": {},
   "source": [
    "## CTEs"
   ]
  },
  {
   "cell_type": "markdown",
   "id": "7e63cb0e",
   "metadata": {},
   "source": [
    "CTEs vs Derived Tables\n",
    "A derived table is basically a subquery, except it is always in the FROM clause of an SQL statement. Given this information, is the following statement true or false?\n",
    "\n",
    " \n",
    "\n",
    "Common Table Expressions is another name for derived tables.\n",
    "\n",
    "\n",
    "True\n",
    "\n",
    "\n",
    "False   ✓ Correct"
   ]
  },
  {
   "cell_type": "code",
   "execution_count": null,
   "id": "a078c96b",
   "metadata": {},
   "outputs": [],
   "source": []
  },
  {
   "cell_type": "markdown",
   "id": "c298bd6a",
   "metadata": {},
   "source": [
    "# Joins and Set Operations"
   ]
  },
  {
   "cell_type": "markdown",
   "id": "7603ef67",
   "metadata": {},
   "source": [
    "## Set Theory"
   ]
  },
  {
   "cell_type": "markdown",
   "id": "5c547e3d",
   "metadata": {},
   "source": [
    "Set Theory\n",
    "Write the value of B - A from the example in the text given above.\n",
    "\n",
    "ans:\n",
    "    \n",
    "{ 3, 5, 7 }"
   ]
  },
  {
   "cell_type": "code",
   "execution_count": null,
   "id": "87c61554",
   "metadata": {},
   "outputs": [],
   "source": []
  },
  {
   "cell_type": "markdown",
   "id": "6e4c108a",
   "metadata": {},
   "source": [
    "## Types of Joins"
   ]
  },
  {
   "cell_type": "markdown",
   "id": "3918576b",
   "metadata": {},
   "source": [
    "Joins in a Star Schema\n",
    "What is the maximum number of tables that can be joined in a star schema in a single query?\n",
    "\n",
    "\n",
    "2\n",
    "\n",
    "\n",
    "3   ✓ Correct"
   ]
  },
  {
   "cell_type": "code",
   "execution_count": null,
   "id": "5966fd27",
   "metadata": {},
   "outputs": [],
   "source": []
  },
  {
   "cell_type": "markdown",
   "id": "99c42698",
   "metadata": {},
   "source": [
    "Types of Joins\n",
    "Consider the two tables given below.\n",
    "\n",
    "Which query would you write to retrieve all employees from the Employees table along with the respective departments that can be obtained from the Departments table?\n",
    "\n",
    "\n",
    "select last_name, dept_name\n",
    "\n",
    "ans:\n",
    "\n",
    "from employees e\n",
    "\n",
    "left join departments d\n",
    "\n",
    "on e.dept_id = d.dept_id;     ✓ Correct"
   ]
  },
  {
   "cell_type": "code",
   "execution_count": null,
   "id": "74086f18",
   "metadata": {},
   "outputs": [],
   "source": []
  },
  {
   "cell_type": "markdown",
   "id": "9c4831ba",
   "metadata": {},
   "source": [
    "## Types of Joins: A Demonstration"
   ]
  },
  {
   "cell_type": "markdown",
   "id": "f8638e29",
   "metadata": {},
   "source": [
    "'On' vs 'Using' Keyword\n",
    "State whether the following statement is true or false.\n",
    "\n",
    "Every SQL statement containing a 'join' keyword can be rewritten with a 'using' keyword.\n",
    "\n",
    "True\n",
    "\n",
    "\n",
    "False    ✓ Correct"
   ]
  },
  {
   "cell_type": "code",
   "execution_count": null,
   "id": "afbef8ec",
   "metadata": {},
   "outputs": [],
   "source": []
  },
  {
   "cell_type": "markdown",
   "id": "8ffdffc9",
   "metadata": {},
   "source": [
    "Types of Joins\n",
    "Description\n",
    "Given a table named customers and a table named orders with the following columns:\n",
    "    \n",
    "Write a query to list the names of all customers who have placed at least one order.\n",
    "\n",
    "ans:\n",
    "    \n",
    "use upgrad;\n",
    "\n",
    "select distinct customerName\n",
    "from customers c\n",
    "inner join orders o\n",
    "on c.customerNumber = o.customerNumber\n",
    "where orderNumber is not null;"
   ]
  },
  {
   "cell_type": "code",
   "execution_count": null,
   "id": "13c78fcf",
   "metadata": {},
   "outputs": [],
   "source": []
  },
  {
   "cell_type": "markdown",
   "id": "1d4d28d2",
   "metadata": {},
   "source": [
    "## Outer Joins: A Demonstration"
   ]
  },
  {
   "cell_type": "markdown",
   "id": "de103a4c",
   "metadata": {},
   "source": [
    "Inner vs. Outer Join\n",
    "What is the difference between an inner join and an outer join operation?\n",
    "\n",
    "\n",
    "There is no difference.\n",
    "\n",
    "\n",
    "An inner join preserves a few values that are otherwise lost in an outer join.\n",
    "\n",
    "\n",
    "An outer join preserves a few values that are otherwise lost in an inner join.    ✓ Correct"
   ]
  },
  {
   "cell_type": "code",
   "execution_count": null,
   "id": "2b905eb3",
   "metadata": {},
   "outputs": [],
   "source": []
  },
  {
   "cell_type": "markdown",
   "id": "805bde8d",
   "metadata": {},
   "source": [
    "## Set Operations with SQL"
   ]
  },
  {
   "cell_type": "markdown",
   "id": "f8b166ee",
   "metadata": {},
   "source": [
    "Union vs Union all\n",
    "State whether the following statement is true or false. \n",
    "\n",
    "It is preferable to use 'union all' instead of 'union' in a query.\n",
    "\n",
    "\n",
    "True\n",
    "\n",
    "\n",
    "False    ✓ Correct"
   ]
  },
  {
   "cell_type": "code",
   "execution_count": null,
   "id": "ffc7e41d",
   "metadata": {},
   "outputs": [],
   "source": []
  },
  {
   "cell_type": "markdown",
   "id": "e7ba9d6a",
   "metadata": {},
   "source": [
    "## Practice Questions"
   ]
  },
  {
   "cell_type": "markdown",
   "id": "86cd2000",
   "metadata": {},
   "source": [
    "Joins\n",
    "What will be the output of the following query?\n",
    "\n",
    "select id, col_1, col_2\n",
    "from table_1 a\n",
    "inner join table_2 b\n",
    "using(id)\n",
    "inner join table_3 c\n",
    "using(id_2)\n",
    " \n",
    "\n",
    "\n",
    "This query will throw an error message.\n",
    "\n",
    "\n",
    "This query will perform the inner join of table_1 and table_3 only.\n",
    "\n",
    "\n",
    "This query will perform an inner join of table_1 and table_2 on ‘id’ and then perform an inner join on ‘id_2’ with table_3    ✓ Correct"
   ]
  },
  {
   "cell_type": "code",
   "execution_count": null,
   "id": "4f8364de",
   "metadata": {},
   "outputs": [],
   "source": []
  },
  {
   "cell_type": "markdown",
   "id": "441a6b81",
   "metadata": {},
   "source": [
    "Joins\n",
    "You have been given the following two tables ‘Transactions’ and ‘Company’.\n",
    "If you perform an inner join on these two tables on ‘Company_id’, then how many rows will the resulting table contain?\n",
    "\n",
    "\n",
    "4\n",
    "\n",
    "\n",
    "3    ✓ Correct"
   ]
  },
  {
   "cell_type": "code",
   "execution_count": null,
   "id": "50259bef",
   "metadata": {},
   "outputs": [],
   "source": []
  },
  {
   "cell_type": "markdown",
   "id": "7c01ae4c",
   "metadata": {},
   "source": [
    "Joins\n",
    "You have been given the following three tables ‘Transactions’, Company’ and ‘Headquarter’.\n",
    "\n",
    "Suppose you want to get the company name corresponding to the highest amount paid in the ‘Transactions’ table. Which method will be the most efficient to perform such an operation?\n",
    "\n",
    "\n",
    "Perform the operation in three steps:\n",
    "\n",
    "First, get the ‘Company_Headquarter_id’ corresponding to the highest amount from the ‘Transactions’ table. \n",
    "Then, find the ‘Company_id’ from the ‘Headquarter’ table that corresponds to the ‘Company_headquarter_id’ obtained from the previous step.\n",
    "\n",
    "Perform the operation on the ‘Company’ table to get the ‘Company_name’.\n",
    "\n",
    "\n",
    "Perform a nested query operation among the three tables.\n",
    "\n",
    "\n",
    "Inner join the three tables and query for the maximum amount in the inner joined table directly.    ✓ Correct"
   ]
  },
  {
   "cell_type": "code",
   "execution_count": null,
   "id": "c4858a85",
   "metadata": {},
   "outputs": [],
   "source": []
  },
  {
   "cell_type": "markdown",
   "id": "82e86335",
   "metadata": {},
   "source": [
    "Joins\n",
    "Suppose you have been given the following two tables ‘Customers’ and ‘Orders’.\n",
    "\n",
    "These two tables are to be joined on the ‘dept_no’ key.\n",
    "\n",
    "Match each join type with the resulting table.\n",
    "\n",
    "\n",
    "Select the correct option from below.\n",
    "\n",
    "\n",
    "A-2, B-1, C-4, D-5, E-3\n",
    "\n",
    "\n",
    "A-1, B-3, C-2, D-5, E-4\n",
    "\n",
    "\n",
    "A-4, B-3, C-1, D-2, E-5\n",
    "\n",
    "\n",
    "A-5, B-3, C-1, D-2, E-4    ✓ Correct"
   ]
  },
  {
   "cell_type": "code",
   "execution_count": null,
   "id": "4d89f7ec",
   "metadata": {},
   "outputs": [],
   "source": []
  },
  {
   "cell_type": "code",
   "execution_count": null,
   "id": "5fa0617e",
   "metadata": {},
   "outputs": [],
   "source": []
  },
  {
   "cell_type": "code",
   "execution_count": 1,
   "id": "50359b01",
   "metadata": {},
   "outputs": [],
   "source": [
    "import jovian"
   ]
  },
  {
   "cell_type": "code",
   "execution_count": 2,
   "id": "983c839c",
   "metadata": {},
   "outputs": [
    {
     "data": {
      "application/javascript": [
       "window.require && require([\"base/js/namespace\"],function(Jupyter){Jupyter.notebook.save_checkpoint()})"
      ],
      "text/plain": [
       "<IPython.core.display.Javascript object>"
      ]
     },
     "metadata": {},
     "output_type": "display_data"
    },
    {
     "name": "stdout",
     "output_type": "stream",
     "text": [
      "[jovian] Committed successfully! https://jovian.ai/ashutoshgole18/module-10-database-design-and-introduction-to-mysql\u001b[0m\n"
     ]
    },
    {
     "data": {
      "text/plain": [
       "'https://jovian.ai/ashutoshgole18/module-10-database-design-and-introduction-to-mysql'"
      ]
     },
     "execution_count": 2,
     "metadata": {},
     "output_type": "execute_result"
    }
   ],
   "source": [
    "jovian.commit()"
   ]
  },
  {
   "cell_type": "code",
   "execution_count": null,
   "id": "32b6aebc",
   "metadata": {},
   "outputs": [],
   "source": []
  }
 ],
 "metadata": {
  "kernelspec": {
   "display_name": "Python 3 (ipykernel)",
   "language": "python",
   "name": "python3"
  },
  "language_info": {
   "codemirror_mode": {
    "name": "ipython",
    "version": 3
   },
   "file_extension": ".py",
   "mimetype": "text/x-python",
   "name": "python",
   "nbconvert_exporter": "python",
   "pygments_lexer": "ipython3",
   "version": "3.9.7"
  }
 },
 "nbformat": 4,
 "nbformat_minor": 5
}
