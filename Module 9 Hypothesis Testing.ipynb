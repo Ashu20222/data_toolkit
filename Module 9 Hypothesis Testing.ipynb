{
 "cells": [
  {
   "cell_type": "markdown",
   "id": "7b34ccd5",
   "metadata": {},
   "source": [
    "# Concepts of Hypothesis Testing - I"
   ]
  },
  {
   "cell_type": "markdown",
   "id": "18424ae6",
   "metadata": {},
   "source": [
    "## Understanding Hypothesis Testing"
   ]
  },
  {
   "cell_type": "markdown",
   "id": "ea0e69b6",
   "metadata": {},
   "source": [
    "Null and Alternate Hypotheses\n",
    "In the Maggi Noodles example, if you fail to reject the null hypothesis, what can you conclude from this statement?\n",
    "\n",
    "\n",
    "Maggi Noodles contain excess lead\n",
    "\n",
    "Maggi Noodles do not contain excess lead     ✓ Correct"
   ]
  },
  {
   "cell_type": "code",
   "execution_count": null,
   "id": "7f8d3745",
   "metadata": {},
   "outputs": [],
   "source": []
  },
  {
   "cell_type": "markdown",
   "id": "425fdc6b",
   "metadata": {},
   "source": [
    "Types of Hypotheses\n",
    "The null and alternative hypotheses divide all possibilities into:\n",
    "\n",
    "\n",
    "2 sets that overlap\n",
    "\n",
    "2 non-overlapping sets     ✓ Correct"
   ]
  },
  {
   "cell_type": "code",
   "execution_count": null,
   "id": "dcf0c9fc",
   "metadata": {},
   "outputs": [],
   "source": []
  },
  {
   "cell_type": "markdown",
   "id": "2eebbf87",
   "metadata": {},
   "source": [
    "## Null and Alternate Hypotheses"
   ]
  },
  {
   "cell_type": "markdown",
   "id": "f7dc3174",
   "metadata": {},
   "source": [
    "Null and Alternate Hypotheses\n",
    "The average commute time for an UpGrad employee to and from office is at least 35 minutes.\n",
    "\n",
    "What will be the null and alternate hypotheses in this case if the average time is represented by μ?\n",
    "\n",
    "\n",
    "H₀: μ ≤ 35 minutes and H₁: μ > 35 minutes\n",
    "\n",
    "\n",
    "H₀: μ > 35 minutes and H₁: μ ≤ 35 minutes\n",
    "\n",
    "\n",
    "H₀: μ ≥ 35 minutes and H₁: μ < 35 minutes     ✓ Correct"
   ]
  },
  {
   "cell_type": "code",
   "execution_count": null,
   "id": "0bcbda7e",
   "metadata": {},
   "outputs": [],
   "source": []
  },
  {
   "cell_type": "markdown",
   "id": "f5e52e40",
   "metadata": {},
   "source": [
    "Null and Alternate Hypotheses\n",
    "Goodyear claims that each of its tyres can travel more than 7500 miles on average before they need any replacement.\n",
    "\n",
    "Assuming that the average travel distance is given by μ, what would be the null and the alternate hypothesis in this case?\n",
    "\n",
    "\n",
    "H₀: μ>7500 miles and H₁: μ ≤ 7500 miles\n",
    "\n",
    "\n",
    "H₀: μ  ≥ 7500 miles and H₁: μ < 7500 miles\n",
    "\n",
    "\n",
    "H₀: μ < 7500 miles and H₁: μ  ≥  7500 miles\n",
    "\n",
    "\n",
    "H₀: μ  ≤  7500 miles and H₁: μ > 7500 miles      ✓ Correct"
   ]
  },
  {
   "cell_type": "code",
   "execution_count": null,
   "id": "2c60cf05",
   "metadata": {},
   "outputs": [],
   "source": []
  },
  {
   "cell_type": "markdown",
   "id": "a81c2355",
   "metadata": {},
   "source": [
    "## Making a Decision"
   ]
  },
  {
   "cell_type": "markdown",
   "id": "03c96ff9",
   "metadata": {},
   "source": [
    "Making a decision\n",
    "If your sample mean lies in the acceptance region, then:\n",
    "\n",
    "\n",
    "You reject the null hypothesis\n",
    "\n",
    "You fail to reject the null hypothesis     ✓ Correct"
   ]
  },
  {
   "cell_type": "code",
   "execution_count": null,
   "id": "72ce4eb9",
   "metadata": {},
   "outputs": [],
   "source": []
  },
  {
   "cell_type": "markdown",
   "id": "01e47ba1",
   "metadata": {},
   "source": [
    "Null and Alternate Hypotheses\n",
    "The average commute time for an UpGrad employee to and from office is at least 35 minutes.\n",
    "\n",
    "If this hypothesis has to be tested, select the type of the test and the location of the critical region.\n",
    "\n",
    "\n",
    "Lower-tailed test, with the rejection region on the right side\n",
    "\n",
    "Upper-tailed test, with the rejection region on the right side\n",
    "\n",
    "Lower-tailed test, with the rejection region on the left side     ✓ Correct"
   ]
  },
  {
   "cell_type": "code",
   "execution_count": null,
   "id": "e4e7a55c",
   "metadata": {},
   "outputs": [],
   "source": []
  },
  {
   "cell_type": "markdown",
   "id": "7d8de704",
   "metadata": {},
   "source": [
    "Null and Alternate Hypotheses\n",
    "A courier claims that the average delivery time of goods is 3 days. Choose the correct formulation of hypothesis along with the correct test.\n",
    "\n",
    "\n",
    "4th option is right  ✓ Correct"
   ]
  },
  {
   "cell_type": "code",
   "execution_count": null,
   "id": "8e1e0581",
   "metadata": {},
   "outputs": [],
   "source": []
  },
  {
   "cell_type": "markdown",
   "id": "59ae74b5",
   "metadata": {},
   "source": [
    "Null and Alternate Hypotheses\n",
    "A researcher claims that the weight of an average male Bengal tiger is less than 220 KG.\n",
    "\n",
    "None of the above    ✓ Correct"
   ]
  },
  {
   "cell_type": "code",
   "execution_count": null,
   "id": "77a8170b",
   "metadata": {},
   "outputs": [],
   "source": []
  },
  {
   "cell_type": "markdown",
   "id": "bb9c0f99",
   "metadata": {},
   "source": [
    "## Critical Value Method"
   ]
  },
  {
   "cell_type": "markdown",
   "id": "988f9768",
   "metadata": {},
   "source": [
    "Area of rejection region\n",
    "What will be the area of the critical region on the right-hand side of the distribution if the significance level (α) for a two-tailed test is 3%?\n",
    "\n",
    "\n",
    "0.03\n",
    "\n",
    "0.97\n",
    "\n",
    "0.015    ✓ Correct"
   ]
  },
  {
   "cell_type": "code",
   "execution_count": null,
   "id": "fb1464ea",
   "metadata": {},
   "outputs": [],
   "source": []
  },
  {
   "cell_type": "markdown",
   "id": "3b8da07a",
   "metadata": {},
   "source": [
    "Area of rejection region\n",
    "What would be the area of the critical region on the right-hand side of the distribution if the significance level (α) for an upper-tailed test is 3%?\n",
    "\n",
    "\n",
    "0.03      ✓ Correct"
   ]
  },
  {
   "cell_type": "code",
   "execution_count": null,
   "id": "34d028cf",
   "metadata": {},
   "outputs": [],
   "source": []
  },
  {
   "cell_type": "markdown",
   "id": "2822c7b0",
   "metadata": {},
   "source": [
    "Area of rejection region\n",
    "What would be the value of the cumulative probability of UCV if the significance level (α) for an upper-tailed test is 3%?\n",
    "\n",
    "\n",
    "0.03\n",
    "\n",
    "0.97     ✓ Correct"
   ]
  },
  {
   "cell_type": "code",
   "execution_count": null,
   "id": "3aeb740a",
   "metadata": {},
   "outputs": [],
   "source": []
  },
  {
   "cell_type": "markdown",
   "id": "34f47d56",
   "metadata": {},
   "source": [
    "Critical Value Method\n",
    "1st step: Calculate the value of Zc from the given value of α (significance level).\n",
    "\n",
    "Calculate the z-critical score for the two-tailed test at 3% significance level.\n",
    "\n",
    "\n",
    "1.88\n",
    "\n",
    "1.04\n",
    "\n",
    "2.965\n",
    "\n",
    "2.17    ✓ Correct"
   ]
  },
  {
   "cell_type": "code",
   "execution_count": null,
   "id": "b8c53b10",
   "metadata": {},
   "outputs": [],
   "source": []
  },
  {
   "cell_type": "markdown",
   "id": "c1b022b7",
   "metadata": {},
   "source": [
    "Critical Value Method\n",
    "2nd step: Calculate the critical values (UCV and LCV) from the value of Zc.\n",
    "\n",
    "Find out the UCV and LCV values for Zc = 2.17.\n",
    "\n",
    "μ = 36 months        σ = 4 months       n (Sample size) = 49\n",
    "\n",
    "\n",
    "UCV = 37.24 and LCV = 34.76      ✓ Correct"
   ]
  },
  {
   "cell_type": "code",
   "execution_count": null,
   "id": "bdecbc1a",
   "metadata": {},
   "outputs": [],
   "source": []
  },
  {
   "cell_type": "markdown",
   "id": "4d5cd3f7",
   "metadata": {},
   "source": [
    "Critical Value Method\n",
    "3rd step: Make the decision on the basis of the value of the sample mean ​\n",
    "¯\n",
    "x\n",
    " with respect to the critical values (UCV AND LCV).\n",
    "\n",
    "What would be the result of this hypothesis test?\n",
    "\n",
    "UCV = 37.24 months                 LCV = 34.76 months              Sample mean (​\n",
    "¯\n",
    "x\n",
    ") = 34.5 months\n",
    "\n",
    "\n",
    "Fail to reject the null hypothesis\n",
    "\n",
    "Reject the null hypothesis     ✓ Correct"
   ]
  },
  {
   "cell_type": "code",
   "execution_count": null,
   "id": "11a751db",
   "metadata": {},
   "outputs": [],
   "source": []
  },
  {
   "cell_type": "markdown",
   "id": "459f1577",
   "metadata": {},
   "source": [
    "## Critical Value Method - Examples"
   ]
  },
  {
   "cell_type": "markdown",
   "id": "c17d0cd9",
   "metadata": {},
   "source": [
    "Critical Value Method\n",
    "Consider this problem — H₀: μ ≤ 350 and H₁: μ > 350\n",
    "\n",
    "In case of a two-tailed test, you find the z-score of 0.975 in the z-table, since 0.975 was cumulative probability of UCV in that case. In this problem, what would be the cumulative probability of critical point in this example for the same significance level of 5%?\n",
    "\n",
    "\n",
    "0.975\n",
    "\n",
    "0.025\n",
    "\n",
    "0.950    ✓ Correct"
   ]
  },
  {
   "cell_type": "code",
   "execution_count": null,
   "id": "631b5664",
   "metadata": {},
   "outputs": [],
   "source": []
  },
  {
   "cell_type": "markdown",
   "id": "8e2e77d3",
   "metadata": {},
   "source": [
    "Critical Value Method\n",
    "Consider this problem — H₀: μ ≤ 350 and H₁: μ > 350\n",
    "\n",
    "The next step would be to find the Zc, which would basically be the z-score for the value of 0.950. Look at the z-table and find the value of Zc.\n",
    "\n",
    "\n",
    "1.64\n",
    "\n",
    "1.645    ✓ Correct"
   ]
  },
  {
   "cell_type": "code",
   "execution_count": null,
   "id": "99b1812b",
   "metadata": {},
   "outputs": [],
   "source": []
  },
  {
   "cell_type": "markdown",
   "id": "7854df6c",
   "metadata": {},
   "source": [
    "Critical Value Method\n",
    "Consider this problem, H₀: μ ≤ 350 and H₁: μ > 350\n",
    "\n",
    "So, the Zc comes out to be 1.645. Now, find the critical value for the given Zc and make the decision to accept or reject the null hypothesis.\n",
    "\n",
    "μ = 350     σ = 90       N (Sample size) = 36    \n",
    "¯\n",
    "x\n",
    "= 370.16\n",
    "\n",
    "\n",
    "Critical value = 374.67 and Decision = Reject the null hypothesis\n",
    "\n",
    "Critical value = 326.25 and Decision = Reject the null hypothesis\n",
    "\n",
    "Critical value = 374.67 and Decision = Fail to reject the null hypothesis      ✓ Correct"
   ]
  },
  {
   "cell_type": "code",
   "execution_count": null,
   "id": "c0fd4e7e",
   "metadata": {},
   "outputs": [],
   "source": []
  },
  {
   "cell_type": "markdown",
   "id": "458a01e9",
   "metadata": {},
   "source": [
    "Critical Value Method\n",
    "Consider this problem, H₀: μ ≤ 350 and H₁: μ > 350\n",
    "\n",
    "So, the Zc comes out to be 1.645. Now, find the critical value for the given Zc and make the decision to accept or reject the null hypothesis.\n",
    "\n",
    "μ = 350     σ = 90       N (Sample size) = 36    \n",
    "¯\n",
    "x\n",
    "= 370.16\n",
    "\n",
    "\n",
    "Critical value = 374.67 and Decision = Reject the null hypothesis\n",
    "\n",
    "Critical value = 326.25 and Decision = Reject the null hypothesis\n",
    "\n",
    "Critical value = 374.67 and Decision = Fail to reject the null hypothesis     ✓ Correct"
   ]
  },
  {
   "cell_type": "code",
   "execution_count": null,
   "id": "9e955726",
   "metadata": {},
   "outputs": [],
   "source": []
  },
  {
   "cell_type": "markdown",
   "id": "45b8a174",
   "metadata": {},
   "source": [
    "Critical Value Method\n",
    "Calculate the z-critical score for this test at 3% significance level.\n",
    "\n",
    "\n",
    "1.88    ✓ Correct"
   ]
  },
  {
   "cell_type": "code",
   "execution_count": null,
   "id": "6a81a3f8",
   "metadata": {},
   "outputs": [],
   "source": []
  },
  {
   "cell_type": "markdown",
   "id": "a21b85ea",
   "metadata": {},
   "source": [
    "Critical Value Method\n",
    "Now, you need to find out the critical values and make a decision on whether to raise a regulatory alarm against Sunshine or not. Select the correct option.\n",
    "\n",
    "\n",
    "Critical value = 2.61 ppm and Decision: Raise a regulatory alarm\n",
    "\n",
    "Critical value = 2.63 ppm and Decision: Raise a regulatory alarm\n",
    "\n",
    "Critical value = 2.61 ppm and Decision: Don’t raise a regulatory alarm      ✓ Correct\n"
   ]
  },
  {
   "cell_type": "code",
   "execution_count": null,
   "id": "5468cf41",
   "metadata": {},
   "outputs": [],
   "source": []
  },
  {
   "cell_type": "markdown",
   "id": "a2549246",
   "metadata": {},
   "source": [
    "Critical Value Method\n",
    "The critical value for this test at 3% significance level comes out to be 2.61 ppm. If you take more than 100 samples (with the same sample mean and standard deviation), how would the z-score and critical value change?\n",
    "\n",
    "\n",
    "Both the z-score and the critical value would increase\n",
    "\n",
    "The z-score would remain the same but the critical value would increase\n",
    "\n",
    "The z-score would remain the same but the critical value would decrease       ✓ Correct"
   ]
  },
  {
   "cell_type": "code",
   "execution_count": null,
   "id": "b3b9615a",
   "metadata": {},
   "outputs": [],
   "source": []
  },
  {
   "cell_type": "markdown",
   "id": "25deb2f0",
   "metadata": {},
   "source": [
    "## Graded Questions"
   ]
  },
  {
   "cell_type": "markdown",
   "id": "f298c983",
   "metadata": {},
   "source": [
    "Types of hypotheses\n",
    "The null and alternative hypotheses are statements about:\n",
    "\n",
    "\n",
    "Population parameters     ✓ Correct"
   ]
  },
  {
   "cell_type": "code",
   "execution_count": null,
   "id": "ef72b918",
   "metadata": {},
   "outputs": [],
   "source": []
  },
  {
   "cell_type": "markdown",
   "id": "a0f19713",
   "metadata": {},
   "source": [
    "Null and Alternate Hypotheses\n",
    "A house owner claims that the current market value of his house is at least Rs.40,00,000.  60 real estate agents are asked independently to estimate the house's value. The hypothesis test that is conducted ends with the decision of \"reject H₀\".  Which of the following statements accurately states the conclusion?\n",
    "\n",
    "\n",
    "The house owner is right, the house is worth Rs. 40,00,000\n",
    "\n",
    "\n",
    "The house owner is right, the house is worth less than Rs. 40,00,000\n",
    "\n",
    "\n",
    "The house owner is wrong, the house is worth less than Rs. 40,00,000     ✓ Correct"
   ]
  },
  {
   "cell_type": "code",
   "execution_count": null,
   "id": "da240e04",
   "metadata": {},
   "outputs": [],
   "source": []
  },
  {
   "cell_type": "markdown",
   "id": "cd18dc85",
   "metadata": {},
   "source": [
    "Null and Alternate Hypotheses\n",
    "Which of the following options hold true for null hypothesis?\n",
    "\n",
    "More than one option may be correct.\n",
    "\n",
    "\n",
    "The claim with only the “less than” sign\n",
    "\n",
    "\n",
    "The claim with the “less than or equal to” sign    ✓ Correct\n",
    "\n",
    "The claim with the “equal to” sign      ✓ Correct"
   ]
  },
  {
   "cell_type": "code",
   "execution_count": null,
   "id": "7786ea0a",
   "metadata": {},
   "outputs": [],
   "source": []
  },
  {
   "cell_type": "markdown",
   "id": "732acde8",
   "metadata": {},
   "source": [
    "Critical Value Method\n",
    "What would be the Zc for the critical point/s in this case?\n",
    "\n",
    "\n",
    "2.33    ✓ Correct"
   ]
  },
  {
   "cell_type": "code",
   "execution_count": null,
   "id": "4163e1ee",
   "metadata": {},
   "outputs": [],
   "source": []
  },
  {
   "cell_type": "markdown",
   "id": "0feee03c",
   "metadata": {},
   "source": [
    "Critical Value Method\n",
    "Find out the critical values for this test and conclude whether the QA team can safely pass this test or not.\n",
    "\n",
    "\n",
    "UCV = 62.49 g, LCV = 57.51 g and Result = Pass the test\n",
    "\n",
    "\n",
    "UCV = 62.49 g, LCV = 57.51 g and Result = Don’t pass the test      ✓ Correct"
   ]
  },
  {
   "cell_type": "code",
   "execution_count": null,
   "id": "aac0eeb4",
   "metadata": {},
   "outputs": [],
   "source": []
  },
  {
   "cell_type": "markdown",
   "id": "91a05cb1",
   "metadata": {},
   "source": [
    "Hypothesis Definition and Critical Region\n",
    "What would be the null/alternate hypotheses in this case and where would the critical region lie?\n",
    "\n",
    "\n",
    "H₀: μ ≥ 300 p.p.m. and H₁: μ < 300 p.p.m.; Critical region lies on the left side of the tail    ✓ Correct"
   ]
  },
  {
   "cell_type": "code",
   "execution_count": null,
   "id": "96d6bcf6",
   "metadata": {},
   "outputs": [],
   "source": []
  },
  {
   "cell_type": "markdown",
   "id": "9375a855",
   "metadata": {},
   "source": [
    "Critical Value and Final Decision\n",
    "What would be the Zc for this case?\n",
    "\n",
    "\n",
    "-1.65\n",
    "\n",
    "\n",
    "-1.96\n",
    "\n",
    "\n",
    "-1.88     ✓ Correct"
   ]
  },
  {
   "cell_type": "code",
   "execution_count": null,
   "id": "18848ed7",
   "metadata": {},
   "outputs": [],
   "source": []
  },
  {
   "cell_type": "markdown",
   "id": "be98618b",
   "metadata": {},
   "source": [
    "Critical Value and Final Decision\n",
    "What would be the critical value and the final decision to be made here?\n",
    "\n",
    "\n",
    "292.33; Reject the null hypothesis\n",
    "\n",
    "\n",
    "297.65; Reject the null hypothesis      ✓ Correct"
   ]
  },
  {
   "cell_type": "code",
   "execution_count": null,
   "id": "abc2d391",
   "metadata": {},
   "outputs": [],
   "source": []
  },
  {
   "cell_type": "markdown",
   "id": "1116b947",
   "metadata": {},
   "source": [
    "Null and Alternate Hypotheses\n",
    "A weather forecast agency predicts that the average rainfall this year will be more than 800mm. Determine the null and alternate hypotheses along with the type of test.\n",
    "\n",
    "4th is correct option"
   ]
  },
  {
   "cell_type": "code",
   "execution_count": null,
   "id": "708913c4",
   "metadata": {},
   "outputs": [],
   "source": []
  },
  {
   "cell_type": "markdown",
   "id": "7c45fd17",
   "metadata": {},
   "source": [
    "Null and Alternate Hypotheses\n",
    "Suppose the average weight of a sedan is 1300 kg. A researcher claims that SUVs are, on average, more than 200 kg heavier than sedans. What is the null hypothesis, and what kind of test is this?\n",
    "\n",
    "\n",
    "2nd option is correct one"
   ]
  },
  {
   "cell_type": "code",
   "execution_count": null,
   "id": "7df334b5",
   "metadata": {},
   "outputs": [],
   "source": []
  },
  {
   "cell_type": "markdown",
   "id": "04779c02",
   "metadata": {},
   "source": [
    "## Concepts of Hypothesis Testing - II"
   ]
  },
  {
   "cell_type": "markdown",
   "id": "d916e971",
   "metadata": {},
   "source": [
    "The p-Value Method\n",
    "Step 1: Calculate the value of the z-score for the sample mean point of the distribution. Calculate the z-score for the sample mean (\n",
    "¯\n",
    "x\n",
    ") = 34.5 months.\n",
    "\n",
    "\n",
    "0.86\n",
    "\n",
    "\n",
    "-0.86\n",
    "\n",
    "\n",
    "2.62\n",
    "\n",
    "\n",
    "-2.62     ✓ Correct"
   ]
  },
  {
   "cell_type": "code",
   "execution_count": null,
   "id": "94cf8710",
   "metadata": {},
   "outputs": [],
   "source": []
  },
  {
   "cell_type": "markdown",
   "id": "cae6f71e",
   "metadata": {},
   "source": [
    "The p-Value Method\n",
    "Step 2: Calculate the p-value from the cumulative probability for the given z-score using the z-table.\n",
    "\n",
    "Find out the p-value for a z-score of -2.62 (corresponding to the sample mean of 34.5 months). \n",
    "\n",
    "Hint: The sample mean is on the left side of the distribution, and it is a two-tailed test.\n",
    "\n",
    "\n",
    "0.0044\n",
    "\n",
    "\n",
    "0.9956\n",
    "\n",
    "\n",
    "0.0088    ✓ Correct"
   ]
  },
  {
   "cell_type": "code",
   "execution_count": null,
   "id": "cfc4dd46",
   "metadata": {},
   "outputs": [],
   "source": []
  },
  {
   "cell_type": "markdown",
   "id": "2efaa83a",
   "metadata": {},
   "source": [
    "The p-Value Method\n",
    "Step 2: Calculate the p-value from the cumulative probability for the given z-score using the z-table.\n",
    "\n",
    "Find out the p-value for a z-score of -2.62 (corresponding to the sample mean of 34.5 months). \n",
    "\n",
    "Hint: The sample mean is on the left side of the distribution, and it is a two-tailed test.\n",
    "\n",
    "\n",
    "0.0044\n",
    "\n",
    "\n",
    "0.9956\n",
    "\n",
    "\n",
    "0.0088      ✓ Correct"
   ]
  },
  {
   "cell_type": "code",
   "execution_count": null,
   "id": "a7a58a6e",
   "metadata": {},
   "outputs": [],
   "source": []
  },
  {
   "cell_type": "markdown",
   "id": "bf5ec018",
   "metadata": {},
   "source": [
    "## The p-value Method: Examples"
   ]
  },
  {
   "cell_type": "markdown",
   "id": "98b7f383",
   "metadata": {},
   "source": [
    "The p-Value Method\n",
    "Calculate the Z-score for the sample mean (\n",
    "¯\n",
    "2.73     ✓ Correct"
   ]
  },
  {
   "cell_type": "code",
   "execution_count": null,
   "id": "55da9448",
   "metadata": {},
   "outputs": [],
   "source": []
  },
  {
   "cell_type": "markdown",
   "id": "35812792",
   "metadata": {},
   "source": [
    "The p-Value Method\n",
    "Find out the p-value for the Z-score of 2.73 (corresponding to the sample mean of 510 mg).\n",
    "\n",
    "\n",
    "0.0032\n",
    "\n",
    "\n",
    "0.0064     ✓ Correct"
   ]
  },
  {
   "cell_type": "code",
   "execution_count": null,
   "id": "f8c6b130",
   "metadata": {},
   "outputs": [],
   "source": []
  },
  {
   "cell_type": "markdown",
   "id": "1b539e63",
   "metadata": {},
   "source": [
    "The p-Value Method\n",
    "Based on this hypothesis test, what decision would you make about the manufacturing process?\n",
    "\n",
    "\n",
    "The manufacturing process is completely fine and need not be changed.\n",
    "\n",
    "\n",
    "The manufacturing process is not fine, and changes need to be made.       ✓ Correct"
   ]
  },
  {
   "cell_type": "code",
   "execution_count": null,
   "id": "91850417",
   "metadata": {},
   "outputs": [],
   "source": []
  },
  {
   "cell_type": "markdown",
   "id": "5255ff55",
   "metadata": {},
   "source": [
    "Null and Alternative Hypotheses\n",
    "What are the null and alternative hypotheses in this case?\n",
    "\n",
    "1st option is correct"
   ]
  },
  {
   "cell_type": "code",
   "execution_count": null,
   "id": "b4c2a46a",
   "metadata": {},
   "outputs": [],
   "source": []
  },
  {
   "cell_type": "markdown",
   "id": "01ff0bd3",
   "metadata": {},
   "source": [
    "Z-Score of the Sample Mean\n",
    "Based on the information above, conduct a hypothesis test at a 5% significance level using the p-value method. What is the Z-score of the sample mean point \n",
    "¯\n",
    "x\n",
    " = 7%?\n",
    "    \n",
    "    \n",
    "-2.0        ✓ Correct"
   ]
  },
  {
   "cell_type": "code",
   "execution_count": null,
   "id": "96060c2d",
   "metadata": {},
   "outputs": [],
   "source": []
  },
  {
   "cell_type": "markdown",
   "id": "75a67eb0",
   "metadata": {},
   "source": [
    "p-Value of the Z-Score\n",
    "Calculate the p-value from the cumulative probability for the given Z-score using the Z-table. In other words, find out the p-value for the Z-score of -2.0 (corresponding to the sample mean of 7%).\n",
    "\n",
    "\n",
    "0.0228      ✓ Correct"
   ]
  },
  {
   "cell_type": "code",
   "execution_count": null,
   "id": "74646b4e",
   "metadata": {},
   "outputs": [],
   "source": []
  },
  {
   "cell_type": "markdown",
   "id": "cbe1711b",
   "metadata": {},
   "source": [
    "Making a Decision\n",
    "Make the decision on the basis of the p-value with respect to the given value of α (significance value).\n",
    "\n",
    "\n",
    "You reject the null hypothesis because the p-value is less than 0.05.        ✓ Correct"
   ]
  },
  {
   "cell_type": "code",
   "execution_count": null,
   "id": "36e9dc21",
   "metadata": {},
   "outputs": [],
   "source": []
  },
  {
   "cell_type": "markdown",
   "id": "468e4eac",
   "metadata": {},
   "source": [
    "## Graded Questions"
   ]
  },
  {
   "cell_type": "markdown",
   "id": "3c487f80",
   "metadata": {},
   "source": [
    "The p-Value Method\n",
    "Suppose you are conducting a hypothesis test where the sample size is 49. Now, you want to conduct another hypothesis test on a different sample, where the sample size is 121. The p-value calculated in the first case comes out to be 0.0512. What will happen to the p-value in the second case if you observe the same values for the sample mean and the sample standard deviation for both the cases?\n",
    "\n",
    "\n",
    "It will increase.\n",
    "\n",
    "\n",
    "It will decrease.    ✓ Correct"
   ]
  },
  {
   "cell_type": "code",
   "execution_count": null,
   "id": "08263251",
   "metadata": {},
   "outputs": [],
   "source": []
  },
  {
   "cell_type": "markdown",
   "id": "e1ef62c1",
   "metadata": {},
   "source": [
    "Types of Errors\n",
    "Consider the null hypothesis that a process produces no more than the maximum permissible rate of defective items. In this situation, a type-II error would be ___.\n",
    "\n",
    "\n",
    "To conclude that the process does not produce more than the maximum permissible rate of defective items when it actually does not.\n",
    "\n",
    "\n",
    "To conclude that the process produces more than the maximum permissible rate of defective items when it actually does.\n",
    "\n",
    "\n",
    "To conclude that the process produces more than the maximum permissible rate of defective items when it actually does not.\n",
    "\n",
    "\n",
    "To conclude that the process does not produce more than the maximum permissible rate of defective items when it actually does.     ✓ Correct"
   ]
  },
  {
   "cell_type": "code",
   "execution_count": null,
   "id": "771d983b",
   "metadata": {},
   "outputs": [],
   "source": []
  },
  {
   "cell_type": "markdown",
   "id": "e92a8a9a",
   "metadata": {},
   "source": [
    "Types of Errors\n",
    "A screening test for a serious but curable disease is similar to hypothesis testing. In this instance, the null hypothesis would be that the person does not have the disease, and the alternative hypothesis would be that the person has the disease. If the null hypothesis is rejected, it means that the disease is detected and treatment will be provided to the particular patient. Otherwise, it will not. Assuming that the treatment does not have serious side effects, in this scenario, it is better to increase the probability of ___.\n",
    "\n",
    "\n",
    "Making a type-I error, i.e., not provide treatment when it is needed.\n",
    "\n",
    "\n",
    "Making a type-I error, i.e., provide treatment when it is not needed.     ✓ Correct"
   ]
  },
  {
   "cell_type": "code",
   "execution_count": null,
   "id": "0b0ab48c",
   "metadata": {},
   "outputs": [],
   "source": []
  },
  {
   "cell_type": "markdown",
   "id": "685819f3",
   "metadata": {},
   "source": [
    "# Industry Demonstration I"
   ]
  },
  {
   "cell_type": "markdown",
   "id": "3cd7aa68",
   "metadata": {},
   "source": [
    "## Graded Questions"
   ]
  },
  {
   "cell_type": "markdown",
   "id": "bfeecef6",
   "metadata": {},
   "source": [
    "Null Hypothesis\n",
    "What will be the null hypothesis in this case?\n",
    "\n",
    "\n",
    "H\n",
    "0\n",
    ": Students who passed the test and bought the course get a scholarship of 60% on an average.\n",
    "\n",
    "\n",
    "H\n",
    "0\n",
    ": Students who passed the test and bought the course get a scholarship of  60% or less on an average.\n",
    "\n",
    "\n",
    "H\n",
    "0\n",
    ": Students who did not pass the test and bought the course get a scholarship of  60% or less on an average.\n",
    "\n",
    "\n",
    "H\n",
    "0\n",
    ": Students who passed the test and bought the course get a scholarship of  60% or more on an average.      ✓ Correct"
   ]
  },
  {
   "cell_type": "code",
   "execution_count": null,
   "id": "b92a1a36",
   "metadata": {},
   "outputs": [],
   "source": []
  },
  {
   "cell_type": "markdown",
   "id": "687cfaee",
   "metadata": {},
   "source": [
    "Making Decisions\n",
    "Recall that for the sample of 81 students, the mean scholarship was 57.5% with a standard deviation of 19%. Based on the hypothesis that you framed, what will the decision that you take be?\n",
    "\n",
    "Choose a 1% significance level.\n",
    "\n",
    "\n",
    "Reject the null hypothesis.\n",
    "\n",
    "\n",
    "Fail to reject the null hypothesis.    ✓ Correct"
   ]
  },
  {
   "cell_type": "code",
   "execution_count": null,
   "id": "428cdcbc",
   "metadata": {},
   "outputs": [],
   "source": []
  },
  {
   "cell_type": "markdown",
   "id": "d5986f34",
   "metadata": {},
   "source": [
    "Z-Score\n",
    "Suppose that the null and alternate hypothesis that you framed in this case are:\n",
    "\n",
    "H\n",
    "0\n",
    ": Percentage of users who bought the subscription for Game of Thrones \n",
    "≥\n",
    " 60%\n",
    "\n",
    "H\n",
    "A\n",
    ": Percentage of users who bought the subscription for Game of Thrones \n",
    "<\n",
    " 60%\n",
    "\n",
    " \n",
    "\n",
    "Calculate the approximate value of Z-score using the data as the first step to evaluate your hypothesis.\n",
    "\n",
    "\n",
    "1.89\n",
    "\n",
    "\n",
    "-1.89\n",
    "\n",
    "\n",
    "1.76\n",
    "\n",
    "\n",
    "-1.76      ✓ Correct"
   ]
  },
  {
   "cell_type": "code",
   "execution_count": null,
   "id": "9ee6cb7a",
   "metadata": {},
   "outputs": [],
   "source": []
  },
  {
   "cell_type": "markdown",
   "id": "c63cfdba",
   "metadata": {},
   "source": [
    "Making a decision\n",
    "From the Z-value you calculated in the last case, what will the p-value be? On the basis of this p-value, what decision will you take for a significance level of 5%?\n",
    "\n",
    "(You can access the Z-table here.)\n",
    "\n",
    "\n",
    "p-value = 0.0392, Reject the null hypothesis     ✓ Correct"
   ]
  },
  {
   "cell_type": "code",
   "execution_count": null,
   "id": "f6b137f0",
   "metadata": {},
   "outputs": [],
   "source": []
  },
  {
   "cell_type": "markdown",
   "id": "e1429688",
   "metadata": {},
   "source": [
    "# Industry Demonstration II"
   ]
  },
  {
   "cell_type": "markdown",
   "id": "31ff3c29",
   "metadata": {},
   "source": [
    "## T Distribution"
   ]
  },
  {
   "cell_type": "markdown",
   "id": "061a3783",
   "metadata": {},
   "source": [
    "Type of tests\n",
    "If the sample size is 10 and the standard deviation of the population is known, which distribution should be used to calculate the critical values and make the decision during hypothesis testing?\n",
    "\n",
    "\n",
    "Standard normal distribution (z-distribution)      ✓ Correct"
   ]
  },
  {
   "cell_type": "code",
   "execution_count": null,
   "id": "b7a5155e",
   "metadata": {},
   "outputs": [],
   "source": []
  },
  {
   "cell_type": "markdown",
   "id": "127cede8",
   "metadata": {},
   "source": [
    "Type of tests\n",
    "If the sample size is 10 and the standard deviation of the population is unknown, which distribution should be used to calculate the critical values and make the decision during hypothesis testing?\n",
    "\n",
    "\n",
    "Standard normal distribution (z-distribution)\n",
    "\n",
    "T distribution     ✓ Correct"
   ]
  },
  {
   "cell_type": "code",
   "execution_count": null,
   "id": "475554a4",
   "metadata": {},
   "outputs": [],
   "source": []
  },
  {
   "cell_type": "markdown",
   "id": "ecc6ac62",
   "metadata": {},
   "source": [
    "t-test\n",
    "You are given the standard deviation of a sample of size 25 for a two-tailed hypothesis test of a significance level of 5%.\n",
    "\n",
    "Use the t-table given above to find the value of Zc.\n",
    "\n",
    "\n",
    "1.711\n",
    "\n",
    "2.064      ✓ Correct"
   ]
  },
  {
   "cell_type": "code",
   "execution_count": null,
   "id": "bac6bab4",
   "metadata": {},
   "outputs": [],
   "source": []
  },
  {
   "cell_type": "markdown",
   "id": "3b683a37",
   "metadata": {},
   "source": [
    "t-test\n",
    "You are given the standard deviation of a sample of size 32 for a two-tailed hypothesis test of a significance level of 5%.\n",
    "\n",
    "Use the t-table given above to find the value of Zc.\n",
    "\n",
    "\n",
    "1.711\n",
    "\n",
    "2.064\n",
    "\n",
    "1.645\n",
    "\n",
    "1.96      ✓ Correct"
   ]
  },
  {
   "cell_type": "code",
   "execution_count": null,
   "id": "c536b0f3",
   "metadata": {},
   "outputs": [],
   "source": []
  },
  {
   "cell_type": "markdown",
   "id": "45a74fb3",
   "metadata": {},
   "source": [
    "## Two-Sample Mean Test"
   ]
  },
  {
   "cell_type": "markdown",
   "id": "0725eb55",
   "metadata": {},
   "source": [
    "Two-Sample Mean Test - Paired\n",
    "There is a hypothesis that Virat Kohli performs better or as good in the second innings of a test match as the first innings. This would be a two-sample mean test, where sample 1 would contain his score from the first innings and sample 2 would contain his score from the second innings. This would be a paired test since each row in the data would correspond to the same match.\n",
    "\n",
    "What would be the null hypothesis in this case?\n",
    "\n",
    "\n",
    "H₀: μ₂ - μ₁ = 0\n",
    "\n",
    "H₀: μ₂ - μ₁ ≥ 0     ✓ Correct"
   ]
  },
  {
   "cell_type": "code",
   "execution_count": null,
   "id": "e8da4ffa",
   "metadata": {},
   "outputs": [],
   "source": []
  },
  {
   "cell_type": "markdown",
   "id": "4d938a0b",
   "metadata": {},
   "source": [
    "Two-Sample Mean Test - Unpaired\n",
    "What would be the p-value for this test if you consider it as a two-tailed test?\n",
    "\n",
    "\n",
    "0.0055\n",
    "\n",
    "0.011\n",
    "\n",
    "0.022    ✓ Correct"
   ]
  },
  {
   "cell_type": "code",
   "execution_count": null,
   "id": "7544cfa3",
   "metadata": {},
   "outputs": [],
   "source": []
  },
  {
   "cell_type": "markdown",
   "id": "f6810284",
   "metadata": {},
   "source": [
    "Two-Sample Mean Test - Unpaired\n",
    "What can you conclude from this test about the two unpaired samples if you take a significance level of 5%?\n",
    "\n",
    "\n",
    "There is no significant difference between the means of the two samples\n",
    "\n",
    "There is some significant difference between the means of the two samples    ✓ Correct"
   ]
  },
  {
   "cell_type": "code",
   "execution_count": null,
   "id": "4c8014a3",
   "metadata": {},
   "outputs": [],
   "source": []
  },
  {
   "cell_type": "markdown",
   "id": "087e6de6",
   "metadata": {},
   "source": [
    "# Statistics - Interview Practice"
   ]
  },
  {
   "cell_type": "markdown",
   "id": "e3e2cf00",
   "metadata": {},
   "source": [
    "## Practice Questions"
   ]
  },
  {
   "cell_type": "markdown",
   "id": "73a117ec",
   "metadata": {},
   "source": [
    "Distribution\n",
    "When you conduct a hypothesis test, on which distribution do you find the critical values or the p-values to find the statistical significance?\n",
    "\n",
    "\n",
    "Sample Distribution\n",
    "\n",
    "\n",
    "Sampling Distribution    ✓ Correct"
   ]
  },
  {
   "cell_type": "code",
   "execution_count": null,
   "id": "12df4f6c",
   "metadata": {},
   "outputs": [],
   "source": []
  },
  {
   "cell_type": "markdown",
   "id": "3ce7b26d",
   "metadata": {},
   "source": [
    "Types of Errors\n",
    "You have been given the following two sets of values for both the Types of Errors. \n",
    "\n",
    "Set A - Type I error: 0.05 and Type II error: 0.15\n",
    "\n",
    "Set B - Type I error: 0.25 and Type II error: 0.05\n",
    "\n",
    "Now choose the correct option\n",
    "\n",
    "\n",
    "You should use Set A values rather than the Set B values when it is more important to not reject a  true null hypothesis     ✓ Correct"
   ]
  },
  {
   "cell_type": "code",
   "execution_count": null,
   "id": "6825c02f",
   "metadata": {},
   "outputs": [],
   "source": []
  },
  {
   "cell_type": "markdown",
   "id": "65bbf460",
   "metadata": {},
   "source": [
    "Hypothesis Testing\n",
    "Let's say you took a sample of size 50 from a given population to conduct a hypothesis test. You calculated its mean and standard deviation and then its Z-score. Now based on the test statistic, the p-value came out to be 0.03. Since it was less than the chosen level of significance of 0.05, you rejected the null hypothesis.\n",
    "\n",
    "Which of the following statements are necessarily true based on the information given above\n",
    "\n",
    "\n",
    "When you take a different sample from the population and then test the same hypothesis, you'll always reject the null hypothesis as well.\n",
    "\n",
    "\n",
    "When you take a different sample from the population and then test the same hypothesis, you'll always fail to reject the null hypothesis.\n",
    "\n",
    "\n",
    "When you take a different sample from the population and then test the same hypothesis, it is possible that you will fail to reject the null hypothesis.     ✓ Correct"
   ]
  },
  {
   "cell_type": "code",
   "execution_count": null,
   "id": "2639cc36",
   "metadata": {},
   "outputs": [],
   "source": []
  },
  {
   "cell_type": "markdown",
   "id": "d3ba8875",
   "metadata": {},
   "source": [
    "Chi-Square Test\n",
    "Which variance is calculated as a part of the Chi-Square test?\n",
    "\n",
    "\n",
    "The variance of the Chi-Square distribution.\n",
    "\n",
    "\n",
    "The variance of the normal distribution.\n",
    "\n",
    "\n",
    "The variance between the expected and observed values.    ✓ Correct"
   ]
  },
  {
   "cell_type": "code",
   "execution_count": null,
   "id": "7d6dc7f7",
   "metadata": {},
   "outputs": [],
   "source": []
  },
  {
   "cell_type": "markdown",
   "id": "485ca48c",
   "metadata": {},
   "source": [
    "Sum of Squares - Within\n",
    "What is the total degrees of freedom when you are calculating Sum of Squares-Within, i.e., \n",
    "S\n",
    "S\n",
    "W\n",
    "i\n",
    "t\n",
    "h\n",
    "i\n",
    "n\n",
    "?\n",
    "\n",
    "Given that\n",
    "\n",
    "n = Total sample size (All groups combined)\n",
    "\n",
    "k = Total number of groups\n",
    "\n",
    "\n",
    "k-1\n",
    "\n",
    "\n",
    "n-1\n",
    "\n",
    "\n",
    "n-k     ✓ Correct"
   ]
  },
  {
   "cell_type": "code",
   "execution_count": null,
   "id": "e172b2f7",
   "metadata": {},
   "outputs": [],
   "source": []
  },
  {
   "cell_type": "code",
   "execution_count": null,
   "id": "9090476d",
   "metadata": {},
   "outputs": [],
   "source": [
    "import jovian "
   ]
  },
  {
   "cell_type": "code",
   "execution_count": 7,
   "id": "02a8f60e",
   "metadata": {},
   "outputs": [
    {
     "data": {
      "application/javascript": [
       "window.require && require([\"base/js/namespace\"],function(Jupyter){Jupyter.notebook.save_checkpoint()})"
      ],
      "text/plain": [
       "<IPython.core.display.Javascript object>"
      ]
     },
     "metadata": {},
     "output_type": "display_data"
    },
    {
     "name": "stdout",
     "output_type": "stream",
     "text": [
      "[jovian] Updating notebook \"ashutoshgole18/module-9-hypothesis-testing\" on https://jovian.ai/\u001b[0m\n",
      "[jovian] Committed successfully! https://jovian.ai/ashutoshgole18/module-9-hypothesis-testing\u001b[0m\n"
     ]
    },
    {
     "data": {
      "text/plain": [
       "'https://jovian.ai/ashutoshgole18/module-9-hypothesis-testing'"
      ]
     },
     "execution_count": 7,
     "metadata": {},
     "output_type": "execute_result"
    }
   ],
   "source": [
    "jovian.commit()"
   ]
  },
  {
   "cell_type": "code",
   "execution_count": null,
   "id": "accf62f3",
   "metadata": {},
   "outputs": [],
   "source": []
  }
 ],
 "metadata": {
  "kernelspec": {
   "display_name": "Python 3 (ipykernel)",
   "language": "python",
   "name": "python3"
  },
  "language_info": {
   "codemirror_mode": {
    "name": "ipython",
    "version": 3
   },
   "file_extension": ".py",
   "mimetype": "text/x-python",
   "name": "python",
   "nbconvert_exporter": "python",
   "pygments_lexer": "ipython3",
   "version": "3.9.7"
  }
 },
 "nbformat": 4,
 "nbformat_minor": 5
}
