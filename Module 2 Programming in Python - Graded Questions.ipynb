{
 "cells": [
  {
   "cell_type": "markdown",
   "id": "8bc8a307",
   "metadata": {},
   "source": [
    "# MCQs"
   ]
  },
  {
   "cell_type": "markdown",
   "id": "0aea6b43",
   "metadata": {},
   "source": [
    "Python Operators\n",
    "What will the output be of ((500//7) % 5) ** 3?\n",
    "\n",
    "\n",
    "1     ✓ Correct\n",
    "\n",
    "\n",
    "2.91\n",
    "\n",
    "\n",
    "71.42\n",
    "\n",
    "\n",
    "0\n",
    "\n",
    "\n",
    "8"
   ]
  },
  {
   "cell_type": "code",
   "execution_count": null,
   "id": "64c69325",
   "metadata": {},
   "outputs": [],
   "source": []
  },
  {
   "cell_type": "markdown",
   "id": "6ef087c5",
   "metadata": {},
   "source": [
    "Indexing\n",
    "How will you extract ‘love’ from the string S = “I love Python”? (More than one option may be correct.).\n",
    "\n",
    "\n",
    "S[2:5]   \n",
    "\n",
    "S[2:6]   ✓ Correct\n",
    "\n",
    "S[3:7]\n",
    "\n",
    "S[-11:-7]  ✓ Correct"
   ]
  },
  {
   "cell_type": "code",
   "execution_count": null,
   "id": "77e58d6f",
   "metadata": {},
   "outputs": [],
   "source": []
  },
  {
   "cell_type": "markdown",
   "id": "d8418c63",
   "metadata": {},
   "source": [
    "Operator Precedence\n",
    "What will the output of 3 * 3 ** 3 be?\n",
    "\n",
    "\n",
    "9\n",
    "\n",
    "\n",
    "27\n",
    "\n",
    "\n",
    "81    ✓ Correct\n",
    "\n",
    "\n",
    "729"
   ]
  },
  {
   "cell_type": "code",
   "execution_count": null,
   "id": "173c6e8e",
   "metadata": {},
   "outputs": [],
   "source": []
  },
  {
   "cell_type": "code",
   "execution_count": null,
   "id": "3fdfd226",
   "metadata": {},
   "outputs": [],
   "source": [
    "Tuples\n",
    "If you have a tuple T = (3, 5, 7, 11), what will the output of T.append(9) be?\n",
    "\n",
    "\n",
    "(3, 5, 7, 9, 11)\n",
    "\n",
    "\n",
    "(3, 5, 7, 11, 9)\n",
    "\n",
    "\n",
    "(9, 3, 5, 7, 11)\n",
    "\n",
    "\n",
    "Error   ✓ Correct"
   ]
  },
  {
   "cell_type": "code",
   "execution_count": null,
   "id": "e8d9e801",
   "metadata": {},
   "outputs": [],
   "source": []
  },
  {
   "cell_type": "markdown",
   "id": "b001c4eb",
   "metadata": {},
   "source": [
    "2-D List Indexing\n",
    "What will the output of the following program be?\n",
    "\n",
    "L1 = ['Vikas', 'Akshay', 'Sanskar', 'Mahima']\n",
    "print(L1[1][-1])\n",
    " \n",
    "\n",
    "\n",
    "Vikas\n",
    "\n",
    "\n",
    "Mahima\n",
    "\n",
    "\n",
    "y   ✓ Correct"
   ]
  },
  {
   "cell_type": "code",
   "execution_count": null,
   "id": "ae2ba95c",
   "metadata": {},
   "outputs": [],
   "source": []
  },
  {
   "cell_type": "markdown",
   "id": "c6c6c068",
   "metadata": {},
   "source": [
    "Appending to a List\n",
    "What will the output of the following code be?\n",
    "\n",
    "l = [32, 34, 12, 27, 33]\n",
    "l.append([14, 19])\n",
    "print(len(l))\n",
    " \n",
    "\n",
    "\n",
    "5\n",
    "\n",
    "\n",
    "6   ✓ Correct"
   ]
  },
  {
   "cell_type": "code",
   "execution_count": null,
   "id": "f6e14873",
   "metadata": {},
   "outputs": [],
   "source": []
  },
  {
   "cell_type": "markdown",
   "id": "d4781504",
   "metadata": {},
   "source": [
    "Sets\n",
    "Which of the following statements is incorrect regarding sets in Python?\n",
    "\n",
    "\n",
    "Sets do not contain duplicate elements\n",
    "\n",
    "\n",
    "Sets are represented using curly braces {}\n",
    "\n",
    "\n",
    "Sets are immutable   ✓ Correct"
   ]
  },
  {
   "cell_type": "code",
   "execution_count": null,
   "id": "9da594c9",
   "metadata": {},
   "outputs": [],
   "source": []
  },
  {
   "cell_type": "markdown",
   "id": "8c06db1f",
   "metadata": {},
   "source": [
    "Dictionary Iteration\n",
    "What will the output be of the following code?\n",
    "\n",
    "D = {1:['Raj', 22], 2:['Simran', 21], 3:['Rahul', 40]}\n",
    "for val in D:\n",
    "     print(val)\n",
    "\n",
    "1\n",
    "2\n",
    "3   ✓ Correct\n",
    "\n",
    "\n",
    "[‘Raj’, 22]\n",
    "[‘Simran’, 21]\n",
    "[‘Rahul’, 40]\n",
    "\n",
    "\n",
    "1 [‘Raj’, 22]\n",
    "2 [‘Simran’, 21]\n",
    "3 [‘Rahul’, 40]\n",
    "\n",
    "\n",
    "‘Raj’\n",
    "‘Simran’\n",
    "‘Rahul’"
   ]
  },
  {
   "cell_type": "code",
   "execution_count": null,
   "id": "4e342909",
   "metadata": {},
   "outputs": [],
   "source": []
  },
  {
   "cell_type": "markdown",
   "id": "340aa314",
   "metadata": {},
   "source": [
    "Python Comprehensions\n",
    "What will the ‘comprehension equivalent’ be for the following snippet of code?\n",
    "\n",
    "for sentence in paragraph:\n",
    "    for word in sentence.split():\n",
    "        single_word_list.append(word)\n",
    "\n",
    "\n",
    "word for sentence in paragraph for word in sentence.split()\n",
    "\n",
    "\n",
    "[word for sentence in paragraph for word in sentence.split()]   ✓ Correct"
   ]
  },
  {
   "cell_type": "code",
   "execution_count": null,
   "id": "108eb15e",
   "metadata": {},
   "outputs": [],
   "source": []
  },
  {
   "cell_type": "markdown",
   "id": "a41cb2a2",
   "metadata": {},
   "source": [
    "print(list(range(10, 1, -1)))\n",
    " \n",
    "\n",
    "\n",
    "[10, 9, 8, 7, 6, 5, 4, 3, 2, 1]\n",
    "\n",
    "\n",
    "[10, 9, 8, 7, 6, 5, 4, 3, 2]    ✓ Correct"
   ]
  },
  {
   "cell_type": "code",
   "execution_count": null,
   "id": "3ef45ea9",
   "metadata": {},
   "outputs": [],
   "source": []
  },
  {
   "cell_type": "markdown",
   "id": "a8c94e73",
   "metadata": {},
   "source": [
    "# Coding Questions"
   ]
  },
  {
   "cell_type": "markdown",
   "id": "5a5811db",
   "metadata": {},
   "source": [
    "All Three\n",
    "Which are the students who play all the three sports?\n",
    "\n",
    "\n",
    "[22, 39]\n",
    "\n",
    "\n",
    "[39, 82]\n",
    "\n",
    "\n",
    "[40, 95]   ✓ Correct"
   ]
  },
  {
   "cell_type": "code",
   "execution_count": null,
   "id": "5b0cfa99",
   "metadata": {},
   "outputs": [],
   "source": []
  },
  {
   "cell_type": "markdown",
   "id": "cfbe1c55",
   "metadata": {},
   "source": [
    "Only Cricket and Hockey\n",
    "Which are the players who play both cricket and hockey but don't play football?\n",
    "\n",
    "\n",
    "[20, 21, 25, 62, 67, 71, 75, 76, 82]   ✓ Correct"
   ]
  },
  {
   "cell_type": "code",
   "execution_count": null,
   "id": "103d2c1b",
   "metadata": {},
   "outputs": [],
   "source": []
  },
  {
   "cell_type": "markdown",
   "id": "e7f3944b",
   "metadata": {},
   "source": [
    "Exactly Two\n",
    "How many players play exactly two sports?\n",
    "\n",
    "\n",
    "19\n",
    "\n",
    "\n",
    "20\n",
    "\n",
    "\n",
    "21\n",
    "\n",
    "\n",
    "22  ✓ Correct"
   ]
  },
  {
   "cell_type": "code",
   "execution_count": null,
   "id": "8003f2b4",
   "metadata": {},
   "outputs": [],
   "source": []
  },
  {
   "cell_type": "markdown",
   "id": "45cb652b",
   "metadata": {},
   "source": [
    "None of Them\n",
    "Which of these players do not play any of the sport? (More than one option may be correct)\n",
    "\n",
    "\n",
    "41   ✓ Correct\n",
    "\n",
    "48\n",
    "\n",
    "63   ✓ Correct\n",
    "\n",
    "85   ✓ Correct"
   ]
  },
  {
   "cell_type": "code",
   "execution_count": null,
   "id": "f778543f",
   "metadata": {},
   "outputs": [],
   "source": []
  },
  {
   "cell_type": "markdown",
   "id": "2b681f4f",
   "metadata": {},
   "source": [
    "Movie Views\n",
    "There's an Indian movie in the dictionary named 'Do Paise Ki Dhoop Chaar Aane Ki Baarish'. What is the number of views for this movie?\n",
    "\n",
    "\n",
    "90,854\n",
    "\n",
    "\n",
    "658,824\n",
    "\n",
    "\n",
    "1,023,597\n",
    "\n",
    "\n",
    "2,770,879   ✓ Correct"
   ]
  },
  {
   "cell_type": "code",
   "execution_count": null,
   "id": "70e30e12",
   "metadata": {},
   "outputs": [],
   "source": []
  },
  {
   "cell_type": "markdown",
   "id": "0c988688",
   "metadata": {},
   "source": [
    "Most and Least Popular\n",
    "Which of the shows is the most and least popular in terms of number of views?\n",
    "\n",
    "Monkey Twins, Maynard\n",
    "\n",
    "\n",
    "Gaga: Five Foot Two, Hilda    ✓ Correct\n",
    "\n",
    "Gerald's Game, White Island\n",
    "\n",
    "\n",
    "Rafinha Bastos: Ultimatum, The First Line"
   ]
  },
  {
   "cell_type": "code",
   "execution_count": null,
   "id": "cf5d1a48",
   "metadata": {},
   "outputs": [],
   "source": []
  },
  {
   "cell_type": "markdown",
   "id": "d0fea631",
   "metadata": {},
   "source": [
    "Last Week Views\n",
    "Netflix has just recieved the number of views for the last week as well. Add these views to the total views and find the most popular title in terms of views. Also find out how many views this title has? \n",
    "\n",
    "\n",
    "Title: Deliha 2, \n",
    "\n",
    "Views: 3943452   ✓ Correct\n",
    "\n",
    "Title: Dragons: Rescue Riders, \n",
    "\n",
    "Views: 3996388\n",
    "\n",
    "\n",
    "Title: Rafinha Bastos: Ultimatum, \n",
    "\n",
    "Views: 3575445\n",
    "\n",
    "\n",
    "Ttile: Gaga: Five Foot Two, \n",
    "\n",
    "Views: 3756188"
   ]
  },
  {
   "cell_type": "code",
   "execution_count": null,
   "id": "0b1e0b40",
   "metadata": {},
   "outputs": [],
   "source": []
  },
  {
   "cell_type": "code",
   "execution_count": 3,
   "id": "d9a73d66",
   "metadata": {},
   "outputs": [],
   "source": [
    "import jovian"
   ]
  },
  {
   "cell_type": "code",
   "execution_count": 7,
   "id": "e288ec4e",
   "metadata": {},
   "outputs": [
    {
     "data": {
      "application/javascript": [
       "window.require && require([\"base/js/namespace\"],function(Jupyter){Jupyter.notebook.save_checkpoint()})"
      ],
      "text/plain": [
       "<IPython.core.display.Javascript object>"
      ]
     },
     "metadata": {},
     "output_type": "display_data"
    },
    {
     "name": "stdout",
     "output_type": "stream",
     "text": [
      "[jovian] Updating notebook \"ashutoshgole18/untitled\" on https://jovian.ai/\u001b[0m\n",
      "[jovian] Committed successfully! https://jovian.ai/ashutoshgole18/untitled\u001b[0m\n"
     ]
    },
    {
     "data": {
      "text/plain": [
       "'https://jovian.ai/ashutoshgole18/untitled'"
      ]
     },
     "execution_count": 7,
     "metadata": {},
     "output_type": "execute_result"
    }
   ],
   "source": [
    "jovian.commit()"
   ]
  },
  {
   "cell_type": "code",
   "execution_count": null,
   "id": "172d8100",
   "metadata": {},
   "outputs": [],
   "source": []
  }
 ],
 "metadata": {
  "kernelspec": {
   "display_name": "Python 3 (ipykernel)",
   "language": "python",
   "name": "python3"
  },
  "language_info": {
   "codemirror_mode": {
    "name": "ipython",
    "version": 3
   },
   "file_extension": ".py",
   "mimetype": "text/x-python",
   "name": "python",
   "nbconvert_exporter": "python",
   "pygments_lexer": "ipython3",
   "version": "3.9.7"
  }
 },
 "nbformat": 4,
 "nbformat_minor": 5
}
