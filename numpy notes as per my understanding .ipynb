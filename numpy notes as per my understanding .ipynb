{
 "cells": [
  {
   "cell_type": "code",
   "execution_count": 2,
   "id": "f4909df8",
   "metadata": {},
   "outputs": [],
   "source": [
    "import numpy as np"
   ]
  },
  {
   "cell_type": "markdown",
   "id": "8d842f58",
   "metadata": {},
   "source": [
    "## convert into array"
   ]
  },
  {
   "cell_type": "code",
   "execution_count": 3,
   "id": "107bd6bf",
   "metadata": {},
   "outputs": [
    {
     "data": {
      "text/plain": [
       "array([1, 2, 3, 4, 5, 6, 7, 8])"
      ]
     },
     "execution_count": 3,
     "metadata": {},
     "output_type": "execute_result"
    }
   ],
   "source": [
    "# Deine a NumPy array\n",
    "heights = np.array([1,2,3,4,5,6,7,8])\n",
    "heights"
   ]
  },
  {
   "cell_type": "markdown",
   "id": "43baa373",
   "metadata": {},
   "source": []
  },
  {
   "cell_type": "markdown",
   "id": "b93d7a65",
   "metadata": {},
   "source": [
    "## multiply"
   ]
  },
  {
   "cell_type": "code",
   "execution_count": 5,
   "id": "55da3bfa",
   "metadata": {},
   "outputs": [
    {
     "data": {
      "text/plain": [
       "array([ 2.54,  5.08,  7.62, 10.16, 12.7 , 15.24, 17.78, 20.32])"
      ]
     },
     "execution_count": 5,
     "metadata": {},
     "output_type": "execute_result"
    }
   ],
   "source": [
    "# Multiple NumPy array with a scalar.\n",
    "heights * 2.54"
   ]
  },
  {
   "cell_type": "markdown",
   "id": "4f9d2895",
   "metadata": {},
   "source": []
  },
  {
   "cell_type": "markdown",
   "id": "437a6b4b",
   "metadata": {},
   "source": [
    "## addition"
   ]
  },
  {
   "cell_type": "code",
   "execution_count": 6,
   "id": "249f91bd",
   "metadata": {},
   "outputs": [
    {
     "data": {
      "text/plain": [
       "array([5, 7, 9])"
      ]
     },
     "execution_count": 6,
     "metadata": {},
     "output_type": "execute_result"
    }
   ],
   "source": [
    "# two NumPy array and perform '+' operation on that.\n",
    "np1 = np.array([1,2,3])\n",
    "np2 = np.array([4,5,6])\n",
    "np3=np1 + np2\n",
    "np3"
   ]
  },
  {
   "cell_type": "markdown",
   "id": "91d678aa",
   "metadata": {},
   "source": []
  },
  {
   "cell_type": "markdown",
   "id": "2464349f",
   "metadata": {},
   "source": [
    "## check type"
   ]
  },
  {
   "cell_type": "code",
   "execution_count": 4,
   "id": "f31d9bd0",
   "metadata": {},
   "outputs": [
    {
     "data": {
      "text/plain": [
       "numpy.ndarray"
      ]
     },
     "execution_count": 4,
     "metadata": {},
     "output_type": "execute_result"
    }
   ],
   "source": [
    "###   type of a NumPy array.\n",
    "type(heights)"
   ]
  },
  {
   "cell_type": "markdown",
   "id": "ee1adf94",
   "metadata": {},
   "source": []
  },
  {
   "cell_type": "markdown",
   "id": "86572784",
   "metadata": {},
   "source": [
    "## count number/size/shape"
   ]
  },
  {
   "cell_type": "code",
   "execution_count": 54,
   "id": "5fcee7ba",
   "metadata": {},
   "outputs": [
    {
     "name": "stdout",
     "output_type": "stream",
     "text": [
      "8\n",
      "8\n",
      "(8,)\n",
      "(7, 2)\n"
     ]
    }
   ],
   "source": [
    "###   Count the number\n",
    "a=len(heights)\n",
    "\n",
    "b=heights.size\n",
    "\n",
    "c=heights.shape\n",
    "\n",
    "##### Print the structure of the 2-D Array\n",
    "d=players.shape\n",
    "\n",
    "print(a)\n",
    "print(b)\n",
    "print(c)\n",
    "print(d)"
   ]
  },
  {
   "cell_type": "markdown",
   "id": "0786f7d2",
   "metadata": {},
   "source": []
  },
  {
   "cell_type": "markdown",
   "id": "baefd3bf",
   "metadata": {},
   "source": [
    "##    Indexing on 1d "
   ]
  },
  {
   "cell_type": "code",
   "execution_count": 9,
   "id": "9b5a9f55",
   "metadata": {},
   "outputs": [
    {
     "data": {
      "text/plain": [
       "1"
      ]
     },
     "execution_count": 9,
     "metadata": {},
     "output_type": "execute_result"
    }
   ],
   "source": [
    "##### Fetch the first element from the bmi array \n",
    "\n",
    "heights[0]"
   ]
  },
  {
   "cell_type": "code",
   "execution_count": 10,
   "id": "05cf9362",
   "metadata": {},
   "outputs": [
    {
     "data": {
      "text/plain": [
       "8"
      ]
     },
     "execution_count": 10,
     "metadata": {},
     "output_type": "execute_result"
    }
   ],
   "source": [
    "##### Fetch the last element from the bmi array \n",
    "\n",
    "heights[-1]"
   ]
  },
  {
   "cell_type": "code",
   "execution_count": 11,
   "id": "595487cf",
   "metadata": {},
   "outputs": [
    {
     "data": {
      "text/plain": [
       "array([1, 2, 3, 4, 5])"
      ]
     },
     "execution_count": 11,
     "metadata": {},
     "output_type": "execute_result"
    }
   ],
   "source": [
    "#####  Fetch the first 5 elements from the bmi array \n",
    "\n",
    "heights[0:5]"
   ]
  },
  {
   "cell_type": "code",
   "execution_count": 12,
   "id": "cd43300a",
   "metadata": {},
   "outputs": [
    {
     "data": {
      "text/plain": [
       "array([4, 5, 6, 7, 8])"
      ]
     },
     "execution_count": 12,
     "metadata": {},
     "output_type": "execute_result"
    }
   ],
   "source": [
    "##### Fetch the last 5 elements from the bmi array \n",
    "\n",
    "heights[-5:]"
   ]
  },
  {
   "cell_type": "markdown",
   "id": "9d6d2cfe",
   "metadata": {},
   "source": []
  },
  {
   "cell_type": "code",
   "execution_count": 13,
   "id": "b02c3d64",
   "metadata": {},
   "outputs": [
    {
     "name": "stdout",
     "output_type": "stream",
     "text": [
      "[ True  True  True  True False False False False]\n",
      "[1 2 3 4]\n"
     ]
    }
   ],
   "source": [
    "###    Conditional Sub-Setting Arrays\n",
    "\n",
    "a = heights < 5\n",
    "\n",
    "b = heights[ heights<5]\n",
    "\n",
    "print(a)\n",
    "print(b)"
   ]
  },
  {
   "cell_type": "markdown",
   "id": "fa514d5c",
   "metadata": {},
   "source": []
  },
  {
   "cell_type": "markdown",
   "id": "2b66b400",
   "metadata": {},
   "source": [
    "## max"
   ]
  },
  {
   "cell_type": "code",
   "execution_count": 14,
   "id": "4752fd44",
   "metadata": {},
   "outputs": [
    {
     "data": {
      "text/plain": [
       "8"
      ]
     },
     "execution_count": 14,
     "metadata": {},
     "output_type": "execute_result"
    }
   ],
   "source": [
    "###   Find the largest value\n",
    "max(heights)"
   ]
  },
  {
   "cell_type": "markdown",
   "id": "1b66ca9e",
   "metadata": {},
   "source": []
  },
  {
   "cell_type": "markdown",
   "id": "76c5030f",
   "metadata": {},
   "source": [
    "## min"
   ]
  },
  {
   "cell_type": "code",
   "execution_count": 15,
   "id": "44ebe9e9",
   "metadata": {},
   "outputs": [
    {
     "data": {
      "text/plain": [
       "1"
      ]
     },
     "execution_count": 15,
     "metadata": {},
     "output_type": "execute_result"
    }
   ],
   "source": [
    "##### Find lowest value\n",
    "\n",
    "min(heights)"
   ]
  },
  {
   "cell_type": "markdown",
   "id": "aa90b4df",
   "metadata": {},
   "source": []
  },
  {
   "cell_type": "markdown",
   "id": "5aebde8f",
   "metadata": {},
   "source": [
    "## sum"
   ]
  },
  {
   "cell_type": "code",
   "execution_count": 20,
   "id": "541ebb51",
   "metadata": {},
   "outputs": [
    {
     "data": {
      "text/plain": [
       "36"
      ]
     },
     "execution_count": 20,
     "metadata": {},
     "output_type": "execute_result"
    }
   ],
   "source": [
    "###   how to find out total/sun of array\n",
    "total = heights.sum() \n",
    "total"
   ]
  },
  {
   "cell_type": "markdown",
   "id": "e9614858",
   "metadata": {},
   "source": []
  },
  {
   "cell_type": "markdown",
   "id": "5c2e5ce3",
   "metadata": {},
   "source": [
    "## mean"
   ]
  },
  {
   "cell_type": "code",
   "execution_count": 17,
   "id": "6e6b3c57",
   "metadata": {},
   "outputs": [
    {
     "data": {
      "text/plain": [
       "4.5"
      ]
     },
     "execution_count": 17,
     "metadata": {},
     "output_type": "execute_result"
    }
   ],
   "source": [
    "##### Find average value\n",
    "\n",
    "heights.mean()"
   ]
  },
  {
   "cell_type": "markdown",
   "id": "fd1d26b6",
   "metadata": {},
   "source": []
  },
  {
   "cell_type": "code",
   "execution_count": 22,
   "id": "8a392566",
   "metadata": {},
   "outputs": [],
   "source": [
    "# list of height and weight of the players.\n",
    "players = [(74, 180), (74, 215), (72, 210), (72, 210), (73, 188), (69, 176), (69, 209)]"
   ]
  },
  {
   "cell_type": "code",
   "execution_count": 25,
   "id": "304f660a",
   "metadata": {},
   "outputs": [
    {
     "data": {
      "text/plain": [
       "array([[ 74, 180],\n",
       "       [ 74, 215],\n",
       "       [ 72, 210],\n",
       "       [ 72, 210],\n",
       "       [ 73, 188],\n",
       "       [ 69, 176],\n",
       "       [ 69, 209]])"
      ]
     },
     "execution_count": 25,
     "metadata": {},
     "output_type": "execute_result"
    }
   ],
   "source": [
    "players = np.array(players)\n",
    "players"
   ]
  },
  {
   "cell_type": "markdown",
   "id": "ce2395c2",
   "metadata": {},
   "source": []
  },
  {
   "cell_type": "markdown",
   "id": "e4fa6ec9",
   "metadata": {},
   "source": [
    "## check dimension"
   ]
  },
  {
   "cell_type": "code",
   "execution_count": 33,
   "id": "1b30ced3",
   "metadata": {},
   "outputs": [
    {
     "data": {
      "text/plain": [
       "2"
      ]
     },
     "execution_count": 33,
     "metadata": {},
     "output_type": "execute_result"
    }
   ],
   "source": [
    "##### Print the dimensions of the array\n",
    "\n",
    "players.ndim"
   ]
  },
  {
   "cell_type": "code",
   "execution_count": 34,
   "id": "53858f40",
   "metadata": {},
   "outputs": [
    {
     "data": {
      "text/plain": [
       "dtype('int32')"
      ]
     },
     "execution_count": 34,
     "metadata": {},
     "output_type": "execute_result"
    }
   ],
   "source": [
    "##### Print the data type of elements in the array\n",
    "\n",
    "players.dtype"
   ]
  },
  {
   "cell_type": "code",
   "execution_count": 35,
   "id": "04b2ef76",
   "metadata": {},
   "outputs": [
    {
     "data": {
      "text/plain": [
       "4"
      ]
     },
     "execution_count": 35,
     "metadata": {},
     "output_type": "execute_result"
    }
   ],
   "source": [
    "##### Print the size of a single item of the array\n",
    "\n",
    "players.itemsize"
   ]
  },
  {
   "cell_type": "markdown",
   "id": "aa16582b",
   "metadata": {},
   "source": [
    "## indexing on 2d"
   ]
  },
  {
   "cell_type": "code",
   "execution_count": 37,
   "id": "f25ec419",
   "metadata": {},
   "outputs": [
    {
     "data": {
      "text/plain": [
       "array([74, 74, 72, 72, 73, 69, 69])"
      ]
     },
     "execution_count": 37,
     "metadata": {},
     "output_type": "execute_result"
    }
   ],
   "source": [
    "##### Fetch the first column from the array \n",
    "\n",
    "players[:, 0]"
   ]
  },
  {
   "cell_type": "code",
   "execution_count": 39,
   "id": "53e7130b",
   "metadata": {},
   "outputs": [
    {
     "data": {
      "text/plain": [
       "array([ 74, 180])"
      ]
     },
     "execution_count": 39,
     "metadata": {},
     "output_type": "execute_result"
    }
   ],
   "source": [
    "##### Fetch the first row from the array \n",
    "\n",
    "players[0,:]"
   ]
  },
  {
   "cell_type": "code",
   "execution_count": 48,
   "id": "f6e0f4a0",
   "metadata": {},
   "outputs": [
    {
     "name": "stdout",
     "output_type": "stream",
     "text": [
      "1st: [1. 1. 1. 1. 1.]\n",
      "2nd: [[1. 1. 1.]\n",
      " [1. 1. 1.]\n",
      " [1. 1. 1.]\n",
      " [1. 1. 1.]\n",
      " [1. 1. 1.]]\n"
     ]
    }
   ],
   "source": [
    "##### Creating array of ones\n",
    "\n",
    "arr = np.ones(5)\n",
    "arr\n",
    "arr1=np.ones((5,3))\n",
    "arr1\n",
    "\n",
    "print('1st:',arr)\n",
    "print('2nd:',arr1)"
   ]
  },
  {
   "cell_type": "code",
   "execution_count": 49,
   "id": "21d7c133",
   "metadata": {},
   "outputs": [
    {
     "data": {
      "text/plain": [
       "array([ 3,  5,  7,  9, 11, 13, 15, 17, 19, 21, 23, 25, 27, 29, 31, 33])"
      ]
     },
     "execution_count": 49,
     "metadata": {},
     "output_type": "execute_result"
    }
   ],
   "source": [
    "###  arange function\n",
    "np.arange(3,35,2)"
   ]
  },
  {
   "cell_type": "code",
   "execution_count": 55,
   "id": "c7f82b8d",
   "metadata": {},
   "outputs": [
    {
     "data": {
      "text/plain": [
       "array([0, 1, 0, 0, 0, 0, 1, 1, 0, 0])"
      ]
     },
     "execution_count": 55,
     "metadata": {},
     "output_type": "execute_result"
    }
   ],
   "source": [
    "##### Array of random numbers \n",
    "\n",
    "np.random.randint(2, size=10)"
   ]
  },
  {
   "cell_type": "code",
   "execution_count": 56,
   "id": "24d54319",
   "metadata": {},
   "outputs": [
    {
     "data": {
      "text/plain": [
       "array([[0.63518622, 0.50821868, 0.90403918, 0.63642266],\n",
       "       [0.84545451, 0.61798478, 0.08291789, 0.70362225],\n",
       "       [0.5903629 , 0.25957644, 0.24552696, 0.29002456]])"
      ]
     },
     "execution_count": 56,
     "metadata": {},
     "output_type": "execute_result"
    }
   ],
   "source": [
    "##### 2D Array of random numbers \n",
    "\n",
    "np.random.random([3,4])"
   ]
  },
  {
   "cell_type": "code",
   "execution_count": 57,
   "id": "fbf4d7b4",
   "metadata": {},
   "outputs": [
    {
     "data": {
      "text/plain": [
       "array([ 1.        ,  1.47368421,  1.94736842,  2.42105263,  2.89473684,\n",
       "        3.36842105,  3.84210526,  4.31578947,  4.78947368,  5.26315789,\n",
       "        5.73684211,  6.21052632,  6.68421053,  7.15789474,  7.63157895,\n",
       "        8.10526316,  8.57894737,  9.05263158,  9.52631579, 10.        ])"
      ]
     },
     "execution_count": 57,
     "metadata": {},
     "output_type": "execute_result"
    }
   ],
   "source": [
    "np.linspace(1,10,20)"
   ]
  },
  {
   "cell_type": "code",
   "execution_count": null,
   "id": "8ab6b955",
   "metadata": {},
   "outputs": [],
   "source": []
  },
  {
   "cell_type": "code",
   "execution_count": null,
   "id": "063441ce",
   "metadata": {},
   "outputs": [],
   "source": []
  },
  {
   "cell_type": "code",
   "execution_count": null,
   "id": "5df35868",
   "metadata": {},
   "outputs": [],
   "source": []
  },
  {
   "cell_type": "code",
   "execution_count": null,
   "id": "be705856",
   "metadata": {},
   "outputs": [],
   "source": []
  },
  {
   "cell_type": "code",
   "execution_count": null,
   "id": "b2003621",
   "metadata": {},
   "outputs": [],
   "source": []
  },
  {
   "cell_type": "code",
   "execution_count": null,
   "id": "d2ecaec0",
   "metadata": {},
   "outputs": [],
   "source": []
  },
  {
   "cell_type": "code",
   "execution_count": null,
   "id": "0fd72107",
   "metadata": {},
   "outputs": [],
   "source": []
  },
  {
   "cell_type": "code",
   "execution_count": 18,
   "id": "99289096",
   "metadata": {},
   "outputs": [],
   "source": [
    "import jovian"
   ]
  },
  {
   "cell_type": "code",
   "execution_count": 21,
   "id": "41ec3e92",
   "metadata": {},
   "outputs": [
    {
     "data": {
      "application/javascript": [
       "window.require && require([\"base/js/namespace\"],function(Jupyter){Jupyter.notebook.save_checkpoint()})"
      ],
      "text/plain": [
       "<IPython.core.display.Javascript object>"
      ]
     },
     "metadata": {},
     "output_type": "display_data"
    },
    {
     "name": "stdout",
     "output_type": "stream",
     "text": [
      "[jovian] Updating notebook \"ashutoshgole18/numpy-notes-as-per-my-understanding\" on https://jovian.ai/\u001b[0m\n",
      "[jovian] Committed successfully! https://jovian.ai/ashutoshgole18/numpy-notes-as-per-my-understanding\u001b[0m\n"
     ]
    },
    {
     "data": {
      "text/plain": [
       "'https://jovian.ai/ashutoshgole18/numpy-notes-as-per-my-understanding'"
      ]
     },
     "execution_count": 21,
     "metadata": {},
     "output_type": "execute_result"
    }
   ],
   "source": [
    "jovian.commit()"
   ]
  },
  {
   "cell_type": "code",
   "execution_count": null,
   "id": "76c8ed40",
   "metadata": {},
   "outputs": [],
   "source": []
  }
 ],
 "metadata": {
  "kernelspec": {
   "display_name": "Python 3 (ipykernel)",
   "language": "python",
   "name": "python3"
  },
  "language_info": {
   "codemirror_mode": {
    "name": "ipython",
    "version": 3
   },
   "file_extension": ".py",
   "mimetype": "text/x-python",
   "name": "python",
   "nbconvert_exporter": "python",
   "pygments_lexer": "ipython3",
   "version": "3.9.7"
  }
 },
 "nbformat": 4,
 "nbformat_minor": 5
}
