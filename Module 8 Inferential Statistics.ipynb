{
 "cells": [
  {
   "cell_type": "markdown",
   "id": "f2f8a38a",
   "metadata": {},
   "source": [
    "# Introduction to Probability"
   ]
  },
  {
   "cell_type": "markdown",
   "id": "27cbb5f3",
   "metadata": {},
   "source": [
    "## Permutations"
   ]
  },
  {
   "cell_type": "markdown",
   "id": "589b0012",
   "metadata": {},
   "source": [
    "Permutations\n",
    "Permutations: Find the number of ways in which the letters of the word ‘MOSAIC’ can be rearranged to form different six-letter words.\n",
    "\n",
    "\n",
    "30\n",
    "\n",
    "\n",
    "100\n",
    "\n",
    "\n",
    "720    ✓ Correct"
   ]
  },
  {
   "cell_type": "code",
   "execution_count": null,
   "id": "461436b9",
   "metadata": {},
   "outputs": [],
   "source": []
  },
  {
   "cell_type": "markdown",
   "id": "4a7a0802",
   "metadata": {},
   "source": [
    "Permutations\n",
    "Again, using the letters of the word ‘MOSAIC’, can you find out how many three-letter words can be formed?\n",
    "\n",
    "\n",
    "100\n",
    "\n",
    "\n",
    "300\n",
    "\n",
    "\n",
    "130\n",
    "\n",
    "\n",
    "120    ✓ Correct"
   ]
  },
  {
   "cell_type": "code",
   "execution_count": null,
   "id": "7a54972d",
   "metadata": {},
   "outputs": [],
   "source": []
  },
  {
   "cell_type": "markdown",
   "id": "3c9cceb5",
   "metadata": {},
   "source": [
    "## Combinations"
   ]
  },
  {
   "cell_type": "markdown",
   "id": "77e025a6",
   "metadata": {},
   "source": [
    "Combinations\n",
    "Combinations: Suppose you have a list of 10 customers who have given a bad rating to your product. Now, you need to randomly pick three customers so that you can interview them and take their feedback. In how many ways can you choose three customers from the given set of 10?\n",
    "You can use the combination calculator from the following link .\n",
    "\n",
    "\n",
    "120   ✓ Correct"
   ]
  },
  {
   "cell_type": "code",
   "execution_count": null,
   "id": "9d6ba190",
   "metadata": {},
   "outputs": [],
   "source": []
  },
  {
   "cell_type": "markdown",
   "id": "a5defd82",
   "metadata": {},
   "source": [
    "Combinations\n",
    "In a group of 6 boys and 4 girls, four children are to be selected. In how many different ways can they be selected?\n",
    "\n",
    "\n",
    "210   ✓ Correct"
   ]
  },
  {
   "cell_type": "code",
   "execution_count": null,
   "id": "4de19358",
   "metadata": {},
   "outputs": [],
   "source": []
  },
  {
   "cell_type": "markdown",
   "id": "46f76d68",
   "metadata": {},
   "source": [
    "## Probability: Definition and Properties"
   ]
  },
  {
   "cell_type": "markdown",
   "id": "03d99bd5",
   "metadata": {},
   "source": [
    "Concepts of probability\n",
    "Let's say you have a box containing five cards with the letters 'B', 'R', 'E', 'A' and 'D' written on them. Now, you are asked to pick a card randomly from the box, and each time you pick a card, you note down the letter written on it and keep the card outside the box. You continued this process five times until no cards were left in the box. What is the probability that you picked the letters in the same sequence as the word 'BREAD'?\n",
    "\n",
    "\n",
    "1/24\n",
    "\n",
    "\n",
    "3/24\n",
    "\n",
    "\n",
    "1/120    ✓ Correct"
   ]
  },
  {
   "cell_type": "code",
   "execution_count": null,
   "id": "6d357f95",
   "metadata": {},
   "outputs": [],
   "source": []
  },
  {
   "cell_type": "code",
   "execution_count": null,
   "id": "c69ce009",
   "metadata": {},
   "outputs": [],
   "source": [
    "Properties of probability\n",
    "Which of the following options cannot be the probability of a particular event in any scenario?\n",
    "\n",
    "\n",
    "-0.2\n",
    "\n",
    "\n",
    "1.4\n",
    "\n",
    "\n",
    "0.1\n",
    "\n",
    "\n",
    "Both -0.2 and 1.4   ✓ Correct"
   ]
  },
  {
   "cell_type": "code",
   "execution_count": null,
   "id": "32d4639e",
   "metadata": {},
   "outputs": [],
   "source": []
  },
  {
   "cell_type": "markdown",
   "id": "cf6eb685",
   "metadata": {},
   "source": [
    "Probability\n",
    " Two dice are thrown simultaneously. What is the probability that they will display two numbers whose product is even?\n",
    "\n",
    "\n",
    "1/2\n",
    "\n",
    "\n",
    "1/9\n",
    "\n",
    "\n",
    "7/16\n",
    "\n",
    "\n",
    "3/4   ✓ Correct"
   ]
  },
  {
   "cell_type": "code",
   "execution_count": null,
   "id": "e245fbac",
   "metadata": {},
   "outputs": [],
   "source": []
  },
  {
   "cell_type": "markdown",
   "id": "1c95ee99",
   "metadata": {},
   "source": [
    "Probability\n",
    "Mr. Lee has two children; the first one is a boy. What is the probability that the second child is a girl?\n",
    "\n",
    "\n",
    "1/2   ✓ Correct"
   ]
  },
  {
   "cell_type": "code",
   "execution_count": null,
   "id": "1624a062",
   "metadata": {},
   "outputs": [],
   "source": []
  },
  {
   "cell_type": "markdown",
   "id": "8e1435c3",
   "metadata": {},
   "source": [
    "Properties of Probability\n",
    " Assume that for a particular experiment there are five possible outcomes. Now the probabilities of the first three outcomes are given as 0.1, 0.2 and 0.3, respectively. You don't know the exact probabilities of the last two outcomes, but you do know that the probability of the fifth outcome is three times the probability of the fourth outcome. Can you use the rules of probability to find the probabilities of the fourth and fifth outcomes?\n",
    "\n",
    "\n",
    "0.1 and 0.3   ✓ Correct"
   ]
  },
  {
   "cell_type": "code",
   "execution_count": null,
   "id": "2123f2eb",
   "metadata": {},
   "outputs": [],
   "source": []
  },
  {
   "cell_type": "markdown",
   "id": "b627ec19",
   "metadata": {},
   "source": [
    "## Types of Events"
   ]
  },
  {
   "cell_type": "markdown",
   "id": "a9615975",
   "metadata": {},
   "source": [
    "Types of events\n",
    "Consider the following statements and choose the correct option.\n",
    "\n",
    "Statement 1: Event A denotes the scenario where the marketing campaign leads to more than 500 subscribers, whereas event B denotes the scenario where the marketing campaign leads to less than 200 subscribers.\n",
    "\n",
    "Statement 2: Event A denotes the scenario where the marketing campaign leads to less than 500 subscribers, whereas event B denotes the scenario where the marketing campaign gets more than 500 subscribers.\n",
    "\n",
    "\n",
    "In statement 1, the events are disjoint, whereas, in statement 2, the events are independent. \n",
    "\n",
    "\n",
    "In statement 1, the events are independent, whereas, in statement 2, the events are disjoint. \n",
    "\n",
    "\n",
    "Both statements denote events which are disjoint.    ✓ Correct"
   ]
  },
  {
   "cell_type": "code",
   "execution_count": null,
   "id": "95c97bb9",
   "metadata": {},
   "outputs": [],
   "source": []
  },
  {
   "cell_type": "markdown",
   "id": "e0648510",
   "metadata": {},
   "source": [
    "Complement Rule of Probability\n",
    "Let A denote the event 'The campaign leads to more than 500 subscribers'. What would be its complementary event?\n",
    "\n",
    "\n",
    "The campaign would lead to less than 200 subscribers.\n",
    "\n",
    "\n",
    "The campaign would lead to more than 200 subscribers.\n",
    "\n",
    "\n",
    "The campaign would lead to less than or equal to 500 subscribers.   ✓ Correct"
   ]
  },
  {
   "cell_type": "code",
   "execution_count": null,
   "id": "ec89de65",
   "metadata": {},
   "outputs": [],
   "source": []
  },
  {
   "cell_type": "markdown",
   "id": "54a2c09b",
   "metadata": {},
   "source": [
    "Probability Values\n",
    " Let's say Box8 has planned another similar marketing campaign called 'XYZ' in the next quarter in Bengaluru. Now the analyst has found out that the probability of the current marketing campaign \"ABC\" to get more than 500 subscribers is 0.9. Is it possible to calculate the probability that the \"XYZ\" campaign in Bengaluru would also get more than 500 subscribers based on this value of 0.9?\n",
    "\n",
    "\n",
    "No  ✓ Correct"
   ]
  },
  {
   "cell_type": "code",
   "execution_count": null,
   "id": "666a3bb3",
   "metadata": {},
   "outputs": [],
   "source": []
  },
  {
   "cell_type": "markdown",
   "id": "e3a98683",
   "metadata": {},
   "source": [
    "## Rules of Probability - Addition"
   ]
  },
  {
   "cell_type": "markdown",
   "id": "f6535e2b",
   "metadata": {},
   "source": [
    "Addition rule\n",
    "A and B are two candidates applying for the job role of an analyst at a leading analytics firm in Delhi. They have cleared all the previous rounds and are now set for the final interview after which only one of them will be selected for the job. Candidate A has a probability of 0.3 of getting the job and candidate B has a probability of 0.25 of getting the job. Now, what is the probability that one of the two gets the job?\n",
    "\n",
    "\n",
    "0.40\n",
    "\n",
    "\n",
    "0.45\n",
    "\n",
    "\n",
    "0.55   ✓ Correct"
   ]
  },
  {
   "cell_type": "code",
   "execution_count": null,
   "id": "ce9d3080",
   "metadata": {},
   "outputs": [],
   "source": []
  },
  {
   "cell_type": "markdown",
   "id": "1de25654",
   "metadata": {},
   "source": [
    "Probability\n",
    " A few cards are numbered from 1 to 20 and are mixed up. One card is then drawn at random. What is the probability that this card has a number that is a multiple of four or nine?\n",
    "\n",
    "\n",
    "1/5\n",
    "\n",
    "\n",
    "7/20   ✓ Correct"
   ]
  },
  {
   "cell_type": "code",
   "execution_count": null,
   "id": "cefcd850",
   "metadata": {},
   "outputs": [],
   "source": []
  },
  {
   "cell_type": "markdown",
   "id": "b42d8047",
   "metadata": {},
   "source": [
    "Probability\n",
    "If a card is chosen from a standard deck of cards, what is the probability of it being a five or a seven?\n",
    "\n",
    "\n",
    "1/13\n",
    "\n",
    "\n",
    "2/13   ✓ Correct"
   ]
  },
  {
   "cell_type": "code",
   "execution_count": null,
   "id": "a4425765",
   "metadata": {},
   "outputs": [],
   "source": []
  },
  {
   "cell_type": "markdown",
   "id": "8abfcb34",
   "metadata": {},
   "source": [
    "## Rules of Probability - Multiplication"
   ]
  },
  {
   "cell_type": "markdown",
   "id": "f37c6b3b",
   "metadata": {},
   "source": [
    "Addition vs Multiplication\n",
    "Consider the following two statements and choose the correct option.\n",
    "\n",
    "\n",
    "Statement 1: The probability of Rahul playing in today's match is 0.25, whereas that of Bumrah is 0.35. You need to find the probability that either of them will play in today's match.\n",
    "\n",
    "\n",
    "Statement 2: The probability of Rahul playing in today's match is 0.25, whereas that of Bumrah is 0.35. You need to find the probability that both of them will play in today's match.\n",
    "\n",
    "\n",
    "Statement 1 uses the multiplication rule, whereas statement 2 uses the addition rule to find the probability that is being asked.\n",
    "\n",
    "\n",
    "Statement 1 uses the addition rule, whereas statement 2 uses the multiplication rule to find the probability that is being asked.    ✓ Correct"
   ]
  },
  {
   "cell_type": "code",
   "execution_count": null,
   "id": "082284c9",
   "metadata": {},
   "outputs": [],
   "source": []
  },
  {
   "cell_type": "markdown",
   "id": "6498414c",
   "metadata": {},
   "source": [
    "Addition and Multiplication Rules\n",
    "Now, what is the probability that either Rahul or Bumrah will play in today's match, given that their individual probabilities of playing are 0.25 and 0.35, respectively? Also, it is mentioned that both the events are not dependent on each other. \n",
    "\n",
    "\n",
    "0.69\n",
    "\n",
    "\n",
    "0.51   ✓ Correct"
   ]
  },
  {
   "cell_type": "code",
   "execution_count": null,
   "id": "8228c2b2",
   "metadata": {},
   "outputs": [],
   "source": []
  },
  {
   "cell_type": "markdown",
   "id": "fafd29e2",
   "metadata": {},
   "source": [
    "Addition and Multiplication Rules\n",
    "A bag contains six balls: three black ones and three red ones. You take out a ball from the bag, note its colour and put it back in the bag. You then draw another ball from the bag and note down its colour. What is the probability that balls of the same colour were drawn twice?\n",
    "\n",
    "\n",
    "1/2   ✓ Correct"
   ]
  },
  {
   "cell_type": "code",
   "execution_count": null,
   "id": "057da02e",
   "metadata": {},
   "outputs": [],
   "source": []
  },
  {
   "cell_type": "markdown",
   "id": "52f4b541",
   "metadata": {},
   "source": [
    "## Practice Questions"
   ]
  },
  {
   "cell_type": "markdown",
   "id": "1ef0756f",
   "metadata": {},
   "source": [
    "Permutations and Combinations\n",
    "Given below are two statements\n",
    "\n",
    "Statement 1: You need to choose five bowlers from a given roster of seven bowlers for the next cricket match.\n",
    "\n",
    "Statement 2: You want to find the number of ways in which you can arrange your seven family members on seven seats for a family photograph.\n",
    "\n",
    " \n",
    "\n",
    "Choose the correct option:\n",
    "\n",
    "\n",
    "The first statement uses permutation, whereas the second statement uses combination.\n",
    "\n",
    "\n",
    "Both the statements use permutation.\n",
    "\n",
    "\n",
    "The first statement uses combination, whereas the second statement uses permutation.    ✓ Correct"
   ]
  },
  {
   "cell_type": "code",
   "execution_count": null,
   "id": "0e8484f3",
   "metadata": {},
   "outputs": [],
   "source": []
  },
  {
   "cell_type": "markdown",
   "id": "3482b1a6",
   "metadata": {},
   "source": [
    "Permutations and Combinations\n",
    "You have a list of seven letters, of which three are vowels (A, I and E) and four are consonants (B, C, D and F). You need to use these letters to make four-letter words in such a way that they should contain exactly two vowels from the given three and exactly two consonants from the given four. How many such words can be formed?\n",
    "\n",
    "\n",
    "576\n",
    "\n",
    "\n",
    "432    ✓ Correct"
   ]
  },
  {
   "cell_type": "code",
   "execution_count": null,
   "id": "d8e20a1c",
   "metadata": {},
   "outputs": [],
   "source": []
  },
  {
   "cell_type": "markdown",
   "id": "f3b80159",
   "metadata": {},
   "source": [
    "Properties of Probability\n",
    "In a random experiment, there were a total of three outcomes. Now, the probability of the second and third outcomes came out to be twice that of the first outcome. Therefore, the sum of the probabilities of the first and second outcomes comes out to be ____.\n",
    "\n",
    "\n",
    "0.4\n",
    "\n",
    "\n",
    "0.6   ✓ Correct"
   ]
  },
  {
   "cell_type": "code",
   "execution_count": null,
   "id": "fee62713",
   "metadata": {},
   "outputs": [],
   "source": []
  },
  {
   "cell_type": "markdown",
   "id": "078c6206",
   "metadata": {},
   "source": [
    "Rules of Probability\n",
    "A college has been offering two finance programs, AGFM and BGFM, to its students for the last five years. From past historical data, it has been found that the probability of a student joining the AGFM program is 0.4 and the probability of a student joining the BGFM program is 0.475. Now, if a student joins one program, he/she cannot obviously enrol for the next program. So, what is the probability that a student enrols in either of the programs?\n",
    "\n",
    "\n",
    "0.625\n",
    "\n",
    "\n",
    "0.875   ✓ Correct"
   ]
  },
  {
   "cell_type": "code",
   "execution_count": null,
   "id": "e9e8b895",
   "metadata": {},
   "outputs": [],
   "source": []
  },
  {
   "cell_type": "markdown",
   "id": "bca324d3",
   "metadata": {},
   "source": [
    "Probability\n",
    "A jar contains four marbles: three red ones and one white one. Two marbles are drawn but are replaced after each draw. What is the probability that marbles of the same colour are drawn twice?\n",
    "\n",
    "\n",
    "5/8   ✓ Correct"
   ]
  },
  {
   "cell_type": "code",
   "execution_count": null,
   "id": "0ccdd76c",
   "metadata": {},
   "outputs": [],
   "source": []
  },
  {
   "cell_type": "markdown",
   "id": "c895cf8f",
   "metadata": {},
   "source": [
    "Probability\n",
    " A number is selected at random from the first thirty natural numbers. What is the chance that it is a multiple of either three or thirteen?\n",
    "\n",
    "\n",
    "2/5  ✓ Correct"
   ]
  },
  {
   "cell_type": "code",
   "execution_count": null,
   "id": "48b4609c",
   "metadata": {},
   "outputs": [],
   "source": []
  },
  {
   "cell_type": "markdown",
   "id": "8f4f6528",
   "metadata": {},
   "source": [
    "Probability\n",
    " In a throw of dice, what is the probability of getting a number greater than five?\n",
    "\n",
    "\n",
    "5/6\n",
    "\n",
    "\n",
    "1/3\n",
    "\n",
    "\n",
    "1/6   ✓ Correct"
   ]
  },
  {
   "cell_type": "code",
   "execution_count": null,
   "id": "fa045250",
   "metadata": {},
   "outputs": [],
   "source": []
  },
  {
   "cell_type": "markdown",
   "id": "1c872a2e",
   "metadata": {},
   "source": [
    "Probability\n",
    "A bag contains seven red balls and eleven green balls. If a ball is drawn out at random from it, what is the probability that it is red?\n",
    "\n",
    "\n",
    "7/18  ✓ Correct"
   ]
  },
  {
   "cell_type": "code",
   "execution_count": null,
   "id": "8e0cdc68",
   "metadata": {},
   "outputs": [],
   "source": []
  },
  {
   "cell_type": "markdown",
   "id": "fca8aa3b",
   "metadata": {},
   "source": [
    "## Graded Questions"
   ]
  },
  {
   "cell_type": "markdown",
   "id": "1321a045",
   "metadata": {},
   "source": [
    "Probability\n",
    "Let's say that using the six letters of the word BRAISE, you formed all possible four-letter words. You wrote each of these words on a separate piece of paper and put all those papers in a bag. Now, you pick a paper randomly from the bag. What is the probability that the word on that paper would start with the letter B?\n",
    "\n",
    "\n",
    "2/3\n",
    "\n",
    "\n",
    "1/6   ✓ Correct"
   ]
  },
  {
   "cell_type": "code",
   "execution_count": null,
   "id": "232293ee",
   "metadata": {},
   "outputs": [],
   "source": []
  },
  {
   "cell_type": "markdown",
   "id": "cf47e328",
   "metadata": {},
   "source": [
    "Concepts of Probability\n",
    "Consider the following statements and then choose the correct option.\n",
    "\n",
    "\n",
    "Statement 1: Event A denotes the situation where Aman scores 100 in Mathematics and event B denotes the situation where he scores 75 in Science.\n",
    "\n",
    "\n",
    "Statement 2: Event A denotes the situation where Aman scores greater than 90 in Mathematics and event B denotes the situation where he scores less than 70 in Mathematics.\n",
    "\n",
    "\n",
    "In statement 1, both the events are disjoint, whereas in statement 2, both the events are independent.\n",
    "\n",
    "\n",
    "Both the statements talk about disjoint events.\n",
    "\n",
    "\n",
    "Both the statements talk about independent events.\n",
    "\n",
    "\n",
    "In statement 1, both the events are independent, whereas in statement 2, both the events are disjoint.   ✓ Correct"
   ]
  },
  {
   "cell_type": "code",
   "execution_count": null,
   "id": "5eca83f4",
   "metadata": {},
   "outputs": [],
   "source": []
  },
  {
   "cell_type": "markdown",
   "id": "dc728eb0",
   "metadata": {},
   "source": [
    "Rules of Probability\n",
    "Let's say that you are the Business Analytics Head at a national bank. From the historical data, you have determined that there is a 0.33 probability that a customer would default on a particular loan. Now, what is the probability that out of the next two customers who apply for the same loan, both would not default on the loan?\n",
    "\n",
    "\n",
    "0.11\n",
    "\n",
    "\n",
    "0.89\n",
    "\n",
    "\n",
    "0.45   ✓ Correct"
   ]
  },
  {
   "cell_type": "code",
   "execution_count": null,
   "id": "76a036ba",
   "metadata": {},
   "outputs": [],
   "source": []
  },
  {
   "cell_type": "markdown",
   "id": "e20815c5",
   "metadata": {},
   "source": [
    "Probability\n",
    "Two dice are thrown at the same time. What is the probability of getting a sum of either 10 or 11?\n",
    "\n",
    "\n",
    "0.987\n",
    "\n",
    "\n",
    "0.876\n",
    "\n",
    "\n",
    "0.117\n",
    "\n",
    "\n",
    "0.138    ✓ Correct"
   ]
  },
  {
   "cell_type": "code",
   "execution_count": null,
   "id": "e41e69cb",
   "metadata": {},
   "outputs": [],
   "source": []
  },
  {
   "cell_type": "markdown",
   "id": "1cfe2449",
   "metadata": {},
   "source": [
    "Probability\n",
    "If a card is chosen from a standard deck of cards, what is the probability that it is a diamond or a club?\n",
    "\n",
    "\n",
    "1/3\n",
    "\n",
    "\n",
    "2/3\n",
    "\n",
    "\n",
    "1/9\n",
    "\n",
    "\n",
    "1/2   ✓ Correct"
   ]
  },
  {
   "cell_type": "code",
   "execution_count": null,
   "id": "99cdbc64",
   "metadata": {},
   "outputs": [],
   "source": []
  },
  {
   "cell_type": "markdown",
   "id": "64c902d9",
   "metadata": {},
   "source": [
    "Probability\n",
    "A card is drawn at random from a deck. What is the probability of it being a face card?\n",
    "\n",
    "\n",
    "3/13   ✓ Correct"
   ]
  },
  {
   "cell_type": "code",
   "execution_count": null,
   "id": "24b2687d",
   "metadata": {},
   "outputs": [],
   "source": []
  },
  {
   "cell_type": "markdown",
   "id": "f0509e59",
   "metadata": {},
   "source": [
    "Probability\n",
    "If three coins are tossed simultaneously, what is the probability of all of them landing with the heads side facing up?\n",
    "\n",
    "\n",
    "1/3\n",
    "\n",
    "\n",
    "1/4\n",
    "\n",
    "\n",
    "1/8   ✓ Correct"
   ]
  },
  {
   "cell_type": "code",
   "execution_count": null,
   "id": "0e1401d4",
   "metadata": {},
   "outputs": [],
   "source": []
  },
  {
   "cell_type": "markdown",
   "id": "fd7a25b0",
   "metadata": {},
   "source": [
    "# Introduction: Basics of Probability"
   ]
  },
  {
   "cell_type": "markdown",
   "id": "bf683851",
   "metadata": {},
   "source": [
    "Probability Distributions\n",
    "Which of the following probability distributions is/are NOT valid, complete probability distribution(s)?\n",
    "\n",
    "\n",
    "Only Table C is an invalid distribution    ✓ Correct\n"
   ]
  },
  {
   "cell_type": "code",
   "execution_count": null,
   "id": "a9f396cd",
   "metadata": {},
   "outputs": [],
   "source": []
  },
  {
   "cell_type": "markdown",
   "id": "c80176ae",
   "metadata": {},
   "source": [
    "## Expected Value - II"
   ]
  },
  {
   "cell_type": "code",
   "execution_count": null,
   "id": "0cd21a08",
   "metadata": {},
   "outputs": [],
   "source": [
    "Expected Value of Player's Winnings\n",
    "So, the expected value of a player’s winnings is positive, but we want to make it negative. Which of the following changes to the game would make the expected value negative?\n",
    "\n",
    "\n",
    "Increase the penalty to ₹25   ✓ Correct"
   ]
  },
  {
   "cell_type": "code",
   "execution_count": null,
   "id": "552683d9",
   "metadata": {},
   "outputs": [],
   "source": []
  },
  {
   "cell_type": "markdown",
   "id": "a5378e18",
   "metadata": {},
   "source": [
    "Expected Value of Player's Winnings\n",
    "Suppose we change the game’s rules to the following:\n",
    "\n",
    "Outcome\tPrize\n",
    "4 red balls\t+150\n",
    "4 blue balls\t-150\n",
    "Any other outcome\t-10\n",
    "What will be the expected value now for X (the amount of money won by a player after playing the game once)?\n",
    "\n",
    "\n",
    "-2.5\n",
    "\n",
    "-5\n",
    "\n",
    "+2.5\n",
    "\n",
    "+7.5   ✓ Correct"
   ]
  },
  {
   "cell_type": "code",
   "execution_count": null,
   "id": "ec6d748a",
   "metadata": {},
   "outputs": [],
   "source": []
  },
  {
   "cell_type": "markdown",
   "id": "3c43c2df",
   "metadata": {},
   "source": [
    "Expected Return\n",
    "Find the expected value of X if its probability distribution is as given in the table above. (Answer in terms of crores.)\n",
    "\n",
    "1\n",
    " \n",
    "-1   ✓ Correct\n"
   ]
  },
  {
   "cell_type": "markdown",
   "id": "b191d65b",
   "metadata": {},
   "source": [
    "## Summary: Basics of Probability"
   ]
  },
  {
   "cell_type": "markdown",
   "id": "72a35840",
   "metadata": {},
   "source": [
    "Takeaway\n",
    "What are your top three takeaways from the session?\n",
    "\n",
    "1. The expected return is the amount of profit or loss an investor can anticipate receiving on an investment.\n",
    "2. An expected return is calculated by multiplying potential outcomes by the odds of them occurring and then totaling these results.\n",
    "3. Expected returns cannot be guaranteed."
   ]
  },
  {
   "cell_type": "code",
   "execution_count": null,
   "id": "84f57d0e",
   "metadata": {},
   "outputs": [],
   "source": []
  },
  {
   "cell_type": "markdown",
   "id": "afeb7e01",
   "metadata": {},
   "source": [
    "## Practice Questions"
   ]
  },
  {
   "cell_type": "markdown",
   "id": "fe461d47",
   "metadata": {},
   "source": [
    "Expected Loss\n",
    "Now, to find the expected loss, the bank has created the following table. As you already know, the probability of customer 1 being a defaulter is 0.007 and that of the customer not being a defaulter is 0.993. Now, in the case of default, what would be the value of X, i.e. the money lost by the bank?\n",
    "\n",
    "₹2.3 lakh\n",
    "\n",
    "₹9.2 lakh   ✓ Correct"
   ]
  },
  {
   "cell_type": "code",
   "execution_count": null,
   "id": "37526e97",
   "metadata": {},
   "outputs": [],
   "source": []
  },
  {
   "cell_type": "markdown",
   "id": "9cf1794c",
   "metadata": {},
   "source": [
    "Expected Loss\n",
    "Now, the bank has the following data -\n",
    "\n",
    "Defaulter/Non-defaulter\t   Probability   \tX (Money Lost by Bank)\n",
    "Defaulter\t0.007\t₹9.2 lakh\n",
    "Non-defaulter\t0.993\t0\n",
    "What would be the expected loss (expected value of the money lost by the bank)?\n",
    "\n",
    "\n",
    "₹6440   ✓ Correct"
   ]
  },
  {
   "cell_type": "code",
   "execution_count": null,
   "id": "c3dd43a0",
   "metadata": {},
   "outputs": [],
   "source": []
  },
  {
   "cell_type": "markdown",
   "id": "6bdbdd8f",
   "metadata": {},
   "source": [
    "Expected Loss\n",
    "So, in general, what would be the expected loss?\n",
    "\n",
    "\n",
    "PD*EAD*R\n",
    "\n",
    "PD*EAD*(1-R)   ✓ Correct"
   ]
  },
  {
   "cell_type": "code",
   "execution_count": null,
   "id": "57eabe69",
   "metadata": {},
   "outputs": [],
   "source": []
  },
  {
   "cell_type": "markdown",
   "id": "6eae29d8",
   "metadata": {},
   "source": [
    "Expected Loss\n",
    "Now, the bank wants to find the total expected loss. This is done by calculating the expected losses for each of the 10,000 customers and then adding them up.\n",
    "\n",
    "The data for all the customers of the bank is given in the file Inferential Statistics - Student Loan.csv. What would be the value of the total expected loss?\n",
    "\n",
    "\n",
    "₹1.25 crores\n",
    "\n",
    "₹4.93 crores   ✓ Correct"
   ]
  },
  {
   "cell_type": "code",
   "execution_count": null,
   "id": "60a9c4c1",
   "metadata": {},
   "outputs": [],
   "source": []
  },
  {
   "cell_type": "markdown",
   "id": "8535db05",
   "metadata": {},
   "source": [
    "## Graded Questions"
   ]
  },
  {
   "cell_type": "markdown",
   "id": "793e1098",
   "metadata": {},
   "source": [
    "European Roulette Wheel\n",
    "First of all, what is the probability of Kriti winning the game if she bets on the number 5?\n",
    "\n",
    "\n",
    "1/36\n",
    "\n",
    "1/37   ✓ Correct"
   ]
  },
  {
   "cell_type": "code",
   "execution_count": null,
   "id": "593680c5",
   "metadata": {},
   "outputs": [],
   "source": []
  },
  {
   "cell_type": "markdown",
   "id": "076e8993",
   "metadata": {},
   "source": [
    "European Roulette Wheel\n",
    "Now, let’s say that we define the random variable X as Kriti’s net winnings if she plays this game and bets £100 on the number 5. What is the expected value of X?\n",
    "\n",
    "\n",
    "£97.30\n",
    "\n",
    "-£2.70    ✓ Correct"
   ]
  },
  {
   "cell_type": "code",
   "execution_count": null,
   "id": "02df7deb",
   "metadata": {},
   "outputs": [],
   "source": []
  },
  {
   "cell_type": "markdown",
   "id": "a1d058bc",
   "metadata": {},
   "source": [
    "American Roulette Wheel\n",
    "Now, again, let’s define the random variable X as Kriti’s net winnings if she plays this game and bets £100 on the number 5. What is the expected value of X this time?\n",
    "\n",
    "\n",
    "£97.30\n",
    "\n",
    "-£2.70\n",
    "\n",
    "£94.74\n",
    "\n",
    "-£5.26   ✓ Correct"
   ]
  },
  {
   "cell_type": "code",
   "execution_count": null,
   "id": "4be583ad",
   "metadata": {},
   "outputs": [],
   "source": []
  },
  {
   "cell_type": "markdown",
   "id": "0a46141f",
   "metadata": {},
   "source": [
    "# Discrete Probability Distributions"
   ]
  },
  {
   "cell_type": "markdown",
   "id": "45bd8a7e",
   "metadata": {},
   "source": [
    "## Probability Without Experiment - I"
   ]
  },
  {
   "cell_type": "markdown",
   "id": "87624cb7",
   "metadata": {},
   "source": [
    "Probability Without Experiment\n",
    "What is the probability that you would get this combination of balls after 4 trials? (One trial = taking out a ball, noting its colour, and putting it back in the bag.)\n",
    "\n",
    "Note that the bag contains 2 blue and 3 red balls.\n",
    "\n",
    "\n",
    "\n",
    " \n",
    "\n",
    "i.e., the combination Blue-Red-Red-Red.\n",
    "\n",
    "[You’re not expected to know the right answer at this point. This question is given just to get you thinking in the right direction.]\n",
    "\n",
    "\n",
    "0.4*0.4*0.4*0.4\n",
    "\n",
    "\n",
    "0.6*0.6*0.6*0.6\n",
    "\n",
    "\n",
    "0.4*0.6*0.6*0.6   ✓ Correct"
   ]
  },
  {
   "cell_type": "code",
   "execution_count": null,
   "id": "4c08efcd",
   "metadata": {},
   "outputs": [],
   "source": []
  },
  {
   "cell_type": "markdown",
   "id": "ea8c254c",
   "metadata": {},
   "source": [
    "Probability Without Experiment\n",
    "What is the probability that you will get 3 red balls after 4 trials? (One trial = taking out a ball, noting its colour, and putting it back in the bag.)\n",
    "\n",
    "[You’re not expected to know the right answer at this point. This question is given just to get you thinking in the right direction.]\n",
    "\n",
    "\n",
    "0.4*0.6*0.6*0.6\n",
    "\n",
    "2*(0.4*0.6*0.6*0.6)\n",
    "\n",
    "3*(0.4*0.6*0.6*0.6)\n",
    "\n",
    "4*(0.4*0.6*0.6*0.6)   ✓ Correct"
   ]
  },
  {
   "cell_type": "code",
   "execution_count": null,
   "id": "96d636a4",
   "metadata": {},
   "outputs": [],
   "source": []
  },
  {
   "cell_type": "markdown",
   "id": "5563f064",
   "metadata": {},
   "source": [
    "## Probability Without Experiment - II"
   ]
  },
  {
   "cell_type": "markdown",
   "id": "c9b5e8be",
   "metadata": {},
   "source": [
    "Probability Without Experiment\n",
    "What is the probability that you would get the combination of balls shown below after 4 trials? (One trial = taking out a ball, noting its colour, and putting it back in the bag).\n",
    "\n",
    "\n",
    "\n",
    " \n",
    "\n",
    "Note that we have changed the contents of the bag — now it has 4 red balls and 1 blue ball.\n",
    "\n",
    "\n",
    "0.4*0.6*0.6*0.6\n",
    "\n",
    "\n",
    "0.2*0.2*0.2*0.2\n",
    "\n",
    "\n",
    "0.8*0.8*0.8*0.8\n",
    "\n",
    "\n",
    "0.2*0.8*0.8*0.8   ✓ Correct"
   ]
  },
  {
   "cell_type": "code",
   "execution_count": null,
   "id": "2267e856",
   "metadata": {},
   "outputs": [],
   "source": []
  },
  {
   "cell_type": "markdown",
   "id": "7a893b38",
   "metadata": {},
   "source": [
    "Probability Without Experiment\n",
    "What is the probability that you would get exactly 3 red balls after 4 trials? (One trial = taking out a ball, noting its colour, and putting it back in the bag.)\n",
    "\n",
    "\n",
    "0.2*0.8*0.8*0.8\n",
    "\n",
    "\n",
    "2*(0.2*0.8*0.8*0.8)\n",
    "\n",
    "\n",
    "3*(0.2*0.8*0.8*0.8)\n",
    "\n",
    "\n",
    "4*(0.2*0.8*0.8*0.8)   ✓ Correct"
   ]
  },
  {
   "cell_type": "code",
   "execution_count": null,
   "id": "58930615",
   "metadata": {},
   "outputs": [],
   "source": []
  },
  {
   "cell_type": "markdown",
   "id": "5a2bd3ae",
   "metadata": {},
   "source": [
    "## Binomial Distribution (Examples)"
   ]
  },
  {
   "cell_type": "markdown",
   "id": "308cb0e6",
   "metadata": {},
   "source": [
    "Binomial Distribution\n",
    "A student attempts a test with 10 multiple choice questions, where each question has 4 possible options. She does not know the correct answer to any of the questions and just randomly selects one of the 4 options for each of them. The probability that she would still get 3 questions correct is:\n",
    "\n",
    "\n",
    "10\n",
    "C\n",
    "3\n",
    "(\n",
    "1\n",
    "/\n",
    "4\n",
    ")\n",
    "3\n",
    "(\n",
    "3\n",
    "/\n",
    "4\n",
    ")\n",
    "7\n",
    "        ✓ Correct"
   ]
  },
  {
   "cell_type": "code",
   "execution_count": null,
   "id": "f885eec1",
   "metadata": {},
   "outputs": [],
   "source": []
  },
  {
   "cell_type": "markdown",
   "id": "10ff285a",
   "metadata": {},
   "source": [
    "Binomial Distribution\n",
    "Now, the test is modified by adding 5 true and false questions to the set of 10 MCQs. The student does not know the answer to the new questions either and randomly selects true or false for each of them too.\n",
    "\n",
    "Now, according to binomial distribution, the probability that she would still get 5 of the 15 questions (5 true/false Qs, and 10 MCQs with 4 options) correct is:\n",
    "    \n",
    "\n",
    "Binomial probability cannot be used here    ✓ Correct"
   ]
  },
  {
   "cell_type": "code",
   "execution_count": null,
   "id": "675e2455",
   "metadata": {},
   "outputs": [],
   "source": []
  },
  {
   "cell_type": "markdown",
   "id": "97dcb4fd",
   "metadata": {},
   "source": [
    "## Cumulative Probability"
   ]
  },
  {
   "cell_type": "markdown",
   "id": "c0fb12ad",
   "metadata": {},
   "source": [
    "Cumulative Probability\n",
    "Let’s define X as the number of wickets Ishant Sharma would take in the next T20 match he plays. Also, the following is an incomplete table for cumulative probability based on previous experience:\n",
    "    \n",
    "0.25    ✓ Correct\n"
   ]
  },
  {
   "cell_type": "code",
   "execution_count": null,
   "id": "aaf99a0a",
   "metadata": {},
   "outputs": [],
   "source": []
  },
  {
   "cell_type": "markdown",
   "id": "fecf2fa3",
   "metadata": {},
   "source": [
    "## Summary: Discrete Probability Distributions"
   ]
  },
  {
   "cell_type": "markdown",
   "id": "fd500971",
   "metadata": {},
   "source": [
    "Takeaway\n",
    "What are your top three takeaways from the session?\n",
    "\n",
    "we calculated the probability of getting 0, 1, 2, 3 and 4 red balls for our upGrad red ball game. Then, we compared the values we got through theoretical calculations with the ones we got after the experiments in the first session. Recall that the values were quite similar."
   ]
  },
  {
   "cell_type": "code",
   "execution_count": null,
   "id": "ec1111c7",
   "metadata": {},
   "outputs": [],
   "source": []
  },
  {
   "cell_type": "markdown",
   "id": "cfefdd5d",
   "metadata": {},
   "source": [
    "## Practice Questions"
   ]
  },
  {
   "cell_type": "markdown",
   "id": "41a4e7ba",
   "metadata": {},
   "source": [
    "Discrete Probability Distributions\n",
    "What is the probability that 2 of the 10 packets tested would turn out to be defective?\n",
    "\n",
    "(Use this \n",
    "n\n",
    "C\n",
    "r\n",
    " calculator.)\n",
    "\n",
    "\n",
    "1.66%\n",
    "\n",
    "7.46%    ✓ Correct"
   ]
  },
  {
   "cell_type": "code",
   "execution_count": null,
   "id": "3ea5fbee",
   "metadata": {},
   "outputs": [],
   "source": []
  },
  {
   "cell_type": "markdown",
   "id": "cc6c92ee",
   "metadata": {},
   "source": [
    "Discrete Probability Distributions\n",
    "What is the probability that, after testing these 10 packets, not more than 2 packets would turn out to be defective?\n",
    "\n",
    "(Use this \n",
    "n\n",
    "C\n",
    "r\n",
    " calculator.)\n",
    "\n",
    "\n",
    "98.84%     ✓ Correct"
   ]
  },
  {
   "cell_type": "code",
   "execution_count": null,
   "id": "329b4e29",
   "metadata": {},
   "outputs": [],
   "source": []
  },
  {
   "cell_type": "markdown",
   "id": "06afa57f",
   "metadata": {},
   "source": [
    "Discrete Probability Distributions\n",
    "Let’s define X as the number of packets found to be defective after the 10 packets have been tested. What will be the expected value of X?\n",
    "\n",
    "(Hint: You can Use Excel or R for the calculations for this part. Use \"COMBIN(n,r)\" in Excel and \"choose(n,r)\" in R to find \n",
    "n\n",
    "C\n",
    "r\n",
    ")\n",
    "\n",
    "\n",
    "1\n",
    "\n",
    "0.5    ✓ Correct"
   ]
  },
  {
   "cell_type": "code",
   "execution_count": null,
   "id": "8ded937e",
   "metadata": {},
   "outputs": [],
   "source": []
  },
  {
   "cell_type": "markdown",
   "id": "9cb04049",
   "metadata": {},
   "source": [
    "## Comprehension: Expected Value"
   ]
  },
  {
   "cell_type": "markdown",
   "id": "ae5e9673",
   "metadata": {},
   "source": [
    "Expected Value\n",
    "Suppose you’re conducting an experiment by tossing two coins simultaneously. You then note down the number of tails in each toss. How many tails can you expect on average in each experiment on average?\n",
    "\n",
    " \n",
    "\n",
    "Note: Round off your answer to 2 decimal places. If your answer if 1.333333, write 1.33 in the box.\n",
    "\n",
    "1     ✓ Correct\n"
   ]
  },
  {
   "cell_type": "code",
   "execution_count": null,
   "id": "a4e68021",
   "metadata": {},
   "outputs": [],
   "source": []
  },
  {
   "cell_type": "markdown",
   "id": "0c600bfe",
   "metadata": {},
   "source": [
    "Expected Value\n",
    "Suppose you go to a shoe-shop to buy a pair of shoes. There are 50 pairs of shoes in the shop in-total. Every time you ask the shopkeeper to show you a pair of shoes, he draws 3 pair of shoes randomly from his stock of 50 pairs. If you don’t like any of the pairs, he places all the 3 of them back and then draws 3 pairs again, randomly. Out of all the 50 pairs, 7 pairs of shoes are defected. What is the expected number of defective shoes in a given trial?\n",
    "\n",
    " \n",
    "\n",
    "Note: Round off your final answer to 2 decimal places. If your answer if 1.333333, write 1.33 in the box.\n",
    "    \n",
    "0.42     ✓ Correct"
   ]
  },
  {
   "cell_type": "code",
   "execution_count": null,
   "id": "0cd09b31",
   "metadata": {},
   "outputs": [],
   "source": []
  },
  {
   "cell_type": "markdown",
   "id": "a1f0f50e",
   "metadata": {},
   "source": [
    "Expected Value\n",
    "Suppose you’re playing a game using two dice. Upon throwing the two dice simultaneously, if their sum equals 4, then you get 1000 rupees. If their sum is anything other than 4, you lose 100 rupees. What is the expected earning/loss in this game?\n",
    "\n",
    " \n",
    "\n",
    "Note:\n",
    "\n",
    "1. Round off your final answer to 2 decimal places. If your answer if 1.333333, write 1.33 in the box.\n",
    "\n",
    "2. If the expectation is a loss, make sure you write a negative number. For instance, -2.5 is a valid answer\n",
    "\n",
    "\n",
    "-8.33     ✓ Correct"
   ]
  },
  {
   "cell_type": "code",
   "execution_count": null,
   "id": "e9194da5",
   "metadata": {},
   "outputs": [],
   "source": []
  },
  {
   "cell_type": "markdown",
   "id": "b41354a2",
   "metadata": {},
   "source": [
    "Expected Value\n",
    "Rahul wants to play a poker game. The entry charge for the game is a non-refundable INR 2000 and probability that Rahul wins a poker game is 3%. The prize money is INR 50000. If Rahul wins, he gets the prize money. If he loses, he gets nothing. What's his expected earning/loss per game?\n",
    "\n",
    " \n",
    "\n",
    "Note:\n",
    "\n",
    "1. Round off your final answer to 2 decimal places. If your answer if 1.333333, write 1.33 in the box.\n",
    "\n",
    "2. If the expectation is a loss, make sure you write a negative number. For instance, -2.5 is a valid answer.\n",
    "\n",
    "\n",
    "-500     ✓ Correct"
   ]
  },
  {
   "cell_type": "code",
   "execution_count": null,
   "id": "64713716",
   "metadata": {},
   "outputs": [],
   "source": []
  },
  {
   "cell_type": "markdown",
   "id": "44daa580",
   "metadata": {},
   "source": [
    "Expected Value\n",
    "This question is a continuation of the previous question. Based on the expected value of the previous question, which of the following is a possibility for Rahul?\n",
    "\n",
    " \n",
    "\n",
    "Note: Multiple answers might be correct.\n",
    "\n",
    "\n",
    "Rahul wins INR 50,000 prize money in the first game.    ✓ Correct\n",
    "\n",
    "Rahul loses all the first 100 games.     ✓ Correct"
   ]
  },
  {
   "cell_type": "code",
   "execution_count": null,
   "id": "f4fbdc9b",
   "metadata": {},
   "outputs": [],
   "source": []
  },
  {
   "cell_type": "markdown",
   "id": "40083b73",
   "metadata": {},
   "source": [
    "## Graded Questions"
   ]
  },
  {
   "cell_type": "markdown",
   "id": "b2da52ff",
   "metadata": {},
   "source": [
    "Pancreatic Cancer Hospital\n",
    "The hospital has a total of 10 patients suffering from pancreatic cancer. What is the probability that exactly 4 of these patients would survive the first year after receiving this treatment?\n",
    "\n",
    "(Use this \n",
    "n\n",
    "C\n",
    "r\n",
    " calculator.)\n",
    "\n",
    "\n",
    "2.2%\n",
    "\n",
    "12.6%\n",
    "\n",
    "25.1%     ✓ Correct"
   ]
  },
  {
   "cell_type": "code",
   "execution_count": null,
   "id": "31b2824a",
   "metadata": {},
   "outputs": [],
   "source": []
  },
  {
   "cell_type": "markdown",
   "id": "58b0e7e3",
   "metadata": {},
   "source": [
    "Pancreatic Cancer Hospital\n",
    "What is the probability that the number of patients that survive the first year after receiving the treatment would not be more than 2?\n",
    "\n",
    "(Use this \n",
    "n\n",
    "C\n",
    "r\n",
    " calculator.)\n",
    "\n",
    "\n",
    "14.9%\n",
    "\n",
    "16.7%    ✓ Correct"
   ]
  },
  {
   "cell_type": "code",
   "execution_count": null,
   "id": "3f518ab9",
   "metadata": {},
   "outputs": [],
   "source": []
  },
  {
   "cell_type": "markdown",
   "id": "a0d70117",
   "metadata": {},
   "source": [
    "Binomial Distribution\n",
    "Calculate the probability that at most 2 students are able to solve the high-level question\n",
    "\n",
    "(Use this \n",
    "n\n",
    "C\n",
    "r\n",
    " calculator.)\n",
    "\n",
    "\n",
    "0.67\n",
    "\n",
    "\n",
    "0.55\n",
    "\n",
    "\n",
    "0.83\n",
    "\n",
    "\n",
    "0.38     ✓ Correct"
   ]
  },
  {
   "cell_type": "code",
   "execution_count": null,
   "id": "3b90e844",
   "metadata": {},
   "outputs": [],
   "source": []
  },
  {
   "cell_type": "markdown",
   "id": "15889dbe",
   "metadata": {},
   "source": [
    "Binomial Distribution\n",
    "What is the probability that exactly 4 students are able to solve all the 3 questions?\n",
    "\n",
    "Hint: First you need to calculate the probability that a randomly selected student is able to solve all the 3 questions.\n",
    "\n",
    "(Use this \n",
    "n\n",
    "C\n",
    "r\n",
    "  calculator.)\n",
    "\n",
    "\n",
    "1.56%\n",
    "\n",
    "\n",
    "4.25%    ✓ Correct"
   ]
  },
  {
   "cell_type": "code",
   "execution_count": null,
   "id": "387f7fa2",
   "metadata": {},
   "outputs": [],
   "source": []
  },
  {
   "cell_type": "markdown",
   "id": "db57eff2",
   "metadata": {},
   "source": [
    "Binomial Distribution\n",
    "After all the 10 students attempted the test, she found that 7 students were able to solve the normal level question, 5 students were able to solve the intermediate level question and only 2 students were able to solve the high-level question. What was the theoretical probability that such a situation would have occurred?\n",
    "\n",
    "(Use this \n",
    "n\n",
    "C\n",
    "r\n",
    " calculator.)\n",
    "\n",
    "\n",
    "1.2%\n",
    "\n",
    "\n",
    "3%\n",
    "\n",
    "\n",
    "0.6%    ✓ Correct"
   ]
  },
  {
   "cell_type": "code",
   "execution_count": null,
   "id": "e1f531bb",
   "metadata": {},
   "outputs": [],
   "source": []
  },
  {
   "cell_type": "markdown",
   "id": "8ec4e1b6",
   "metadata": {},
   "source": [
    "Binomial Distribution\n",
    "The chances of a team winning a match is 0.4. Find the probability that the team will win at least one match out of five.\n",
    "\n",
    "\n",
    "0.08\n",
    "\n",
    "\n",
    "0.92   ✓ Correct"
   ]
  },
  {
   "cell_type": "code",
   "execution_count": null,
   "id": "f81beea8",
   "metadata": {},
   "outputs": [],
   "source": []
  },
  {
   "cell_type": "markdown",
   "id": "b92518ad",
   "metadata": {},
   "source": [
    "Binomial Distribution\n",
    "In an exam, there are 5 multiple choice questions. Each question has four options and only one option is correct. What is the probability that a student attempting the exam gets 3 or more correct answers out of 5 questions assuming that the probability of getting a correct answer is 1/4?\n",
    "\n",
    "\n",
    "0.1   ✓ Correct"
   ]
  },
  {
   "cell_type": "code",
   "execution_count": null,
   "id": "c11d24bc",
   "metadata": {},
   "outputs": [],
   "source": []
  },
  {
   "cell_type": "markdown",
   "id": "466d559c",
   "metadata": {},
   "source": [
    "Expected Value\n",
    "What is the expected profit/loss on average from the Tiger Lottery?\n",
    "\n",
    "\n",
    "+2000\n",
    "\n",
    "\n",
    "-2000    ✓ Correct"
   ]
  },
  {
   "cell_type": "code",
   "execution_count": null,
   "id": "d244f662",
   "metadata": {},
   "outputs": [],
   "source": []
  },
  {
   "cell_type": "markdown",
   "id": "034e4976",
   "metadata": {},
   "source": [
    "Expected Value\n",
    "What is the expected profit/loss on average from society's lottery?\n",
    "\n",
    "\n",
    "+4700   ✓ Correct"
   ]
  },
  {
   "cell_type": "code",
   "execution_count": null,
   "id": "fcf936c5",
   "metadata": {},
   "outputs": [],
   "source": []
  },
  {
   "cell_type": "markdown",
   "id": "af409241",
   "metadata": {},
   "source": [
    "Expected Value\n",
    "Based on the expected profit, which among the two lottery competitions was a better one to play?\n",
    "\n",
    " \n",
    "\n",
    "Note: This question is not graded.\n",
    "\n",
    "\n",
    "Tiger Lottery\n",
    "\n",
    "\n",
    "Society's Lottery    ✓ Correct"
   ]
  },
  {
   "cell_type": "code",
   "execution_count": null,
   "id": "9953edfe",
   "metadata": {},
   "outputs": [],
   "source": []
  },
  {
   "cell_type": "markdown",
   "id": "b00f5891",
   "metadata": {},
   "source": [
    "# Continuous Probability Distributions"
   ]
  },
  {
   "cell_type": "markdown",
   "id": "9681c2c6",
   "metadata": {},
   "source": [
    "## Probability Density Functions - I"
   ]
  },
  {
   "cell_type": "markdown",
   "id": "00ecf567",
   "metadata": {},
   "source": [
    "Cumulative Probability of Continuous Distributions\n",
    "Recall that, in the above video, we talked about a fictional company with 3,000 employees in a local office. Now, let’s say you went to that office, and asked those 3,000 employees to play our upGrad red ball game (from the previous sessions 1 and 2). Based on the data on these 3,000 people, if you create the probability distribution for X, then the values of P(X=0), P(X=1), P(X=2), P(X=3) and P(X=4) would all be:\n",
    "\n",
    "[X = number of red balls drawn by a player after playing the game once]\n",
    "\n",
    "\n",
    "zero\n",
    "\n",
    "\n",
    "non-zero    ✓ Correct"
   ]
  },
  {
   "cell_type": "code",
   "execution_count": null,
   "id": "15ae0ef7",
   "metadata": {},
   "outputs": [],
   "source": []
  },
  {
   "cell_type": "markdown",
   "id": "1d3c6237",
   "metadata": {},
   "source": [
    "## Probability Density Functions - II"
   ]
  },
  {
   "cell_type": "code",
   "execution_count": null,
   "id": "763b32a9",
   "metadata": {},
   "outputs": [],
   "source": [
    "Uniform Distribution\n",
    "In a uniform PDF, all the possible values have the same probability density. The figure below shows such a uniform PDF, where the possible values are 0 to 10.\n",
    "\n",
    "0.1   ✓ Correct"
   ]
  },
  {
   "cell_type": "code",
   "execution_count": null,
   "id": "e3ba1c2f",
   "metadata": {},
   "outputs": [],
   "source": []
  },
  {
   "cell_type": "code",
   "execution_count": null,
   "id": "8d398b66",
   "metadata": {},
   "outputs": [],
   "source": [
    "Uniform Distribution\n",
    "For the uniform PDF from the previous question, find the cumulative probability for X = 0.5.\n",
    "\n",
    "0.05   ✓ Correct"
   ]
  },
  {
   "cell_type": "code",
   "execution_count": null,
   "id": "ba179978",
   "metadata": {},
   "outputs": [],
   "source": []
  },
  {
   "cell_type": "markdown",
   "id": "6707e9e3",
   "metadata": {},
   "source": [
    "Cumulative Probability of Continuous Variables\n",
    "Suppose you work at a sports analysis company and you want to analyse the effect a bowler’s height has on his/her performance. So, you create a list of all 5 wicket hauls in the last decade. Based on this data, they created a cumulative probability distribution for X, where X = height of the bowler who took the 5 wicket haul.\n",
    "\n",
    "Now, based on the data, you conclude that the cumulative probability, F(175.3 cm) = 0.3. In this case, which of the following statements is correct?\n",
    "\n",
    "P(X<175.3 cm) = 0.3\n",
    "\n",
    "P(X<175.3 cm) = 0.3\n",
    "\n",
    "(Remember that height is a continuous variable.)\n",
    "\n",
    "\n",
    "Only statement 1 is correct\n",
    "\n",
    "Only statement 2 is correct\n",
    "\n",
    "Both statements 1 and 2 are correct     ✓ Correct"
   ]
  },
  {
   "cell_type": "code",
   "execution_count": null,
   "id": "1116ca11",
   "metadata": {},
   "outputs": [],
   "source": []
  },
  {
   "cell_type": "markdown",
   "id": "85213c80",
   "metadata": {},
   "source": [
    "## Normal Distribution"
   ]
  },
  {
   "cell_type": "markdown",
   "id": "ebd69683",
   "metadata": {},
   "source": [
    "Probability of Normal Random Variables\n",
    "Let’s say that you have to find the cumulative probability for a random variable X which is normally distributed.You do not know what the value of X is or, for that matter, what the value of µ and σ is. You only know that X = µ + σ. Can you find the cumulative probability, i.e. the probability of the variable being less than µ + σ?\n",
    "\n",
    "\n",
    "Yes    ✓ Correct"
   ]
  },
  {
   "cell_type": "code",
   "execution_count": null,
   "id": "1e971b97",
   "metadata": {},
   "outputs": [],
   "source": []
  },
  {
   "cell_type": "markdown",
   "id": "fa82426f",
   "metadata": {},
   "source": [
    "## Standard Normal Distribution"
   ]
  },
  {
   "cell_type": "markdown",
   "id": "bc70ed43",
   "metadata": {},
   "source": [
    "Normal Variables\n",
    "What is the probability of a normally distributed random variable lying within 1.65 standard deviations of the mean?\n",
    "[You can use the Z table here.]\n",
    "\n",
    "\n",
    "95%\n",
    "\n",
    "\n",
    "90%    ✓ Correct"
   ]
  },
  {
   "cell_type": "code",
   "execution_count": null,
   "id": "561f66e2",
   "metadata": {},
   "outputs": [],
   "source": []
  },
  {
   "cell_type": "markdown",
   "id": "fdefc8d2",
   "metadata": {},
   "source": [
    "## Practice Questions"
   ]
  },
  {
   "cell_type": "markdown",
   "id": "22e3a767",
   "metadata": {},
   "source": [
    "Cumulative Probability Distributions\n",
    "The regulatory authority selects a random tablet from Batch Z2. Based on previous knowledge, you know that Batch Z2 has a mean paracetamol level of 510 mg, and its standard deviation is 20 mg.\n",
    "\n",
    "What is the probability that the tablet that has been selected by the authority has a paracetamol level below 550 mg?\n",
    "\n",
    "\n",
    "48%\n",
    "\n",
    "\n",
    "95%\n",
    "\n",
    "\n",
    "98%    ✓ Correct"
   ]
  },
  {
   "cell_type": "code",
   "execution_count": null,
   "id": "efeaf123",
   "metadata": {},
   "outputs": [],
   "source": []
  },
  {
   "cell_type": "markdown",
   "id": "18da5b88",
   "metadata": {},
   "source": [
    "Continuous Probability Distributions\n",
    "Now, the company’s QC (Quality Control) department comes and selects a tablet at random from Batch Z2. It is interested in finding if the paracetamol level is above 450 mg or not.\n",
    "\n",
    "What is the probability that the tablet selected by QC has a paracetamol level above 450 mg?\n",
    "\n",
    "\n",
    "99.87%    ✓ Correct"
   ]
  },
  {
   "cell_type": "code",
   "execution_count": null,
   "id": "f3bfbcab",
   "metadata": {},
   "outputs": [],
   "source": []
  },
  {
   "cell_type": "markdown",
   "id": "b9fab8f5",
   "metadata": {},
   "source": [
    "Continuous Probability Distributions\n",
    "Now, let’s say that QC decides to sample one more tablet. This time, it selects a tablet from Batch Y4. Based on previous knowledge, you know that Batch Y4 has a mean paracetamol level of 505 mg, and its standard deviation is 25 mg. This time, QC wants to check both the upper limit and the lower limit for the paracetamol level.\n",
    "\n",
    "What is the probability that the tablet selected by QC has a paracetamol level between 450 mg and 550 mg?\n",
    "\n",
    "\n",
    "91%\n",
    "\n",
    "\n",
    "93%\n",
    "\n",
    "\n",
    "95%    ✓ Correct"
   ]
  },
  {
   "cell_type": "code",
   "execution_count": null,
   "id": "5400cafb",
   "metadata": {},
   "outputs": [],
   "source": []
  },
  {
   "cell_type": "markdown",
   "id": "db3721f0",
   "metadata": {},
   "source": [
    "## Graded Questions"
   ]
  },
  {
   "cell_type": "markdown",
   "id": "44e33b27",
   "metadata": {},
   "source": [
    "Uniform Distribution\n",
    "What is the probability of the random variable X lying between -1.5 and +2.5, i.e. P(-1.5<X<2.5)?\n",
    "\n",
    "\n",
    "0.1\n",
    "\n",
    "\n",
    "0.4    ✓ Correct"
   ]
  },
  {
   "cell_type": "code",
   "execution_count": null,
   "id": "a1e96949",
   "metadata": {},
   "outputs": [],
   "source": []
  },
  {
   "cell_type": "markdown",
   "id": "606a398c",
   "metadata": {},
   "source": [
    "Astronomical Error\n",
    "Based on the information above, what is the probability of the astronomer overestimating the distance by 2,330 km or more?\n",
    "\n",
    "(You can use the Z table here.)\n",
    "\n",
    "\n",
    "1%    ✓ Correct"
   ]
  },
  {
   "cell_type": "code",
   "execution_count": null,
   "id": "6420e3dc",
   "metadata": {},
   "outputs": [],
   "source": []
  },
  {
   "cell_type": "markdown",
   "id": "5bba742e",
   "metadata": {},
   "source": [
    "Astronomical Error\n",
    "Hence, what is the probability that the astronomer under- or over-estimates the distance by less than 500 km?\n",
    "\n",
    "(You can use the Z table here.)\n",
    "\n",
    "\n",
    "30.85%\n",
    "\n",
    "\n",
    "69.15%\n",
    "\n",
    "\n",
    "38.30%    ✓ Correct"
   ]
  },
  {
   "cell_type": "code",
   "execution_count": null,
   "id": "8d8b1ae5",
   "metadata": {},
   "outputs": [],
   "source": []
  },
  {
   "cell_type": "markdown",
   "id": "91fb2e26",
   "metadata": {},
   "source": [
    "Rainfall Data\n",
    "It was calculated that the floods were caused by a rainfall of 2200 mm. From the given information, what would be the probability that the state receives more than 2200 mm of rainfall in this period?\n",
    "\n",
    "\n",
    "3.5%\n",
    "\n",
    "\n",
    "4.8%\n",
    "\n",
    "\n",
    "1.2%\n",
    "\n",
    "\n",
    "6.7%     ✓ Correct"
   ]
  },
  {
   "cell_type": "code",
   "execution_count": null,
   "id": "d299ac4d",
   "metadata": {},
   "outputs": [],
   "source": []
  },
  {
   "cell_type": "markdown",
   "id": "8f3c0c33",
   "metadata": {},
   "source": [
    "Normal Data\n",
    "At what cutoff rainfall value should the current infrastructure be redesigned so that there is only a 3% chance that either similar or heavier rains are observed in the future?\n",
    "\n",
    "\n",
    "2433 mm\n",
    "\n",
    "\n",
    "2352 mm    ✓ Correct"
   ]
  },
  {
   "cell_type": "code",
   "execution_count": null,
   "id": "81b3b2d3",
   "metadata": {},
   "outputs": [],
   "source": []
  },
  {
   "cell_type": "markdown",
   "id": "71ce5fe1",
   "metadata": {},
   "source": [
    "# Central Limit Theorem"
   ]
  },
  {
   "cell_type": "markdown",
   "id": "bbf08bda",
   "metadata": {},
   "source": [
    "## Samples"
   ]
  },
  {
   "cell_type": "markdown",
   "id": "4918c407",
   "metadata": {},
   "source": [
    "School Kids Sample\n",
    "What is the sample size for this sample?\n",
    "\n",
    "\n",
    "5     ✓ Correct"
   ]
  },
  {
   "cell_type": "code",
   "execution_count": null,
   "id": "49153591",
   "metadata": {},
   "outputs": [],
   "source": []
  },
  {
   "cell_type": "markdown",
   "id": "29d183c4",
   "metadata": {},
   "source": [
    "School Kids Sample\n",
    "What is the sample mean (\n",
    "¯\n",
    "X\n",
    ")?\n",
    "\n",
    "\n",
    "133.21\n",
    "\n",
    "139.69      ✓ Correct"
   ]
  },
  {
   "cell_type": "code",
   "execution_count": null,
   "id": "03788c81",
   "metadata": {},
   "outputs": [],
   "source": []
  },
  {
   "cell_type": "markdown",
   "id": "3dac452b",
   "metadata": {},
   "source": [
    "School Kids Sample\n",
    "What will be the sample's standard deviation (S)?\n",
    "\n",
    "\n",
    "22.84\n",
    "\n",
    "23.67\n",
    "\n",
    "19.19\n",
    "\n",
    "21.45     ✓ Correct"
   ]
  },
  {
   "cell_type": "code",
   "execution_count": null,
   "id": "1fde89a5",
   "metadata": {},
   "outputs": [],
   "source": []
  },
  {
   "cell_type": "markdown",
   "id": "cbf6ae55",
   "metadata": {},
   "source": [
    "## Sampling Distributions"
   ]
  },
  {
   "cell_type": "markdown",
   "id": "b628d128",
   "metadata": {},
   "source": [
    "Sampling Distribution\n",
    "What is \n",
    "μ\n",
    "¯\n",
    "X\n",
    " for our sampling distribution? (The data for the 100 sample means is given in the CSV file upgrad_samples.csv).\n",
    "\n",
    "\n",
    "2.812\n",
    "\n",
    "2.014\n",
    "\n",
    "2.348     ✓ Correct"
   ]
  },
  {
   "cell_type": "code",
   "execution_count": null,
   "id": "bed60e29",
   "metadata": {},
   "outputs": [],
   "source": []
  },
  {
   "cell_type": "markdown",
   "id": "256c37a4",
   "metadata": {},
   "source": [
    "Sampling Distribution\n",
    "What is the standard deviation of our sampling distribution? (The data for the 100 sample means is given in the CSV file upgrad_samples.csv).\n",
    "\n",
    "\n",
    "0.4248      ✓ Correct\n"
   ]
  },
  {
   "cell_type": "code",
   "execution_count": null,
   "id": "70a34713",
   "metadata": {},
   "outputs": [],
   "source": []
  },
  {
   "cell_type": "markdown",
   "id": "00a5fa80",
   "metadata": {},
   "source": [
    "## Practice Questions - Part I"
   ]
  },
  {
   "cell_type": "markdown",
   "id": "821653bf",
   "metadata": {},
   "source": [
    "Voter Sample\n",
    "Now, let’s say you define Y as the proportion of people that voted for the INC party. Clearly, the mean of Y will be 0.42. What would be the standard deviation of Y?\n",
    "\n",
    "\n",
    "24.61%\n",
    "\n",
    "49.6%      ✓ Correct"
   ]
  },
  {
   "cell_type": "code",
   "execution_count": null,
   "id": "db1bff0e",
   "metadata": {},
   "outputs": [],
   "source": []
  },
  {
   "cell_type": "markdown",
   "id": "cea1bb20",
   "metadata": {},
   "source": [
    "Voter Sample\n",
    "Let’s say you actually took some more samples, each of size 100, and made a sampling distribution for X, the proportion of people that voted for BJP.\n",
    "\n",
    "The mean of this sampling distribution is \n",
    "μ\n",
    "¯\n",
    "X\n",
    " = 0.50 and the standard error = 0.052.\n",
    "\n",
    "So, for the whole survey population, i.e. all the voters in ward 75N, the proportion of people that voted for BJP is approximately equal to:\n",
    "\n",
    "\n",
    "50%     ✓ Correct"
   ]
  },
  {
   "cell_type": "code",
   "execution_count": null,
   "id": "92ed15f5",
   "metadata": {},
   "outputs": [],
   "source": []
  },
  {
   "cell_type": "markdown",
   "id": "7679453e",
   "metadata": {},
   "source": [
    "Voter Sample\n",
    "Similarly, let’s say you made a sampling distribution for Y, the proportion of people that voted for INC.\n",
    "\n",
    "The mean of this sampling distribution is \n",
    "μ\n",
    "¯\n",
    "X\n",
    " = 0.50 and the standard error is equal to 0.048.\n",
    "\n",
    "Now, for the whole survey population, i.e. all the voters in ward 75N, the standard deviation of Y is equal to:\n",
    "\n",
    "\n",
    "50%\n",
    "\n",
    "4.8%\n",
    "\n",
    "48%     ✓ Correct"
   ]
  },
  {
   "cell_type": "code",
   "execution_count": null,
   "id": "48dbf15e",
   "metadata": {},
   "outputs": [],
   "source": []
  },
  {
   "cell_type": "markdown",
   "id": "f79ceea8",
   "metadata": {},
   "source": [
    "## Confidence Interval - Example"
   ]
  },
  {
   "cell_type": "markdown",
   "id": "ce8d2547",
   "metadata": {},
   "source": [
    "Mean Estimation Using CLT\n",
    "For the above case, the 95% confidence interval is:\n",
    "\n",
    "\n",
    "(50.11%, 50.89%)      ✓ Correct"
   ]
  },
  {
   "cell_type": "code",
   "execution_count": null,
   "id": "c1893abe",
   "metadata": {},
   "outputs": [],
   "source": []
  },
  {
   "cell_type": "markdown",
   "id": "bf33d50f",
   "metadata": {},
   "source": [
    "Mean Estimation Using CLT\n",
    "For the above case, the 99% confidence interval is:\n",
    "\n",
    "\n",
    "(50.24%, 50.76%)\n",
    "\n",
    "(49.98%,51.02%)     ✓ Correct"
   ]
  },
  {
   "cell_type": "code",
   "execution_count": null,
   "id": "62de4745",
   "metadata": {},
   "outputs": [],
   "source": []
  },
  {
   "cell_type": "markdown",
   "id": "bc1bc8df",
   "metadata": {},
   "source": [
    "Mean Estimation Using CLT\n",
    "Now, you want to make the claim that more than 50% people prefer feature B over feature A. Which of the following statement/s about this claim is/are true?\n",
    "\n",
    "You can make this claim with 90% confidence\n",
    "\n",
    "You can make this claim with 95% confidence\n",
    "\n",
    "You can make this claim with 99% confidence\n",
    "\n",
    "\n",
    "All of these statements are correct\n",
    "\n",
    "Only statement 1 is correct\n",
    "\n",
    "Only Statement 1 and 2 are correct     ✓ Correct"
   ]
  },
  {
   "cell_type": "code",
   "execution_count": null,
   "id": "7dbbab1f",
   "metadata": {},
   "outputs": [],
   "source": []
  },
  {
   "cell_type": "markdown",
   "id": "fc32371d",
   "metadata": {},
   "source": [
    "## Practice Questions - Part II"
   ]
  },
  {
   "cell_type": "markdown",
   "id": "cbf832ca",
   "metadata": {},
   "source": [
    "Paracetamol Content\n",
    "What is the MOE (margin of error) for 95% confidence level?\n",
    "\n",
    "\n",
    "9.8 mg\n",
    "\n",
    "19.6 mg     ✓ Correct"
   ]
  },
  {
   "cell_type": "code",
   "execution_count": null,
   "id": "a919ab4d",
   "metadata": {},
   "outputs": [],
   "source": []
  },
  {
   "cell_type": "markdown",
   "id": "9e86bb0d",
   "metadata": {},
   "source": [
    "Paracetamol Content\n",
    "What is the confidence interval for 95% confidence level?\n",
    "\n",
    "\n",
    "510.4 to 530\n",
    "\n",
    "530 to 549.6\n",
    "\n",
    "510.4 to 549.6    ✓ Correct"
   ]
  },
  {
   "cell_type": "code",
   "execution_count": null,
   "id": "adb590e7",
   "metadata": {},
   "outputs": [],
   "source": []
  },
  {
   "cell_type": "markdown",
   "id": "2fcd048c",
   "metadata": {},
   "source": [
    "Paracetamol Content\n",
    "What is the confidence interval for 90% confidence level?\n",
    "\n",
    "\n",
    "514.7 to 545.3\n",
    "\n",
    "511.3 to 548.7\n",
    "\n",
    "513.5 to 546.5    ✓ Correct"
   ]
  },
  {
   "cell_type": "code",
   "execution_count": null,
   "id": "ba66e79c",
   "metadata": {},
   "outputs": [],
   "source": []
  },
  {
   "cell_type": "markdown",
   "id": "d15c610a",
   "metadata": {},
   "source": [
    "## Graded Questions: Central Limit Theorem"
   ]
  },
  {
   "cell_type": "markdown",
   "id": "1daaa8d1",
   "metadata": {},
   "source": [
    "Exit Poll Confidence Interval\n",
    "So, you define X as the proportion of people that voted for BJP. Now, for a 95% confidence interval, what would be the value of the MOE (margin of error)?\n",
    "\n",
    "\n",
    "0.97%\n",
    "\n",
    "9.72%     ✓ Correct"
   ]
  },
  {
   "cell_type": "code",
   "execution_count": null,
   "id": "fdd06e6e",
   "metadata": {},
   "outputs": [],
   "source": []
  },
  {
   "cell_type": "markdown",
   "id": "a0152845",
   "metadata": {},
   "source": [
    "Exit Poll Confidence Interval\n",
    "What would the 95% confidence interval be for X, the proportion of people that voted for BJP?\n",
    "\n",
    "\n",
    "(48.28%, 67.72%)     ✓ Correct"
   ]
  },
  {
   "cell_type": "code",
   "execution_count": null,
   "id": "dea518b0",
   "metadata": {},
   "outputs": [],
   "source": []
  },
  {
   "cell_type": "markdown",
   "id": "58dd93de",
   "metadata": {},
   "source": [
    "Exit Poll Confidence Interval\n",
    "What would the 95% confidence interval be for Y, the proportion of people that voted for INC?\n",
    "\n",
    "\n",
    "(37.14%, 56.86%)\n",
    "\n",
    "(32.27%, 42.00%)\n",
    "\n",
    "(42.00%, 51.72%)\n",
    "\n",
    "(32.28%, 51.72%)      ✓ Correct"
   ]
  },
  {
   "cell_type": "code",
   "execution_count": null,
   "id": "6337f517",
   "metadata": {},
   "outputs": [],
   "source": []
  },
  {
   "cell_type": "markdown",
   "id": "ae785786",
   "metadata": {},
   "source": [
    "Exit Poll Confidence Interval\n",
    "Thus, with 95% confidence, you can:\n",
    "\n",
    "\n",
    "Claim that BJP will win the election for ward 75N\n",
    "\n",
    "Claim that INC will win the election for ward 75N\n",
    "\n",
    "Not make any claims regarding the election results for ward 75N     ✓ Correct"
   ]
  },
  {
   "cell_type": "code",
   "execution_count": null,
   "id": "d88519b8",
   "metadata": {},
   "outputs": [],
   "source": []
  },
  {
   "cell_type": "markdown",
   "id": "39b8f9bd",
   "metadata": {},
   "source": [
    "2 BHK Flat Rent in Powai\n",
    "What is the 90% confidence interval for the monthly rent in rupees?\n",
    "\n",
    "\n",
    "(₹47,999, ₹49,003)\n",
    "\n",
    "\n",
    "(₹44,313, ₹46,789)\n",
    "\n",
    "\n",
    "(₹44,701, ₹46,441)    ✓ Correct"
   ]
  },
  {
   "cell_type": "code",
   "execution_count": null,
   "id": "49538db9",
   "metadata": {},
   "outputs": [],
   "source": []
  },
  {
   "cell_type": "markdown",
   "id": "9b9473a3",
   "metadata": {},
   "source": [
    "2 BHK Flat Rent in Powai\n",
    "What is the 99% confidence interval for the monthly rent in rupees?\n",
    "\n",
    "\n",
    "(₹43,671, ₹47,471)\n",
    "\n",
    "\n",
    "(₹44,210, ₹46,932)    ✓ Correct"
   ]
  },
  {
   "cell_type": "code",
   "execution_count": null,
   "id": "517e6446",
   "metadata": {},
   "outputs": [],
   "source": []
  },
  {
   "cell_type": "markdown",
   "id": "5581b5cc",
   "metadata": {},
   "source": [
    "2 BHK Flat Rent in Powai\n",
    "Your boss decides to fix the monthly rent at ₹46,500 and she asks you if this is close enough to the average. She asks you to decide based on a 95% confidence level.\n",
    "\n",
    "Does the rent fixed by your boss (₹46,500) lie inside the 95% confidence interval for monthly rent?\n",
    "\n",
    "\n",
    "Yes    ✓ Correct"
   ]
  },
  {
   "cell_type": "code",
   "execution_count": null,
   "id": "b91561ed",
   "metadata": {},
   "outputs": [],
   "source": []
  },
  {
   "cell_type": "markdown",
   "id": "5f211567",
   "metadata": {},
   "source": [
    "## Coding Practice (Optional)"
   ]
  },
  {
   "cell_type": "markdown",
   "id": "44d4c90e",
   "metadata": {},
   "source": [
    "Question 1\n",
    "Gambling 101\n",
    "You are participating in a lottery game. A deck of cards numbered from 1-50 is shuffled and 5 cards are drawn out and laid out. You are given a coin. For each card, you toss the coin and pick it up if it says heads, otherwise you don't pick it up. The sum of the cards is what you win.\n",
    "The lottery ticket costs c rupees. If the expected value of the sum of cards you pick up is less than the lottery ticket, then you buy another ticket otherwise you don't.\n",
    "\n",
    "\n",
    "ans:\n",
    "    \n",
    "sum=0\n",
    "for i in range(0,5):\n",
    "    sum=sum+int(input())/2\n",
    "if sum<=int(input()):\n",
    "    print(\"Don't buy another\")\n",
    "else:\n",
    "    print(\"Buy another one\")\n"
   ]
  },
  {
   "cell_type": "code",
   "execution_count": null,
   "id": "a7e8cf31",
   "metadata": {},
   "outputs": [],
   "source": []
  },
  {
   "cell_type": "markdown",
   "id": "24336aa6",
   "metadata": {},
   "source": [
    "Question 2\n",
    "Generating normal distribution\n",
    "Generate an array of real numbers representing a normal distribution. You will be given the mean and standard deviation as input. You have to generate 10 such numbers.\n",
    "Hint: You can use numpy's np.random here.  You can read more about it here.\n",
    "To keep the output consistent, you have to set the seed as a specific number which will be given to you as input. Setting a seed means that every time you generate random numbers, they will be the same for the same seed. You can read more about it here.\n",
    "\n",
    "\n",
    "ans:\n",
    "    \n",
    "import numpy as np \n",
    "seed=int(input())\n",
    "mean=float(input())\n",
    "std_dev=float(input())\n",
    "np.random.seed(seed)\n",
    "s = np.random.normal(mean, std_dev, 10)\n",
    "print(s)\n"
   ]
  },
  {
   "cell_type": "code",
   "execution_count": null,
   "id": "e1a2a463",
   "metadata": {},
   "outputs": [],
   "source": []
  },
  {
   "cell_type": "markdown",
   "id": "0e05cf23",
   "metadata": {},
   "source": [
    "Question 3\n",
    "Confidence Intervals\n",
    "For a given column in a dataframe, you have to calculate the 90 percent confidence interval for its mean value. (You can find Z* value for 90 percent confidence from previous segments)\n",
    "The input will have the column name. \n",
    "The output should have the confidence interval printed as a tuple.\n",
    "\n",
    "\n",
    "ans:\n",
    "    \n",
    "import pandas as pd \n",
    "import numpy as np\n",
    "df=pd.read_csv(\"https://media-doselect.s3.amazonaws.com/generic/N9LKLvBAx1y14PLoBdL0yRn3/Admission_Predict.csv\")\n",
    "col=input()\n",
    "mean = df[col].mean()\n",
    "sd = df[col].std()\n",
    "n = len(df)\n",
    "Zstar=1.65\n",
    "\n",
    "se = sd/np.sqrt(n)\n",
    "lcb = mean - Zstar * se\n",
    "ucb = mean + Zstar * se\n",
    "print((round(lcb,2),round(ucb,2)))\n"
   ]
  },
  {
   "cell_type": "code",
   "execution_count": null,
   "id": "c6e67789",
   "metadata": {},
   "outputs": [],
   "source": []
  },
  {
   "cell_type": "markdown",
   "id": "0625c5f7",
   "metadata": {},
   "source": [
    "Question 4\n",
    "College admissions\n",
    "The probability that a college will accept a student's application is x.\n",
    "Consider that m students have applied to college. You have to find the probability that at most n students are accepted by the college.\n",
    "The input will contain three lines with x, m and n respectively.\n",
    "The output should be rounded off to four decimal places.\n",
    "\n",
    "ans:\n",
    "    \n",
    "import scipy.stats as ss\n",
    "x=float(input())\n",
    "m=int(input())\n",
    "n=int(input())\n",
    "dist=ss.binom(m,x)\n",
    "sum=0.0\n",
    "for i in range(0,n+1):\n",
    "    sum=sum+dist.pmf(i)\n",
    "print(round(sum,4))\n"
   ]
  },
  {
   "cell_type": "code",
   "execution_count": null,
   "id": "771a6693",
   "metadata": {},
   "outputs": [],
   "source": []
  },
  {
   "cell_type": "markdown",
   "id": "4e13055a",
   "metadata": {},
   "source": [
    "Question 5\n",
    "Tossing a coin\n",
    "Given that you are tossing a coin n times, you have to find the probability of getting heads at most m times.\n",
    "The input will have two lines containing n and m respectively.\n",
    "\n",
    "ans:\n",
    "\n",
    "import scipy.stats as ss\n",
    "n=int(input())#number of trials\n",
    "m=int(input())# find the probability of getting at most m heads\n",
    "dist=ss.binom(n,0.5)\n",
    "sum=0.0\n",
    "for i in range(0,m+1):\n",
    "    sum=sum+dist.pmf(i)\n",
    "print(round(sum,4))"
   ]
  },
  {
   "cell_type": "code",
   "execution_count": null,
   "id": "23653a86",
   "metadata": {},
   "outputs": [],
   "source": []
  },
  {
   "cell_type": "markdown",
   "id": "898cbf07",
   "metadata": {},
   "source": [
    "Question 7\n",
    "Rolling the dice\n",
    "A die is rolled n times. You have to find the probability that a number i is rolled at least j times(up to four decimal places)\n",
    "The input will contain the integers n, i and j in three lines respectively. You can assume that j<n and 0<i<7.\n",
    "The output should be rounded off to four decimal places.\n",
    "\n",
    "ans:\n",
    "\n",
    "\n",
    "import scipy.stats as ss\n",
    "\n",
    "n=int(input())\n",
    "i=int(input())\n",
    "j=int(input())\n",
    "\n",
    "dist = ss.binom(n,1/6)\n",
    "print(round(1-dist.cdf(j-1),4))\n"
   ]
  },
  {
   "cell_type": "code",
   "execution_count": null,
   "id": "c8263d9f",
   "metadata": {},
   "outputs": [],
   "source": []
  },
  {
   "cell_type": "markdown",
   "id": "90fa598d",
   "metadata": {},
   "source": [
    "Question 8\n",
    "Lego Stack\n",
    "You are given a row of Lego Blocks consisting of n blocks. All the blocks given have a square base whose side length is known. You need to stack the blocks over each other and create a vertical tower. Block-1 can go over Block-2 only if sideLength(Block-2)>sideLength(Block-1).\n",
    "From the row of Lego blocks, you on only pick up either the leftmost or rightmost block.\n",
    "Print \"Possible\" if it is possible to stack all n cubes this way or else print \"Impossible\".\n",
    "\n",
    "\n",
    "ans;\n",
    "\n",
    "import ast,sys\n",
    "input_str = sys.stdin.read()\n",
    "sides = ast.literal_eval(input_str)#list of side lengths\n",
    "n = len(sides) \n",
    "\n",
    "my_stack = []\n",
    "i = 0\n",
    "\n",
    "while(i < n):\n",
    "    if sides[i] >= sides[n-1]:\n",
    "        my_stack.append(sides[i])\n",
    "        i = i+1\n",
    "    else:\n",
    "        my_stack.append(sides[n-1])\n",
    "        n = n - 1\n",
    "\n",
    "flag = 0\n",
    "i = 1\n",
    "while i < len(my_stack): \n",
    "    if(my_stack[i] > my_stack[i - 1]): \n",
    "        flag = 1\n",
    "    i += 1\n",
    "      \n",
    "\n",
    "if (not flag) : \n",
    "    print (\"Possible\") \n",
    "else : \n",
    "    print (\"Impossible\") "
   ]
  },
  {
   "cell_type": "code",
   "execution_count": null,
   "id": "cf71070f",
   "metadata": {},
   "outputs": [],
   "source": []
  },
  {
   "cell_type": "markdown",
   "id": "b59f324b",
   "metadata": {},
   "source": [
    "# Applications of Sampling Methods  ( Optional )"
   ]
  },
  {
   "cell_type": "markdown",
   "id": "37500d47",
   "metadata": {},
   "source": [
    "Application of Sampling Methods\n",
    "What type of sampling is the easiest to do because of its convenience?\n",
    "\n",
    "\n",
    "Stratified  Sampling\n",
    "\n",
    "\n",
    "Voluntary Sampling\n",
    "\n",
    "\n",
    "Random Sampling\n",
    "\n",
    "\n",
    "Opportunity Sampling      ✓ Correct"
   ]
  },
  {
   "cell_type": "code",
   "execution_count": null,
   "id": "32c15b85",
   "metadata": {},
   "outputs": [],
   "source": []
  },
  {
   "cell_type": "markdown",
   "id": "3dba283b",
   "metadata": {},
   "source": [
    "Application of Sampling Methods\n",
    "In which of the following cases is it advisable to use the concept of random numbers as a sampling technique?\n",
    "\n",
    "\n",
    "Pilot Testing\n",
    "\n",
    "\n",
    "Market Research\n",
    "\n",
    "\n",
    "Quality  Control      ✓ Correct"
   ]
  },
  {
   "cell_type": "code",
   "execution_count": null,
   "id": "08546d7a",
   "metadata": {},
   "outputs": [],
   "source": []
  },
  {
   "cell_type": "markdown",
   "id": "d06b005c",
   "metadata": {},
   "source": [
    "Application of Sampling Methods\n",
    "Which sampling technique is the most useful while conducting market research?\n",
    "\n",
    "\n",
    "Stratified Sampling     ✓ Correct"
   ]
  },
  {
   "cell_type": "code",
   "execution_count": null,
   "id": "7face5ef",
   "metadata": {},
   "outputs": [],
   "source": []
  },
  {
   "cell_type": "markdown",
   "id": "f73f87fb",
   "metadata": {},
   "source": [
    "Application of Sampling Methods\n",
    "In order to plan an effective marketing campaign which of the following techniques is used?\n",
    "\n",
    "\n",
    "Random Sampling followed by A/B testing \n",
    "\n",
    "\n",
    "Voluntary Sampling followed by A/B testing\n",
    "\n",
    "\n",
    "Opportunity Sampling followed by A/B testing\n",
    "\n",
    "\n",
    "Stratified Sampling followed by A/B testing     ✓ Correct"
   ]
  },
  {
   "cell_type": "code",
   "execution_count": null,
   "id": "bd858a36",
   "metadata": {},
   "outputs": [],
   "source": []
  },
  {
   "cell_type": "markdown",
   "id": "d3a0403d",
   "metadata": {},
   "source": [
    "Application of Sampling Methods\n",
    "During the development cycle of any product, the process of gathering feedback and implementing changes to the product after the product has been fully developed, before launching it to the market is known as what?\n",
    "\n",
    "\n",
    "Pilot Testing\n",
    "\n",
    "\n",
    "Beta Testing     ✓ Correct"
   ]
  },
  {
   "cell_type": "code",
   "execution_count": null,
   "id": "00c64786",
   "metadata": {},
   "outputs": [],
   "source": []
  },
  {
   "cell_type": "markdown",
   "id": "c99d2222",
   "metadata": {},
   "source": [
    "# Inferential Statistics - Additional Resources ( optional )"
   ]
  },
  {
   "cell_type": "markdown",
   "id": "80e89c0a",
   "metadata": {},
   "source": [
    "## Assessments I"
   ]
  },
  {
   "cell_type": "code",
   "execution_count": null,
   "id": "43ce8076",
   "metadata": {},
   "outputs": [],
   "source": []
  },
  {
   "cell_type": "markdown",
   "id": "b04d2732",
   "metadata": {},
   "source": [
    "Probability\n",
    "If a card is chosen from a standard deck of cards, what is the probability of it being a five or a seven?\n",
    "\n",
    "\n",
    "4/52\n",
    "\n",
    "\n",
    "1/28\n",
    "\n",
    "\n",
    "2/13   ✓ Correct"
   ]
  },
  {
   "cell_type": "code",
   "execution_count": null,
   "id": "ffcee289",
   "metadata": {},
   "outputs": [],
   "source": []
  },
  {
   "cell_type": "markdown",
   "id": "ef2970b4",
   "metadata": {},
   "source": [
    "Probability\n",
    "If a card is chosen from a standard deck of cards, what is the probability that it is a diamond or a club?\n",
    "\n",
    " \n",
    "\n",
    "\n",
    "1/2   ✓ Correct"
   ]
  },
  {
   "cell_type": "code",
   "execution_count": null,
   "id": "bd07d0a3",
   "metadata": {},
   "outputs": [],
   "source": []
  },
  {
   "cell_type": "markdown",
   "id": "15a5f1c8",
   "metadata": {},
   "source": [
    "Probability\n",
    "If three coins are tossed simultaneously, what is the probability of all of them landing with the heads side facing up?\n",
    "\n",
    "\n",
    "1/3\n",
    "\n",
    "\n",
    "1/8    ✓ Correct"
   ]
  },
  {
   "cell_type": "code",
   "execution_count": null,
   "id": "b2576497",
   "metadata": {},
   "outputs": [],
   "source": []
  },
  {
   "cell_type": "markdown",
   "id": "0f893d37",
   "metadata": {},
   "source": [
    "Probability\n",
    "A bag contains seven red balls and eleven green balls. If a ball is drawn out at random from it, what is the probability that it is red?\n",
    "\n",
    "\n",
    "11/18\n",
    "\n",
    "\n",
    "7/11\n",
    "\n",
    "\n",
    "7/18   ✓ Correct"
   ]
  },
  {
   "cell_type": "code",
   "execution_count": null,
   "id": "17a98db8",
   "metadata": {},
   "outputs": [],
   "source": []
  },
  {
   "cell_type": "markdown",
   "id": "e068dc7d",
   "metadata": {},
   "source": [
    "Probability\n",
    "A card is drawn at random from a deck. What is the probability of it being a face card?\n",
    "\n",
    "\n",
    "3/52\n",
    "\n",
    "\n",
    "4/52\n",
    "\n",
    "\n",
    "3/13    ✓ Correct"
   ]
  },
  {
   "cell_type": "code",
   "execution_count": null,
   "id": "59f88fe1",
   "metadata": {},
   "outputs": [],
   "source": []
  },
  {
   "cell_type": "markdown",
   "id": "912340f3",
   "metadata": {},
   "source": [
    "Probability\n",
    "In a throw of dice, what is the probability of getting a number greater than five?\n",
    "\n",
    "\n",
    "1/6    ✓ Correct"
   ]
  },
  {
   "cell_type": "code",
   "execution_count": null,
   "id": "7dc996a7",
   "metadata": {},
   "outputs": [],
   "source": []
  },
  {
   "cell_type": "markdown",
   "id": "906386df",
   "metadata": {},
   "source": [
    "Probability\n",
    "Two dice are thrown simultaneously. What is the probability that they will display two numbers whose product is even?\n",
    "\n",
    "\n",
    "3/4    ✓ Correct"
   ]
  },
  {
   "cell_type": "code",
   "execution_count": null,
   "id": "4a4c93fd",
   "metadata": {},
   "outputs": [],
   "source": []
  },
  {
   "cell_type": "markdown",
   "id": "81220346",
   "metadata": {},
   "source": [
    "Probability\n",
    "A few cards are numbered from 1 to 20 and are mixed up. One card is then drawn at random. What is the probability that this card has a number that is a multiple of four or nine?\n",
    "\n",
    "\n",
    "1/4\n",
    "\n",
    "\n",
    "3/10\n",
    "\n",
    "\n",
    "1/5\n",
    "\n",
    "\n",
    "7/20    ✓ Correct"
   ]
  },
  {
   "cell_type": "code",
   "execution_count": null,
   "id": "34cc623c",
   "metadata": {},
   "outputs": [],
   "source": []
  },
  {
   "cell_type": "markdown",
   "id": "a21b2f30",
   "metadata": {},
   "source": [
    "Probability\n",
    "A number is selected at random from the first thirty natural numbers. What is the chance that it is a multiple of either three or thirteen?\n",
    "\n",
    "\n",
    "17/30\n",
    "\n",
    "\n",
    "2/5    ✓ Correct"
   ]
  },
  {
   "cell_type": "code",
   "execution_count": null,
   "id": "3bcc0e0b",
   "metadata": {},
   "outputs": [],
   "source": []
  },
  {
   "cell_type": "markdown",
   "id": "3f7d3f2e",
   "metadata": {},
   "source": [
    "Probability\n",
    "Mr. Lee has two children; the first one is a boy. What is the probability that the second child is a girl?\n",
    "\n",
    "\n",
    "1/2     ✓ Correct"
   ]
  },
  {
   "cell_type": "code",
   "execution_count": null,
   "id": "bd4b0730",
   "metadata": {},
   "outputs": [],
   "source": []
  },
  {
   "cell_type": "markdown",
   "id": "6071cc57",
   "metadata": {},
   "source": [
    "Probability\n",
    "A jar contains four marbles: three red ones and one white one. Two marbles are drawn but are replaced after each draw. What is the probability that marbles of the same colour are drawn twice?\n",
    "\n",
    "\n",
    "1/2\n",
    "\n",
    "\n",
    "1/3\n",
    "\n",
    "\n",
    "5/8     ✓ Correct\n"
   ]
  },
  {
   "cell_type": "code",
   "execution_count": null,
   "id": "c3da2cde",
   "metadata": {},
   "outputs": [],
   "source": []
  },
  {
   "cell_type": "markdown",
   "id": "b7973929",
   "metadata": {},
   "source": [
    "Bayes' Theorem\n",
    "There are two bags containing black and white balls. The first bag contains 7 white and 3 black balls, whereas the second one contains 4 white and 6 black balls. Suppose a bag is chosen at random and a ball is picked. If the ball is white, what is the probability that the ball was picked from the second bag?\n",
    "\n",
    "\n",
    "4/11    ✓ Correct"
   ]
  },
  {
   "cell_type": "code",
   "execution_count": null,
   "id": "22b8df29",
   "metadata": {},
   "outputs": [],
   "source": []
  },
  {
   "cell_type": "markdown",
   "id": "1b043dc2",
   "metadata": {},
   "source": [
    "Bayes' Theorem\n",
    "Suppose three students are selected from a class to answer a question. The probabilities of the students answering the question correctly are 0.7, 0.45, and 0.6, respectively. If one of the three students is picked randomly and asked the question and he/she answers it incorrectly, what is the probability that the first student was picked?\n",
    "\n",
    "\n",
    "0.40\n",
    "\n",
    "\n",
    "0.24     ✓ Correct"
   ]
  },
  {
   "cell_type": "code",
   "execution_count": null,
   "id": "4a3d0c22",
   "metadata": {},
   "outputs": [],
   "source": []
  },
  {
   "cell_type": "markdown",
   "id": "51ad9057",
   "metadata": {},
   "source": [
    "Bayes' Theorem\n",
    "Two varieties of drugs are being tested for their effectiveness in curing a certain disease. The first variety has an efficiency of 95%(i.e., it is able to cure the test subjects in 95% of the cases), whereas the second one has an efficiency of 90%. A drug is chosen at random and applied to a test subject. If the test subject fails to show any improvement, what is the probability that the first drug variety was chosen?\n",
    "\n",
    "\n",
    "2/3\n",
    "\n",
    "\n",
    "3/4\n",
    "\n",
    "\n",
    "1/3    ✓ Correct"
   ]
  },
  {
   "cell_type": "code",
   "execution_count": null,
   "id": "9efa17d4",
   "metadata": {},
   "outputs": [],
   "source": []
  },
  {
   "cell_type": "markdown",
   "id": "41671497",
   "metadata": {},
   "source": [
    "Bayes' Theorem\n",
    "Three people in a certain company have the following probabilities of getting promoted — 0.3, 0.6, and 0.9, respectively. If one of them is selected randomly and it is found that he/she has been offered a promotion, what is the probability that it was the second person?\n",
    "\n",
    "\n",
    "1/3    ✓ Correct"
   ]
  },
  {
   "cell_type": "code",
   "execution_count": null,
   "id": "1d22b972",
   "metadata": {},
   "outputs": [],
   "source": []
  },
  {
   "cell_type": "markdown",
   "id": "a842b4d8",
   "metadata": {},
   "source": [
    "Bayes' Theorem\n",
    "2 design prototypes were created for the homepage of an e-commerce website. The first design is 3.6 times more probable of being selected than the second one. The probability of the first design attracting more customers is 2.5 times that of it not doing so. Similarly, the probability of the second one attracting more customers is 0.5. Now, if a design is selected and it is not able to attract more customers, what is the probability that the first design was chosen?\n",
    "\n",
    "\n",
    "0.71\n",
    "\n",
    "\n",
    "0.49\n",
    "\n",
    "\n",
    "0.33\n",
    "\n",
    "\n",
    "0.67     ✓ Correct"
   ]
  },
  {
   "cell_type": "code",
   "execution_count": null,
   "id": "0d991008",
   "metadata": {},
   "outputs": [],
   "source": []
  },
  {
   "cell_type": "markdown",
   "id": "7e9ffe45",
   "metadata": {},
   "source": [
    "## Assessments II"
   ]
  },
  {
   "cell_type": "markdown",
   "id": "05f4c2ea",
   "metadata": {},
   "source": [
    "Normal Distribution\n",
    "The average height (assume heights are normally distributed) of an Indian woman is 152.6 centimetres. Can you determine the median height of Indian women based on this information?\n",
    " \n",
    "\n",
    "\n",
    "Cannot be determined.\n",
    "\n",
    "\n",
    "152.6    ✓ Correct"
   ]
  },
  {
   "cell_type": "code",
   "execution_count": null,
   "id": "9c8d35ec",
   "metadata": {},
   "outputs": [],
   "source": []
  },
  {
   "cell_type": "markdown",
   "id": "280f418b",
   "metadata": {},
   "source": [
    "Normal Distribution\n",
    "If X is a normally distributed random variable, what would the probability of its value lying between µ - σ and µ + 3σ in any given experiment be?\n",
    "\n",
    "\n",
    "73.75%\n",
    "\n",
    "\n",
    "82.85%\n",
    "\n",
    "\n",
    "83.85%    ✓ Correct"
   ]
  },
  {
   "cell_type": "code",
   "execution_count": null,
   "id": "3e393efc",
   "metadata": {},
   "outputs": [],
   "source": []
  },
  {
   "cell_type": "markdown",
   "id": "1a27b3fb",
   "metadata": {},
   "source": [
    "Normal Distribution\n",
    "A normally distributed random variable X has a mean of 5 and a standard deviation of 1.5. What would the probability be of the value of this variable lying between 2 and 6.5 in any experiment?\n",
    "\n",
    "\n",
    "83.5%\n",
    "\n",
    "\n",
    "71.35%\n",
    "\n",
    "\n",
    "81.2%\n",
    "\n",
    "\n",
    "81.5%    ✓ Correct"
   ]
  },
  {
   "cell_type": "code",
   "execution_count": null,
   "id": "e105a2d8",
   "metadata": {},
   "outputs": [],
   "source": []
  },
  {
   "cell_type": "markdown",
   "id": "b7ef3eaa",
   "metadata": {},
   "source": [
    "Normal Distribution\n",
    "What is the value that represents the mean of the data?\n",
    " \n",
    "\n",
    "\n",
    "₹21348.51\n",
    "\n",
    "\n",
    "₹19983.05   ✓ Correct"
   ]
  },
  {
   "cell_type": "code",
   "execution_count": null,
   "id": "8998bcae",
   "metadata": {},
   "outputs": [],
   "source": []
  },
  {
   "cell_type": "markdown",
   "id": "48248cc2",
   "metadata": {},
   "source": [
    "Normal Distribution\n",
    "What is the standard deviation of the data?\n",
    "\n",
    "\n",
    "₹1005.9    ✓ Correct"
   ]
  },
  {
   "cell_type": "code",
   "execution_count": null,
   "id": "d05fd147",
   "metadata": {},
   "outputs": [],
   "source": []
  },
  {
   "cell_type": "markdown",
   "id": "fa8830b0",
   "metadata": {},
   "source": [
    "Normal Distribution\n",
    "What is the probability that the salary of a randomly selected employee is in the range of ₹18,976 to ₹20,989?\n",
    " \n",
    "\n",
    "\n",
    "68%    ✓ Correct"
   ]
  },
  {
   "cell_type": "code",
   "execution_count": null,
   "id": "1512aacc",
   "metadata": {},
   "outputs": [],
   "source": []
  },
  {
   "cell_type": "markdown",
   "id": "415ffd61",
   "metadata": {},
   "source": [
    "Normal Distribution\n",
    "What is the Z-score for the salary of ₹18,000?\n",
    "\n",
    "\n",
    "-1.971   ✓ Correct"
   ]
  },
  {
   "cell_type": "code",
   "execution_count": null,
   "id": "2c4c3292",
   "metadata": {},
   "outputs": [],
   "source": []
  },
  {
   "cell_type": "markdown",
   "id": "d370dfb4",
   "metadata": {},
   "source": [
    "Normal Distribution\n",
    "What is the Z-score for the IQ of 120?\n",
    "\n",
    "\n",
    "2\n",
    "\n",
    "\n",
    "1.33   ✓ Correct"
   ]
  },
  {
   "cell_type": "code",
   "execution_count": null,
   "id": "ef459bef",
   "metadata": {},
   "outputs": [],
   "source": []
  },
  {
   "cell_type": "markdown",
   "id": "82b231f8",
   "metadata": {},
   "source": [
    "Normal Distribution\n",
    "Using Z-table, calculate the probability of a randomly selected person having an IQ between 100 and 120.\n",
    " \n",
    "\n",
    "\n",
    "0.9082\n",
    "\n",
    "\n",
    "\n",
    "0.4082   ✓ Correct"
   ]
  },
  {
   "cell_type": "code",
   "execution_count": null,
   "id": "54c89f06",
   "metadata": {},
   "outputs": [],
   "source": []
  },
  {
   "cell_type": "markdown",
   "id": "f88225f7",
   "metadata": {},
   "source": [
    "Normal Distribution\n",
    "Using Z-table, calculate the probability that a randomly selected person has an IQ greater than 120.\n",
    "\n",
    "\n",
    "0.918\n",
    "\n",
    "\n",
    "0.0918    ✓ Correct"
   ]
  },
  {
   "cell_type": "code",
   "execution_count": null,
   "id": "87f97657",
   "metadata": {},
   "outputs": [],
   "source": []
  },
  {
   "cell_type": "code",
   "execution_count": null,
   "id": "4543adfa",
   "metadata": {},
   "outputs": [],
   "source": [
    "Normal Distribution\n",
    "Using Z-table, calculate the probability of a randomly selected person having an IQ less than 80.\n",
    " \n",
    "\n",
    "\n",
    "0.918\n",
    "\n",
    "\n",
    "0.0918   ✓ Correct"
   ]
  },
  {
   "cell_type": "code",
   "execution_count": null,
   "id": "5f66e06d",
   "metadata": {},
   "outputs": [],
   "source": [
    "import jovian"
   ]
  },
  {
   "cell_type": "code",
   "execution_count": 1,
   "id": "0d0ae25d",
   "metadata": {},
   "outputs": [
    {
     "data": {
      "application/javascript": [
       "window.require && require([\"base/js/namespace\"],function(Jupyter){Jupyter.notebook.save_checkpoint()})"
      ],
      "text/plain": [
       "<IPython.core.display.Javascript object>"
      ]
     },
     "metadata": {},
     "output_type": "display_data"
    },
    {
     "name": "stdout",
     "output_type": "stream",
     "text": [
      "[jovian] Updating notebook \"ashutoshgole18/module-8-inferential-statistics\" on https://jovian.ai/\u001b[0m\n",
      "[jovian] Committed successfully! https://jovian.ai/ashutoshgole18/module-8-inferential-statistics\u001b[0m\n"
     ]
    },
    {
     "data": {
      "text/plain": [
       "'https://jovian.ai/ashutoshgole18/module-8-inferential-statistics'"
      ]
     },
     "execution_count": 1,
     "metadata": {},
     "output_type": "execute_result"
    }
   ],
   "source": [
    "jovian.commit()"
   ]
  },
  {
   "cell_type": "code",
   "execution_count": null,
   "id": "d9cefb4d",
   "metadata": {},
   "outputs": [],
   "source": []
  }
 ],
 "metadata": {
  "kernelspec": {
   "display_name": "Python 3 (ipykernel)",
   "language": "python",
   "name": "python3"
  },
  "language_info": {
   "codemirror_mode": {
    "name": "ipython",
    "version": 3
   },
   "file_extension": ".py",
   "mimetype": "text/x-python",
   "name": "python",
   "nbconvert_exporter": "python",
   "pygments_lexer": "ipython3",
   "version": "3.9.7"
  }
 },
 "nbformat": 4,
 "nbformat_minor": 5
}
