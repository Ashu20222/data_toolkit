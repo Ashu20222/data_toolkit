{
 "cells": [
  {
   "cell_type": "markdown",
   "id": "431001d4",
   "metadata": {},
   "source": [
    "# Graded Questions - I"
   ]
  },
  {
   "cell_type": "markdown",
   "id": "32559b04",
   "metadata": {},
   "source": [
    "Match the Columns\n",
    "Match the following with the appropriate SQL command.\n",
    "\n",
    "\n",
    "a-I, b-II, c-III, d-IV\n",
    "\n",
    "\n",
    "a-IV, b-III, c-II, d-I\n",
    "\n",
    "\n",
    "a-III, b-I, c-II, d-IV\n",
    "\n",
    "\n",
    "a-III, b-IV, c-I, d-II    ✓ Correct"
   ]
  },
  {
   "cell_type": "code",
   "execution_count": null,
   "id": "6fa34fc3",
   "metadata": {},
   "outputs": [],
   "source": []
  },
  {
   "cell_type": "markdown",
   "id": "4f6f6c4e",
   "metadata": {},
   "source": [
    "String Functions\n",
    "What will be the output of the following query?\n",
    "\n",
    "select reverse(substring('Sachin Tendulkar', -7, 3));\n",
    "\n",
    "\n",
    "ndu\n",
    "\n",
    "\n",
    "udn    ✓ Correct"
   ]
  },
  {
   "cell_type": "code",
   "execution_count": null,
   "id": "4fc57aa3",
   "metadata": {},
   "outputs": [],
   "source": []
  },
  {
   "cell_type": "markdown",
   "id": "f750c288",
   "metadata": {},
   "source": [
    "Benefits of a Data Warehouse\n",
    "As an analyst working for a PAN India chain of hospitals, you have to convince the upper management to invest in building a data warehouse architecture. Which of the following is not a good reason in support of a data warehouse?\n",
    "\n",
    "\n",
    "It will give a holistic view of various departments across hospital branches in different cities and, thus, help in better planning.\n",
    "\n",
    "\n",
    "A data warehouse will make it easier to enter and update all patient-related information, as all the information would be stored in one place.     ✓ Correct"
   ]
  },
  {
   "cell_type": "code",
   "execution_count": null,
   "id": "e2b24fed",
   "metadata": {},
   "outputs": [],
   "source": []
  },
  {
   "cell_type": "markdown",
   "id": "3ea327cd",
   "metadata": {},
   "source": [
    "Facts and Dimensions\n",
    "Suppose you are an analyst at a bank, and you have a data file with the following six variables:\n",
    "\n",
    "Withdrawal amount\n",
    "Account balance after withdrawal\n",
    "Transaction charge amount\n",
    "Customer ID\n",
    "ATM ID\n",
    "Date of withdrawal\n",
    "Based on a star schema, how many dimension variables would you need in order to determine the number of withdrawals made in Puducherry by a customer named Rohit Sharma?\n",
    "\n",
    "\n",
    "At least 3\n",
    "\n",
    "\n",
    "At least 1\n",
    "\n",
    "\n",
    "At least 4\n",
    "\n",
    "\n",
    "At least 2     ✓ Correct"
   ]
  },
  {
   "cell_type": "code",
   "execution_count": null,
   "id": "862def94",
   "metadata": {},
   "outputs": [],
   "source": []
  },
  {
   "cell_type": "markdown",
   "id": "82c51645",
   "metadata": {},
   "source": [
    "# Graded Questions - II"
   ]
  },
  {
   "cell_type": "markdown",
   "id": "a1e5e8e4",
   "metadata": {},
   "source": [
    "Busiest Actor\n",
    "Description\n",
    "Write a query to find the full name of the actor who has acted in the maximum number of movies.\n",
    "\n",
    "\n",
    "\n",
    "Sample Output\n",
    "\n",
    "Full_name\n",
    "\n",
    "PENELOPE GUINESS\n",
    "\n",
    "ans:\n",
    "    \n",
    "use upgrad;\n",
    "\n",
    "select concat(First_name, ' ', Last_name) as Full_name\n",
    "from actor a\n",
    "inner join film_actor f\n",
    "using (actor_id)\n",
    "group by f.actor_id\n",
    "order by count(f.actor_id) desc\n",
    "limit 1;"
   ]
  },
  {
   "cell_type": "code",
   "execution_count": null,
   "id": "80ecab75",
   "metadata": {},
   "outputs": [],
   "source": []
  },
  {
   "cell_type": "markdown",
   "id": "169ced19",
   "metadata": {},
   "source": [
    "Third most Busy Actor\n",
    "Description\n",
    "Write a query to find the full name of the actor who has acted in the third most number of movies.\n",
    "\n",
    "\n",
    "\n",
    "Sample Output\n",
    "\n",
    "Actor_name\n",
    "\n",
    "PENELOPE GUINESS\n",
    "\n",
    "ans:\n",
    "    \n",
    "use upgrad;\n",
    "\n",
    "select concat(first_name, ' ', last_name) as Actor_name\n",
    "from actor\n",
    "inner join film_actor\n",
    "using (actor_id)\n",
    "group by actor_name\n",
    "order by count(film_id) desc\n",
    "limit 2, 1;"
   ]
  },
  {
   "cell_type": "code",
   "execution_count": null,
   "id": "8a60b60d",
   "metadata": {},
   "outputs": [],
   "source": []
  },
  {
   "cell_type": "markdown",
   "id": "258de575",
   "metadata": {},
   "source": [
    "Highest Grossing Film\n",
    "Description\n",
    "Write a query to find the film which grossed the highest revenue for the video renting organisation.\n",
    "\n",
    "\n",
    "\n",
    "Sample Output\n",
    "\n",
    "title\n",
    "\n",
    "ACADEMY DINOSAUR\n",
    "\n",
    "ans:\n",
    "    \n",
    "use upgrad;\n",
    "\n",
    "select Title\n",
    "from film\n",
    "inner join inventory\n",
    "using (film_id)\n",
    "inner join rental\n",
    "using (inventory_id)\n",
    "inner join payment\n",
    "using (rental_id)\n",
    "group by title\n",
    "order by sum(amount) desc\n",
    "limit 1;"
   ]
  },
  {
   "cell_type": "code",
   "execution_count": null,
   "id": "49fcf1d2",
   "metadata": {},
   "outputs": [],
   "source": []
  },
  {
   "cell_type": "markdown",
   "id": "25177d21",
   "metadata": {},
   "source": [
    "# Graded Questions - III"
   ]
  },
  {
   "cell_type": "markdown",
   "id": "3a29caff",
   "metadata": {},
   "source": [
    "Film-obsessed City\n",
    "Description\n",
    "Write a query to find the city which generated the maximum revenue for the organisation.\n",
    "\n",
    "\n",
    "\n",
    "Sample Output\n",
    "\n",
    "city\n",
    "\n",
    "Abu Dhabi\n",
    "\n",
    "ans:\n",
    "    \n",
    "use upgrad;\n",
    "\n",
    "select City\n",
    "from city\n",
    "inner join address\n",
    "using (city_id)\n",
    "inner join customer\n",
    "using (address_id)\n",
    "inner join payment\n",
    "using (customer_id)\n",
    "group by city\n",
    "order by sum(amount) desc\n",
    "limit 1;"
   ]
  },
  {
   "cell_type": "code",
   "execution_count": null,
   "id": "c9a1698f",
   "metadata": {},
   "outputs": [],
   "source": []
  },
  {
   "cell_type": "markdown",
   "id": "1f3d5902",
   "metadata": {},
   "source": [
    "# Graded Questions - IV"
   ]
  },
  {
   "cell_type": "markdown",
   "id": "1671f3d0",
   "metadata": {},
   "source": [
    "Analysis of Movie Categories\n",
    "Description\n",
    "Write a query to find out how many times a particular movie category is rented. Arrange these categories in the decreasing order of the number of times they are rented.\n",
    "\n",
    "ans:\n",
    "    \n",
    "use upgrad;\n",
    "\n",
    "select Name, count(rental_id) as Rental_count\n",
    "from category\n",
    "inner join film_category\n",
    "using (category_id)\n",
    "inner join film\n",
    "using (film_id)\n",
    "inner join inventory\n",
    "using (film_id)\n",
    "inner join rental\n",
    "using (inventory_id)\n",
    "group by name\n",
    "order by Rental_count desc;"
   ]
  },
  {
   "cell_type": "code",
   "execution_count": null,
   "id": "69effaa5",
   "metadata": {},
   "outputs": [],
   "source": []
  },
  {
   "cell_type": "markdown",
   "id": "4c64feed",
   "metadata": {},
   "source": [
    "Science Fiction Enthusiasts\n",
    "Description\n",
    "Write a query to find the full names of customers who have rented sci-fi movies more than 2 times. Arrange these names in the alphabetical order.\n",
    "\n",
    "\n",
    "\n",
    "Sample Output\n",
    "\n",
    "Customer_name\n",
    "\n",
    "MARY SMITH\n",
    "\n",
    "ans:\n",
    "    \n",
    "use upgrad;\n",
    "\n",
    "select concat(first_name, ' ', last_name) as Customer_name\n",
    "from category\n",
    "inner join film_category\n",
    "using (category_id)\n",
    "inner join film\n",
    "using (film_id)\n",
    "inner join inventory\n",
    "using (film_id)\n",
    "inner join rental\n",
    "using (inventory_id)\n",
    "inner join customer\n",
    "using (customer_id)\n",
    "where name = 'Sci-Fi'\n",
    "group by Customer_name\n",
    "having count(rental_id) > 2\n",
    "order by Customer_name;"
   ]
  },
  {
   "cell_type": "code",
   "execution_count": null,
   "id": "9e0a8a11",
   "metadata": {},
   "outputs": [],
   "source": []
  },
  {
   "cell_type": "markdown",
   "id": "2a3ffe54",
   "metadata": {},
   "source": [
    "# Graded Questions - V"
   ]
  },
  {
   "cell_type": "markdown",
   "id": "e2ec36fa",
   "metadata": {},
   "source": [
    "Movie Fans from Arlington\n",
    "Description\n",
    "Write a query to find the full names of those customers who have rented at least one movie and belong to the city Arlington.\n",
    "\n",
    "\n",
    "\n",
    "Sample Output\n",
    "\n",
    "Customer_name\n",
    "\n",
    "MARY SMITH\n",
    "\n",
    "ans:\n",
    "    \n",
    "use upgrad;\n",
    "\n",
    "select concat(first_name, ' ', last_name) as Customer_name\n",
    "from rental\n",
    "inner join customer\n",
    "using (customer_id)\n",
    "inner join address\n",
    "using (address_id)\n",
    "inner join city\n",
    "using (city_id)\n",
    "where city = 'Arlington'\n",
    "group by Customer_name;"
   ]
  },
  {
   "cell_type": "code",
   "execution_count": null,
   "id": "1b5e2408",
   "metadata": {},
   "outputs": [],
   "source": []
  },
  {
   "cell_type": "markdown",
   "id": "8f1867d4",
   "metadata": {},
   "source": [
    "Country-wise Analysis of Movies\n",
    "Description\n",
    "Write a query to find the number of movies rented across each country. Display only those countries where at least one movie was rented. Arrange these countries in the alphabetical order.\n",
    "\n",
    "ans:\n",
    "    \n",
    "\n",
    "select Country, count(rental_id) as Rental_count\n",
    "from rental\n",
    "inner join customer\n",
    "using (customer_id)\n",
    "inner join address\n",
    "using (address_id)\n",
    "inner join city\n",
    "using (city_id)\n",
    "inner join country\n",
    "using (country_id)\n",
    "group by country\n",
    "order by country;"
   ]
  },
  {
   "cell_type": "code",
   "execution_count": null,
   "id": "e92cd188",
   "metadata": {},
   "outputs": [],
   "source": []
  },
  {
   "cell_type": "code",
   "execution_count": null,
   "id": "b1ec5746",
   "metadata": {},
   "outputs": [],
   "source": [
    "import jovian"
   ]
  },
  {
   "cell_type": "code",
   "execution_count": 2,
   "id": "b65b14d7",
   "metadata": {},
   "outputs": [
    {
     "data": {
      "application/javascript": [
       "window.require && require([\"base/js/namespace\"],function(Jupyter){Jupyter.notebook.save_checkpoint()})"
      ],
      "text/plain": [
       "<IPython.core.display.Javascript object>"
      ]
     },
     "metadata": {},
     "output_type": "display_data"
    },
    {
     "name": "stdout",
     "output_type": "stream",
     "text": [
      "[jovian] Updating notebook \"ashutoshgole18/module-11-introduction-to-mysql-graded-questions\" on https://jovian.ai/\u001b[0m\n",
      "[jovian] Committed successfully! https://jovian.ai/ashutoshgole18/module-11-introduction-to-mysql-graded-questions\u001b[0m\n"
     ]
    },
    {
     "data": {
      "text/plain": [
       "'https://jovian.ai/ashutoshgole18/module-11-introduction-to-mysql-graded-questions'"
      ]
     },
     "execution_count": 2,
     "metadata": {},
     "output_type": "execute_result"
    }
   ],
   "source": [
    "jovian.commit()"
   ]
  },
  {
   "cell_type": "code",
   "execution_count": null,
   "id": "b2ffee2e",
   "metadata": {},
   "outputs": [],
   "source": []
  }
 ],
 "metadata": {
  "kernelspec": {
   "display_name": "Python 3 (ipykernel)",
   "language": "python",
   "name": "python3"
  },
  "language_info": {
   "codemirror_mode": {
    "name": "ipython",
    "version": 3
   },
   "file_extension": ".py",
   "mimetype": "text/x-python",
   "name": "python",
   "nbconvert_exporter": "python",
   "pygments_lexer": "ipython3",
   "version": "3.9.7"
  }
 },
 "nbformat": 4,
 "nbformat_minor": 5
}
